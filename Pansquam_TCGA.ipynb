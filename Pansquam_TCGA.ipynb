{
 "cells": [
  {
   "cell_type": "markdown",
   "metadata": {},
   "source": [
    "## Install packages"
   ]
  },
  {
   "cell_type": "code",
   "execution_count": 1,
   "metadata": {},
   "outputs": [],
   "source": [
    "import pandas as pd\n",
    "import numpy as np\n",
    "import matplotlib.pyplot as plt\n",
    "import seaborn as sns\n",
    "from sklearn.decomposition import NMF\n",
    "from numpy import asarray\n",
    "from numpy import savetxt\n",
    "import matplotlib.colors as mcolors\n",
    "import matplotlib.cm\n",
    "import matplotlib.patches as mpatches\n",
    "import umap\n",
    "import matplotlib as mpl\n",
    "import scanpy as sc\n",
    "import scipy\n",
    "import kmapper as km\n",
    "from kmapper import jupyter\n",
    "from kmapper.plotlyviz import plotlyviz\n",
    "from kmapper.plotlyviz import *\n",
    "import plotly.graph_objs as go\n",
    "import sys\n",
    "from sklearn import ensemble\n",
    "import tqdm\n",
    "from ripser import Rips\n",
    "from ripser import ripser\n",
    "from persim import plot_diagrams\n",
    "from sklearn.metrics.pairwise import euclidean_distances"
   ]
  },
  {
   "cell_type": "markdown",
   "metadata": {},
   "source": [
    "## Read in data"
   ]
  },
  {
   "cell_type": "code",
   "execution_count": 2,
   "metadata": {},
   "outputs": [
    {
     "name": "stdout",
     "output_type": "stream",
     "text": [
      "Data shape: (23862, 1229)\n"
     ]
    }
   ],
   "source": [
    "pd_data = pd.read_csv(\"sc_Normalized.csv\", sep=',', header = 0, index_col = 0)\n",
    "np_data = pd_data.values \n",
    "\n",
    "pd_hnsc_data = pd.read_csv(\"hnsc_Normalized_na.csv\", sep=',', header = 0, index_col = 0)\n",
    "np_hnsc_data = pd_hnsc_data.values\n",
    "N_hnsc = np_hnsc_data.shape[1]\n",
    "\n",
    "np_data = np.append(np_data, np_hnsc_data, axis = 1)\n",
    "labels = np.append(np.array(pd_data.columns), np.array(pd_hnsc_data.columns))\n",
    "\n",
    "pd_data = pd.DataFrame(np_data, index = pd_data.index, columns = labels)\n",
    "np_data = pd_data.values\n",
    "print(\"Data shape: \"+repr(np_data.shape))"
   ]
  },
  {
   "cell_type": "code",
   "execution_count": 3,
   "metadata": {},
   "outputs": [
    {
     "data": {
      "text/html": [
       "<div>\n",
       "<style scoped>\n",
       "    .dataframe tbody tr th:only-of-type {\n",
       "        vertical-align: middle;\n",
       "    }\n",
       "\n",
       "    .dataframe tbody tr th {\n",
       "        vertical-align: top;\n",
       "    }\n",
       "\n",
       "    .dataframe thead th {\n",
       "        text-align: right;\n",
       "    }\n",
       "</style>\n",
       "<table border=\"1\" class=\"dataframe\">\n",
       "  <thead>\n",
       "    <tr style=\"text-align: right;\">\n",
       "      <th></th>\n",
       "      <th>TCGA-56-6546</th>\n",
       "      <th>TCGA-85-A50Z</th>\n",
       "      <th>TCGA-18-3409</th>\n",
       "      <th>TCGA-52-7809</th>\n",
       "      <th>TCGA-21-1080</th>\n",
       "      <th>TCGA-77-8008</th>\n",
       "      <th>TCGA-66-2780</th>\n",
       "      <th>TCGA-56-8083</th>\n",
       "      <th>TCGA-85-7843</th>\n",
       "      <th>TCGA-63-A5M9</th>\n",
       "      <th>...</th>\n",
       "      <th>TCGA-CQ-5323</th>\n",
       "      <th>TCGA-CV-7263</th>\n",
       "      <th>TCGA-CV-6945</th>\n",
       "      <th>TCGA-P3-A5QE</th>\n",
       "      <th>TCGA-CV-7423</th>\n",
       "      <th>TCGA-CN-5364</th>\n",
       "      <th>TCGA-CQ-A4CD</th>\n",
       "      <th>TCGA-CN-A63V</th>\n",
       "      <th>TCGA-CV-A45R</th>\n",
       "      <th>TCGA-CV-7178</th>\n",
       "    </tr>\n",
       "  </thead>\n",
       "  <tbody>\n",
       "    <tr>\n",
       "      <th>TSPAN6</th>\n",
       "      <td>3180.613507</td>\n",
       "      <td>4703.080581</td>\n",
       "      <td>6705.466751</td>\n",
       "      <td>3713.704395</td>\n",
       "      <td>3814.302200</td>\n",
       "      <td>1573.335345</td>\n",
       "      <td>2857.464784</td>\n",
       "      <td>2662.462678</td>\n",
       "      <td>5782.545432</td>\n",
       "      <td>4361.557659</td>\n",
       "      <td>...</td>\n",
       "      <td>1021.100269</td>\n",
       "      <td>1466.900840</td>\n",
       "      <td>2144.201236</td>\n",
       "      <td>1733.959094</td>\n",
       "      <td>1096.718307</td>\n",
       "      <td>2096.943466</td>\n",
       "      <td>1833.868831</td>\n",
       "      <td>1527.335057</td>\n",
       "      <td>2819.439259</td>\n",
       "      <td>1940.753958</td>\n",
       "    </tr>\n",
       "    <tr>\n",
       "      <th>DPM1</th>\n",
       "      <td>3781.097860</td>\n",
       "      <td>2319.455297</td>\n",
       "      <td>1864.633379</td>\n",
       "      <td>2833.243722</td>\n",
       "      <td>1800.001604</td>\n",
       "      <td>1266.256912</td>\n",
       "      <td>3216.634485</td>\n",
       "      <td>1508.695491</td>\n",
       "      <td>3513.054393</td>\n",
       "      <td>2490.653460</td>\n",
       "      <td>...</td>\n",
       "      <td>1588.109661</td>\n",
       "      <td>2394.488379</td>\n",
       "      <td>2403.343983</td>\n",
       "      <td>1547.867124</td>\n",
       "      <td>2721.404388</td>\n",
       "      <td>2046.606271</td>\n",
       "      <td>2315.854840</td>\n",
       "      <td>1263.007786</td>\n",
       "      <td>2108.765802</td>\n",
       "      <td>692.570945</td>\n",
       "    </tr>\n",
       "    <tr>\n",
       "      <th>SCYL3</th>\n",
       "      <td>480.843966</td>\n",
       "      <td>503.410487</td>\n",
       "      <td>637.085032</td>\n",
       "      <td>1398.868769</td>\n",
       "      <td>777.626168</td>\n",
       "      <td>855.090701</td>\n",
       "      <td>736.469487</td>\n",
       "      <td>1065.784931</td>\n",
       "      <td>472.680063</td>\n",
       "      <td>831.569911</td>\n",
       "      <td>...</td>\n",
       "      <td>753.777945</td>\n",
       "      <td>630.294418</td>\n",
       "      <td>258.178407</td>\n",
       "      <td>997.197964</td>\n",
       "      <td>638.783985</td>\n",
       "      <td>537.439032</td>\n",
       "      <td>652.389446</td>\n",
       "      <td>457.053390</td>\n",
       "      <td>818.712218</td>\n",
       "      <td>1422.743321</td>\n",
       "    </tr>\n",
       "    <tr>\n",
       "      <th>c1orf112</th>\n",
       "      <td>664.255908</td>\n",
       "      <td>581.650216</td>\n",
       "      <td>378.189488</td>\n",
       "      <td>1400.235732</td>\n",
       "      <td>624.310367</td>\n",
       "      <td>409.618975</td>\n",
       "      <td>700.903288</td>\n",
       "      <td>1117.774455</td>\n",
       "      <td>428.289652</td>\n",
       "      <td>1545.047152</td>\n",
       "      <td>...</td>\n",
       "      <td>498.952471</td>\n",
       "      <td>442.215564</td>\n",
       "      <td>400.385580</td>\n",
       "      <td>986.846130</td>\n",
       "      <td>867.278540</td>\n",
       "      <td>836.942126</td>\n",
       "      <td>932.572739</td>\n",
       "      <td>489.935937</td>\n",
       "      <td>293.403503</td>\n",
       "      <td>921.423417</td>\n",
       "    </tr>\n",
       "    <tr>\n",
       "      <th>FGR</th>\n",
       "      <td>1961.311697</td>\n",
       "      <td>2535.247808</td>\n",
       "      <td>1215.023137</td>\n",
       "      <td>399.744952</td>\n",
       "      <td>555.042656</td>\n",
       "      <td>1062.657755</td>\n",
       "      <td>785.929771</td>\n",
       "      <td>242.950898</td>\n",
       "      <td>1222.517650</td>\n",
       "      <td>599.236106</td>\n",
       "      <td>...</td>\n",
       "      <td>231.862926</td>\n",
       "      <td>1008.671889</td>\n",
       "      <td>152.462647</td>\n",
       "      <td>406.202706</td>\n",
       "      <td>75.825798</td>\n",
       "      <td>557.931328</td>\n",
       "      <td>234.319789</td>\n",
       "      <td>321.957888</td>\n",
       "      <td>459.678622</td>\n",
       "      <td>446.185776</td>\n",
       "    </tr>\n",
       "    <tr>\n",
       "      <th>...</th>\n",
       "      <td>...</td>\n",
       "      <td>...</td>\n",
       "      <td>...</td>\n",
       "      <td>...</td>\n",
       "      <td>...</td>\n",
       "      <td>...</td>\n",
       "      <td>...</td>\n",
       "      <td>...</td>\n",
       "      <td>...</td>\n",
       "      <td>...</td>\n",
       "      <td>...</td>\n",
       "      <td>...</td>\n",
       "      <td>...</td>\n",
       "      <td>...</td>\n",
       "      <td>...</td>\n",
       "      <td>...</td>\n",
       "      <td>...</td>\n",
       "      <td>...</td>\n",
       "      <td>...</td>\n",
       "      <td>...</td>\n",
       "      <td>...</td>\n",
       "    </tr>\n",
       "    <tr>\n",
       "      <th>ENSG00000281789</th>\n",
       "      <td>7.766299</td>\n",
       "      <td>3.558203</td>\n",
       "      <td>5.713695</td>\n",
       "      <td>13.494845</td>\n",
       "      <td>7.373036</td>\n",
       "      <td>7.554291</td>\n",
       "      <td>9.528246</td>\n",
       "      <td>19.996060</td>\n",
       "      <td>3.424476</td>\n",
       "      <td>13.977688</td>\n",
       "      <td>...</td>\n",
       "      <td>9.426400</td>\n",
       "      <td>4.892826</td>\n",
       "      <td>9.375999</td>\n",
       "      <td>3.647902</td>\n",
       "      <td>3.883333</td>\n",
       "      <td>0.801538</td>\n",
       "      <td>21.089220</td>\n",
       "      <td>4.723877</td>\n",
       "      <td>3.192649</td>\n",
       "      <td>0.000000</td>\n",
       "    </tr>\n",
       "    <tr>\n",
       "      <th>ENSG00000281849</th>\n",
       "      <td>9.841254</td>\n",
       "      <td>2.387838</td>\n",
       "      <td>3.443572</td>\n",
       "      <td>23.330929</td>\n",
       "      <td>10.172457</td>\n",
       "      <td>3.737742</td>\n",
       "      <td>5.180793</td>\n",
       "      <td>14.997090</td>\n",
       "      <td>7.027841</td>\n",
       "      <td>1.582234</td>\n",
       "      <td>...</td>\n",
       "      <td>9.402240</td>\n",
       "      <td>1.305676</td>\n",
       "      <td>8.437996</td>\n",
       "      <td>8.223248</td>\n",
       "      <td>0.962755</td>\n",
       "      <td>4.243175</td>\n",
       "      <td>1.161711</td>\n",
       "      <td>7.027676</td>\n",
       "      <td>4.245588</td>\n",
       "      <td>1.958544</td>\n",
       "    </tr>\n",
       "    <tr>\n",
       "      <th>ENSG00000281896</th>\n",
       "      <td>23.410909</td>\n",
       "      <td>25.728023</td>\n",
       "      <td>15.941094</td>\n",
       "      <td>35.656925</td>\n",
       "      <td>46.186697</td>\n",
       "      <td>51.737766</td>\n",
       "      <td>15.571968</td>\n",
       "      <td>28.994117</td>\n",
       "      <td>59.287531</td>\n",
       "      <td>41.874191</td>\n",
       "      <td>...</td>\n",
       "      <td>29.941487</td>\n",
       "      <td>24.643996</td>\n",
       "      <td>18.699313</td>\n",
       "      <td>23.712000</td>\n",
       "      <td>26.252187</td>\n",
       "      <td>27.307912</td>\n",
       "      <td>20.193091</td>\n",
       "      <td>10.632666</td>\n",
       "      <td>24.361902</td>\n",
       "      <td>39.262258</td>\n",
       "    </tr>\n",
       "    <tr>\n",
       "      <th>ENSG00000281903</th>\n",
       "      <td>3.794517</td>\n",
       "      <td>3.561565</td>\n",
       "      <td>6.851476</td>\n",
       "      <td>2.575533</td>\n",
       "      <td>18.483294</td>\n",
       "      <td>16.742106</td>\n",
       "      <td>22.600684</td>\n",
       "      <td>2.999324</td>\n",
       "      <td>1.305884</td>\n",
       "      <td>3.220589</td>\n",
       "      <td>...</td>\n",
       "      <td>5.580770</td>\n",
       "      <td>4.111562</td>\n",
       "      <td>24.347269</td>\n",
       "      <td>7.331523</td>\n",
       "      <td>36.974288</td>\n",
       "      <td>6.776358</td>\n",
       "      <td>7.882718</td>\n",
       "      <td>9.442742</td>\n",
       "      <td>28.563100</td>\n",
       "      <td>14.394650</td>\n",
       "    </tr>\n",
       "    <tr>\n",
       "      <th>LINC01144</th>\n",
       "      <td>78.973246</td>\n",
       "      <td>56.085071</td>\n",
       "      <td>51.126795</td>\n",
       "      <td>123.333648</td>\n",
       "      <td>98.837383</td>\n",
       "      <td>21.196043</td>\n",
       "      <td>45.077840</td>\n",
       "      <td>141.971480</td>\n",
       "      <td>28.084079</td>\n",
       "      <td>23.743449</td>\n",
       "      <td>...</td>\n",
       "      <td>58.478587</td>\n",
       "      <td>50.772073</td>\n",
       "      <td>28.989851</td>\n",
       "      <td>84.011089</td>\n",
       "      <td>6.794528</td>\n",
       "      <td>15.303489</td>\n",
       "      <td>13.496457</td>\n",
       "      <td>17.680469</td>\n",
       "      <td>32.840077</td>\n",
       "      <td>28.088488</td>\n",
       "    </tr>\n",
       "  </tbody>\n",
       "</table>\n",
       "<p>23862 rows × 1229 columns</p>\n",
       "</div>"
      ],
      "text/plain": [
       "                 TCGA-56-6546  TCGA-85-A50Z  TCGA-18-3409  TCGA-52-7809  \\\n",
       "TSPAN6            3180.613507   4703.080581   6705.466751   3713.704395   \n",
       "DPM1              3781.097860   2319.455297   1864.633379   2833.243722   \n",
       "SCYL3              480.843966    503.410487    637.085032   1398.868769   \n",
       "c1orf112           664.255908    581.650216    378.189488   1400.235732   \n",
       "FGR               1961.311697   2535.247808   1215.023137    399.744952   \n",
       "...                       ...           ...           ...           ...   \n",
       "ENSG00000281789      7.766299      3.558203      5.713695     13.494845   \n",
       "ENSG00000281849      9.841254      2.387838      3.443572     23.330929   \n",
       "ENSG00000281896     23.410909     25.728023     15.941094     35.656925   \n",
       "ENSG00000281903      3.794517      3.561565      6.851476      2.575533   \n",
       "LINC01144           78.973246     56.085071     51.126795    123.333648   \n",
       "\n",
       "                 TCGA-21-1080  TCGA-77-8008  TCGA-66-2780  TCGA-56-8083  \\\n",
       "TSPAN6            3814.302200   1573.335345   2857.464784   2662.462678   \n",
       "DPM1              1800.001604   1266.256912   3216.634485   1508.695491   \n",
       "SCYL3              777.626168    855.090701    736.469487   1065.784931   \n",
       "c1orf112           624.310367    409.618975    700.903288   1117.774455   \n",
       "FGR                555.042656   1062.657755    785.929771    242.950898   \n",
       "...                       ...           ...           ...           ...   \n",
       "ENSG00000281789      7.373036      7.554291      9.528246     19.996060   \n",
       "ENSG00000281849     10.172457      3.737742      5.180793     14.997090   \n",
       "ENSG00000281896     46.186697     51.737766     15.571968     28.994117   \n",
       "ENSG00000281903     18.483294     16.742106     22.600684      2.999324   \n",
       "LINC01144           98.837383     21.196043     45.077840    141.971480   \n",
       "\n",
       "                 TCGA-85-7843  TCGA-63-A5M9  ...  TCGA-CQ-5323  TCGA-CV-7263  \\\n",
       "TSPAN6            5782.545432   4361.557659  ...   1021.100269   1466.900840   \n",
       "DPM1              3513.054393   2490.653460  ...   1588.109661   2394.488379   \n",
       "SCYL3              472.680063    831.569911  ...    753.777945    630.294418   \n",
       "c1orf112           428.289652   1545.047152  ...    498.952471    442.215564   \n",
       "FGR               1222.517650    599.236106  ...    231.862926   1008.671889   \n",
       "...                       ...           ...  ...           ...           ...   \n",
       "ENSG00000281789      3.424476     13.977688  ...      9.426400      4.892826   \n",
       "ENSG00000281849      7.027841      1.582234  ...      9.402240      1.305676   \n",
       "ENSG00000281896     59.287531     41.874191  ...     29.941487     24.643996   \n",
       "ENSG00000281903      1.305884      3.220589  ...      5.580770      4.111562   \n",
       "LINC01144           28.084079     23.743449  ...     58.478587     50.772073   \n",
       "\n",
       "                 TCGA-CV-6945  TCGA-P3-A5QE  TCGA-CV-7423  TCGA-CN-5364  \\\n",
       "TSPAN6            2144.201236   1733.959094   1096.718307   2096.943466   \n",
       "DPM1              2403.343983   1547.867124   2721.404388   2046.606271   \n",
       "SCYL3              258.178407    997.197964    638.783985    537.439032   \n",
       "c1orf112           400.385580    986.846130    867.278540    836.942126   \n",
       "FGR                152.462647    406.202706     75.825798    557.931328   \n",
       "...                       ...           ...           ...           ...   \n",
       "ENSG00000281789      9.375999      3.647902      3.883333      0.801538   \n",
       "ENSG00000281849      8.437996      8.223248      0.962755      4.243175   \n",
       "ENSG00000281896     18.699313     23.712000     26.252187     27.307912   \n",
       "ENSG00000281903     24.347269      7.331523     36.974288      6.776358   \n",
       "LINC01144           28.989851     84.011089      6.794528     15.303489   \n",
       "\n",
       "                 TCGA-CQ-A4CD  TCGA-CN-A63V  TCGA-CV-A45R  TCGA-CV-7178  \n",
       "TSPAN6            1833.868831   1527.335057   2819.439259   1940.753958  \n",
       "DPM1              2315.854840   1263.007786   2108.765802    692.570945  \n",
       "SCYL3              652.389446    457.053390    818.712218   1422.743321  \n",
       "c1orf112           932.572739    489.935937    293.403503    921.423417  \n",
       "FGR                234.319789    321.957888    459.678622    446.185776  \n",
       "...                       ...           ...           ...           ...  \n",
       "ENSG00000281789     21.089220      4.723877      3.192649      0.000000  \n",
       "ENSG00000281849      1.161711      7.027676      4.245588      1.958544  \n",
       "ENSG00000281896     20.193091     10.632666     24.361902     39.262258  \n",
       "ENSG00000281903      7.882718      9.442742     28.563100     14.394650  \n",
       "LINC01144           13.496457     17.680469     32.840077     28.088488  \n",
       "\n",
       "[23862 rows x 1229 columns]"
      ]
     },
     "execution_count": 3,
     "metadata": {},
     "output_type": "execute_result"
    }
   ],
   "source": [
    "pd_data"
   ]
  },
  {
   "cell_type": "code",
   "execution_count": 4,
   "metadata": {},
   "outputs": [],
   "source": [
    "#reducer = umap.UMAP()\n",
    "#UMAP = reducer.fit_transform(np_data.T)\n",
    "#print(UMAP.shape)\n",
    "\n",
    "#savetxt('sc_umap.csv', UMAP, delimiter=',')"
   ]
  },
  {
   "cell_type": "code",
   "execution_count": 5,
   "metadata": {},
   "outputs": [
    {
     "name": "stdout",
     "output_type": "stream",
     "text": [
      "UMAP shape: (1229, 2)\n",
      "Primary shape: (1229,)\n"
     ]
    }
   ],
   "source": [
    "UMAP = pd.read_csv(\"sc_umap.csv\", sep=',', header = None)\n",
    "UMAP = UMAP.values \n",
    "\n",
    "Primary = pd.read_csv(\"type_sc.csv\", sep=',', header = 0)\n",
    "Primary = Primary.values[:,0]\n",
    "Primary = np.append(Primary, [\"TCGA-HNSC\"]*N_hnsc)\n",
    "\n",
    "print(\"UMAP shape: \"+repr(UMAP.shape))\n",
    "print(\"Primary shape: \"+repr(Primary.shape))"
   ]
  },
  {
   "cell_type": "code",
   "execution_count": 6,
   "metadata": {},
   "outputs": [
    {
     "data": {
      "image/png": "[encoded data removed]",
      "text/plain": [
       "<Figure size 432x288 with 1 Axes>"
      ]
     },
     "metadata": {},
     "output_type": "display_data"
    }
   ],
   "source": [
    "frame1 = sns.scatterplot(UMAP[:,0], UMAP[:,1], s=10, hue = Primary, linewidth = 0)\n",
    "plt.title('Pansquam - UMAP')\n",
    "#plt.xlim(-30000,25000)\n",
    "frame1.axes.get_xaxis().set_ticks([])\n",
    "frame1.axes.get_yaxis().set_ticks([])\n",
    "plt.ylabel('UMAP2')\n",
    "plt.xlabel('UMAP1')\n",
    "plt.legend(bbox_to_anchor=(1.05, 1), loc=2, borderaxespad=0.)\n",
    "plt.show()"
   ]
  },
  {
   "cell_type": "markdown",
   "metadata": {},
   "source": [
    "## Distance Matrix"
   ]
  },
  {
   "cell_type": "code",
   "execution_count": 7,
   "metadata": {},
   "outputs": [],
   "source": [
    "from manifold_utils.mSVD import eigen_plot, eigen_calc_from_dist_mat, eps_projection"
   ]
  },
  {
   "cell_type": "code",
   "execution_count": 8,
   "metadata": {},
   "outputs": [],
   "source": [
    "np_data = np_data.T\n",
    "N, d = np_data.shape\n",
    " \n",
    "dist_mat = euclidean_distances(np_data, np_data)"
   ]
  },
  {
   "cell_type": "code",
   "execution_count": 9,
   "metadata": {},
   "outputs": [],
   "source": [
    "savetxt('dist_mat_pansquam.csv', dist_mat, delimiter=',')\n",
    "\n",
    "dist_mat = pd.read_csv('dist_mat_pansquam.csv', sep=\",\", header = None)\n",
    "dist_mat = np.array(dist_mat )"
   ]
  },
  {
   "cell_type": "code",
   "execution_count": 10,
   "metadata": {},
   "outputs": [
    {
     "name": "stdout",
     "output_type": "stream",
     "text": [
      "(1229, 1229)\n"
     ]
    }
   ],
   "source": [
    "print(dist_mat.shape)"
   ]
  },
  {
   "cell_type": "markdown",
   "metadata": {},
   "source": [
    "## Witness complex"
   ]
  },
  {
   "cell_type": "code",
   "execution_count": 11,
   "metadata": {},
   "outputs": [
    {
     "name": "stdout",
     "output_type": "stream",
     "text": [
      "n = 1229\n",
      "d = 23862\n",
      "shape of dist_mat: (1229, 1229)\n",
      "Timing computation of density filtrations...\n",
      "\tk = 10, p = 0.01:\n",
      "\t0.0020008087158203125 seconds\n",
      "\n",
      "\tk = 10, p = 0.05:\n",
      "\t0.0010004043579101562 seconds\n",
      "\n",
      "\tk = 10, p = 0.1:\n",
      "\t0.0020003318786621094 seconds\n",
      "\n",
      "\tk = 10, p = 0.2:\n",
      "\t0.002573728561401367 seconds\n",
      "\n",
      "\tk = 100, p = 0.01:\n",
      "\t0.0009953975677490234 seconds\n",
      "\n",
      "\tk = 100, p = 0.05:\n",
      "\t0.0020008087158203125 seconds\n",
      "\n",
      "\tk = 100, p = 0.1:\n",
      "\t0.0009999275207519531 seconds\n",
      "\n",
      "\tk = 100, p = 0.2:\n",
      "\t0.0020008087158203125 seconds\n",
      "\n",
      "\tk = 1000, p = 0.01:\n",
      "\t0.0010004043579101562 seconds\n",
      "\n",
      "\tk = 1000, p = 0.05:\n",
      "\t0.0020003318786621094 seconds\n",
      "\n",
      "\tk = 1000, p = 0.1:\n",
      "\t0.0018355846405029297 seconds\n",
      "\n",
      "\tk = 1000, p = 0.2:\n",
      "\t0.0019958019256591797 seconds\n",
      "\n",
      "Timing computation of landmarks...\n",
      "\tk = 10, p = 0.01, pp = 0.05:\n",
      "\t0.0010006427764892578 seconds\n",
      "\n",
      "\tk = 10, p = 0.01, pp = 0.1:\n",
      "\t0.0 seconds\n",
      "\n",
      "\tk = 10, p = 0.01, pp = 0.2:\n",
      "\t0.0 seconds\n",
      "\n",
      "\tk = 10, p = 0.05, pp = 0.05:\n",
      "\t0.0 seconds\n",
      "\n",
      "\tk = 10, p = 0.05, pp = 0.1:\n",
      "\t0.0010001659393310547 seconds\n",
      "\n",
      "\tk = 10, p = 0.05, pp = 0.2:\n",
      "\t0.0 seconds\n",
      "\n",
      "\tk = 10, p = 0.1, pp = 0.05:\n",
      "\t0.0 seconds\n",
      "\n",
      "\tk = 10, p = 0.1, pp = 0.1:\n",
      "\t0.0 seconds\n",
      "\n",
      "\tk = 10, p = 0.1, pp = 0.2:\n",
      "\t0.0 seconds\n",
      "\n",
      "\tk = 10, p = 0.2, pp = 0.05:\n",
      "\t0.0 seconds\n",
      "\n",
      "\tk = 10, p = 0.2, pp = 0.1:\n",
      "\t0.0 seconds\n",
      "\n",
      "\tk = 10, p = 0.2, pp = 0.2:\n",
      "\t0.0009999275207519531 seconds\n",
      "\n",
      "\tk = 100, p = 0.01, pp = 0.05:\n",
      "\t0.0 seconds\n",
      "\n",
      "\tk = 100, p = 0.01, pp = 0.1:\n",
      "\t0.0 seconds\n",
      "\n",
      "\tk = 100, p = 0.01, pp = 0.2:\n",
      "\t0.0 seconds\n",
      "\n",
      "\tk = 100, p = 0.05, pp = 0.05:\n",
      "\t0.0 seconds\n",
      "\n",
      "\tk = 100, p = 0.05, pp = 0.1:\n",
      "\t0.0 seconds\n",
      "\n",
      "\tk = 100, p = 0.05, pp = 0.2:\n",
      "\t0.0 seconds\n",
      "\n",
      "\tk = 100, p = 0.1, pp = 0.05:\n",
      "\t0.0 seconds\n",
      "\n",
      "\tk = 100, p = 0.1, pp = 0.1:\n",
      "\t0.0 seconds\n",
      "\n",
      "\tk = 100, p = 0.1, pp = 0.2:\n",
      "\t0.0010004043579101562 seconds\n",
      "\n",
      "\tk = 100, p = 0.2, pp = 0.05:\n",
      "\t0.0 seconds\n",
      "\n",
      "\tk = 100, p = 0.2, pp = 0.1:\n",
      "\t0.0 seconds\n",
      "\n",
      "\tk = 100, p = 0.2, pp = 0.2:\n",
      "\t0.0 seconds\n",
      "\n",
      "\tk = 1000, p = 0.01, pp = 0.05:\n",
      "\t0.0 seconds\n",
      "\n",
      "\tk = 1000, p = 0.01, pp = 0.1:\n",
      "\t0.0 seconds\n",
      "\n",
      "\tk = 1000, p = 0.01, pp = 0.2:\n",
      "\t0.0 seconds\n",
      "\n",
      "\tk = 1000, p = 0.05, pp = 0.05:\n",
      "\t0.0 seconds\n",
      "\n",
      "\tk = 1000, p = 0.05, pp = 0.1:\n",
      "\t0.0009999275207519531 seconds\n",
      "\n",
      "\tk = 1000, p = 0.05, pp = 0.2:\n",
      "\t0.0 seconds\n",
      "\n",
      "\tk = 1000, p = 0.1, pp = 0.05:\n",
      "\t0.0 seconds\n",
      "\n",
      "\tk = 1000, p = 0.1, pp = 0.1:\n",
      "\t0.0 seconds\n",
      "\n",
      "\tk = 1000, p = 0.1, pp = 0.2:\n",
      "\t0.0 seconds\n",
      "\n",
      "\tk = 1000, p = 0.2, pp = 0.05:\n",
      "\t0.0 seconds\n",
      "\n",
      "\tk = 1000, p = 0.2, pp = 0.1:\n",
      "\t0.0 seconds\n",
      "\n",
      "\tk = 1000, p = 0.2, pp = 0.2:\n",
      "\t0.0010004043579101562 seconds\n",
      "\n",
      "Printing numbers of landmarks...\n",
      "(10, 0.01, 0.05): 0\n",
      "(10, 0.01, 0.1): 1\n",
      "(10, 0.01, 0.2): 2\n",
      "(10, 0.05, 0.05): 3\n",
      "(10, 0.05, 0.1): 6\n",
      "(10, 0.05, 0.2): 12\n",
      "(10, 0.1, 0.05): 6\n",
      "(10, 0.1, 0.1): 12\n",
      "(10, 0.1, 0.2): 24\n",
      "(10, 0.2, 0.05): 12\n",
      "(10, 0.2, 0.1): 24\n",
      "(10, 0.2, 0.2): 49\n",
      "(100, 0.01, 0.05): 0\n",
      "(100, 0.01, 0.1): 1\n",
      "(100, 0.01, 0.2): 2\n",
      "(100, 0.05, 0.05): 3\n",
      "(100, 0.05, 0.1): 6\n",
      "(100, 0.05, 0.2): 12\n",
      "(100, 0.1, 0.05): 6\n",
      "(100, 0.1, 0.1): 12\n",
      "(100, 0.1, 0.2): 24\n",
      "(100, 0.2, 0.05): 12\n",
      "(100, 0.2, 0.1): 24\n",
      "(100, 0.2, 0.2): 49\n",
      "(1000, 0.01, 0.05): 0\n",
      "(1000, 0.01, 0.1): 1\n",
      "(1000, 0.01, 0.2): 2\n",
      "(1000, 0.05, 0.05): 3\n",
      "(1000, 0.05, 0.1): 6\n",
      "(1000, 0.05, 0.2): 12\n",
      "(1000, 0.1, 0.05): 6\n",
      "(1000, 0.1, 0.1): 12\n",
      "(1000, 0.1, 0.2): 24\n",
      "(1000, 0.2, 0.05): 12\n",
      "(1000, 0.2, 0.1): 24\n",
      "(1000, 0.2, 0.2): 49\n",
      "saving\n",
      "[405, 133, 1105, 549, 730, 857, 1186, 129, 975, 584, 811, 406, 1111, 498, 913, 1092, 619, 284, 1090, 995, 798, 1184, 1077, 932, 376, 155, 1217, 963, 1014, 782, 770, 960, 322, 987, 553, 106, 183, 222, 675, 390, 27, 969, 1084, 930, 750, 249, 489, 992, 233]\n"
     ]
    }
   ],
   "source": [
    "from time import time\n",
    "import numpy as np\n",
    "from tda_utils.density_filtration import sort_distances_per_point, indices_for_density_filtration\n",
    "from tda_utils.witness_complex import *\n",
    "\n",
    "dist_per_pt = sort_distances_per_point(dist_mat)\n",
    "\n",
    "# Load in ILC data\n",
    "sct_sparse = np_data\n",
    "dist_mat = dist_mat\n",
    "n, d = sct_sparse.shape\n",
    "print(\"n = \"+str(n))\n",
    "print(\"d = \"+str(d))\n",
    "print(\"shape of dist_mat: \"+str(dist_mat.shape))\n",
    "\n",
    "# Load in distances per point\n",
    "distances_per_point = dist_per_pt\n",
    "\n",
    "# time computation of density filtrations\n",
    "print(\"Timing computation of density filtrations...\")\n",
    "density_indices = dict()\n",
    "density_filtrations = dict()\n",
    "ks = [10, 100, 1000]\n",
    "#      10000]\n",
    "ps = [0.01, 0.05, 0.1, 0.2]\n",
    "for k in ks:\n",
    "    for p in ps:\n",
    "        print(\"\\tk = \"+str(k)+\", p = \"+str(p)+\":\")\n",
    "        start = time()\n",
    "        indices = indices_for_density_filtration(distances_per_point, k, p)\n",
    "        density_indices[(k, p)] = indices\n",
    "        mask = np.zeros(n, dtype=bool)\n",
    "        mask[indices] = True\n",
    "        sqr_mask = np.outer(mask, mask)\n",
    "        density_filtrations[(k, p)] = np.reshape(dist_mat[sqr_mask], (len(indices), len(indices)))\n",
    "        print(\"\\t\"+str(time()-start)+\" seconds\\n\")\n",
    "\n",
    "print(\"Timing computation of landmarks...\")\n",
    "landmark_indices = dict()\n",
    "landmark_mats = dict()\n",
    "pps = [0.05, 0.1, 0.2]\n",
    "for k in ks:\n",
    "    for p in ps:\n",
    "        for pp in pps:\n",
    "            print(\"\\tk = \"+str(k)+\", p = \"+str(p)+\", pp = \"+str(pp)+\":\")\n",
    "            start = time()\n",
    "            landmark_indices[(k, p, pp)], landmark_mats[(k, p, pp)] = choose_landmarks(density_filtrations[(k, p)], pp)\n",
    "            print(\"\\t\"+str(time()-start)+\" seconds\\n\")\n",
    "\n",
    "print(\"Printing numbers of landmarks...\")\n",
    "for k in ks:\n",
    "    for p in ps:\n",
    "        for pp in pps:\n",
    "            toople = (k, p, pp)\n",
    "            print(str(toople)+\": \"+str(len(landmark_indices[toople])))\n",
    "            if toople == (1000, 0.2, 0.2):\n",
    "                print(\"saving\")\n",
    "                landmark_inds = landmark_indices[toople]\n",
    "                dense_inds = density_indices[(k, p)]\n",
    "                true_inds = [dense_inds[ind] for ind in landmark_inds]\n",
    "                print(true_inds)\n",
    "                to_save = np.vstack([sct_sparse[ind, :] for ind in true_inds])\n",
    "                np.save(\"PanSquam_landmarks.npy\", to_save)\n",
    "                np.save(\"PanSquam_Racute_landmark_indices.npy\", true_inds)"
   ]
  },
  {
   "cell_type": "markdown",
   "metadata": {},
   "source": [
    "## Visualize Landmarks"
   ]
  },
  {
   "cell_type": "code",
   "execution_count": 12,
   "metadata": {},
   "outputs": [
    {
     "name": "stdout",
     "output_type": "stream",
     "text": [
      "[405, 133, 1105, 549, 730, 857, 1186, 129, 975, 584, 811, 406, 1111, 498, 913, 1092, 619, 284, 1090, 995, 798, 1184, 1077, 932, 376, 155, 1217, 963, 1014, 782, 770, 960, 322, 987, 553, 106, 183, 222, 675, 390, 27, 969, 1084, 930, 750, 249, 489, 992, 233]\n"
     ]
    }
   ],
   "source": [
    "landmarks = np.load(\"PanSquam_landmarks.npy\")\n",
    "\n",
    "landmarks = true_inds\n",
    "print(true_inds)"
   ]
  },
  {
   "cell_type": "code",
   "execution_count": 13,
   "metadata": {},
   "outputs": [
    {
     "name": "stdout",
     "output_type": "stream",
     "text": [
      "(1229, 2)\n",
      "(49, 23862)\n",
      "(49, 2)\n"
     ]
    }
   ],
   "source": [
    "N, d = np_data.shape\n",
    "genes = pd_data.columns\n",
    "\n",
    "UMAP = np.array(UMAP)\n",
    "print(UMAP.shape)\n",
    "\n",
    "UMAP_landmark = np.zeros((1,2))\n",
    "data_landmark = np.zeros((1,d))\n",
    "\n",
    "#Going through all of the cells, if index in landmarks we should pull the associated gene expression data\n",
    "for i in landmarks:\n",
    "    next_cell = np_data[i,:]\n",
    "    next_cell = np.reshape(next_cell, (1, d))\n",
    "    data_landmark = np.append(data_landmark, next_cell, axis = 0)\n",
    "        \n",
    "    next_embedding = UMAP[i,:]\n",
    "    next_embedding = np.reshape(next_embedding, (1,2))\n",
    "    UMAP_landmark = np.append(UMAP_landmark, next_embedding, axis = 0)\n",
    "\n",
    "#To get the indices to work out I have a row of zeros at the top that I need to omit\n",
    "data_landmark = data_landmark[1:, :]    \n",
    "UMAP_landmark = UMAP_landmark[1:, :]\n",
    "\n",
    "print(data_landmark.shape)\n",
    "print(UMAP_landmark.shape)"
   ]
  },
  {
   "cell_type": "code",
   "execution_count": 14,
   "metadata": {},
   "outputs": [
    {
     "data": {
      "image/png": "[encoded data removed]",
      "text/plain": [
       "<Figure size 432x288 with 1 Axes>"
      ]
     },
     "metadata": {},
     "output_type": "display_data"
    }
   ],
   "source": [
    "frame1 = plt.scatter(UMAP[:,0], UMAP[:,1], s=1, c = \"silver\")\n",
    "frame1 = plt.scatter(UMAP_landmark[:,0], UMAP_landmark[:,1], s=1, c = \"red\")\n",
    "plt.title('Racute - UMAP')\n",
    "#plt.xlim(-30000,25000)\n",
    "frame1.axes.get_xaxis().set_ticks([])\n",
    "frame1.axes.get_yaxis().set_ticks([])\n",
    "plt.ylabel('UMAP2')\n",
    "plt.xlabel('UMAP1')\n",
    "plt.show()"
   ]
  },
  {
   "cell_type": "markdown",
   "metadata": {},
   "source": [
    "## Persistence Diagrams"
   ]
  },
  {
   "cell_type": "code",
   "execution_count": 15,
   "metadata": {},
   "outputs": [
    {
     "data": {
      "text/plain": [
       "(1229, 23862)"
      ]
     },
     "execution_count": 15,
     "metadata": {},
     "output_type": "execute_result"
    }
   ],
   "source": [
    "np_data.shape"
   ]
  },
  {
   "cell_type": "code",
   "execution_count": 16,
   "metadata": {},
   "outputs": [
    {
     "name": "stderr",
     "output_type": "stream",
     "text": [
      "c:\\users\\hmkri\\desktop\\riesenfeld pearson\\lib\\site-packages\\ripser\\ripser.py:257: UserWarning: The input point cloud has more columns than rows; did you mean to transpose?\n",
      "  warnings.warn(\n"
     ]
    },
    {
     "data": {
      "image/png": "[encoded data removed]",
      "text/plain": [
       "<Figure size 864x288 with 3 Axes>"
      ]
     },
     "metadata": {
      "needs_background": "light"
     },
     "output_type": "display_data"
    }
   ],
   "source": [
    "dgms = ripser(np_data, maxdim=2)['dgms']\n",
    "\n",
    "\n",
    "plt.figure(figsize=(12, 4))\n",
    "plot_diagrams(dgms, plot_only=[0], ax=plt.subplot(131))\n",
    "plot_diagrams(dgms, plot_only=[1], ax=plt.subplot(132))\n",
    "plot_diagrams(dgms, plot_only=[2], ax=plt.subplot(133))"
   ]
  },
  {
   "cell_type": "code",
   "execution_count": 17,
   "metadata": {},
   "outputs": [
    {
     "data": {
      "image/png": "[encoded data removed]",
      "text/plain": [
       "<Figure size 640x480 with 1 Axes>"
      ]
     },
     "metadata": {},
     "output_type": "display_data"
    }
   ],
   "source": [
    "plot_diagrams(dgms, show=True)"
   ]
  },
  {
   "cell_type": "code",
   "execution_count": 18,
   "metadata": {},
   "outputs": [
    {
     "data": {
      "text/plain": [
       "(49, 23862)"
      ]
     },
     "execution_count": 18,
     "metadata": {},
     "output_type": "execute_result"
    }
   ],
   "source": [
    "data_landmark.shape"
   ]
  },
  {
   "cell_type": "code",
   "execution_count": 19,
   "metadata": {},
   "outputs": [
    {
     "name": "stderr",
     "output_type": "stream",
     "text": [
      "c:\\users\\hmkri\\desktop\\riesenfeld pearson\\lib\\site-packages\\ripser\\ripser.py:257: UserWarning: The input point cloud has more columns than rows; did you mean to transpose?\n",
      "  warnings.warn(\n"
     ]
    },
    {
     "ename": "ValueError",
     "evalue": "zero-size array to reduction operation minimum which has no identity",
     "output_type": "error",
     "traceback": [
      "\u001b[1;31m---------------------------------------------------------------------------\u001b[0m",
      "\u001b[1;31mValueError\u001b[0m                                Traceback (most recent call last)",
      "\u001b[1;32m<ipython-input-19-9a3a50f909d3>\u001b[0m in \u001b[0;36m<module>\u001b[1;34m\u001b[0m\n\u001b[0;32m      5\u001b[0m \u001b[0mplot_diagrams\u001b[0m\u001b[1;33m(\u001b[0m\u001b[0mdgms\u001b[0m\u001b[1;33m,\u001b[0m \u001b[0mplot_only\u001b[0m\u001b[1;33m=\u001b[0m\u001b[1;33m[\u001b[0m\u001b[1;36m0\u001b[0m\u001b[1;33m]\u001b[0m\u001b[1;33m,\u001b[0m \u001b[0max\u001b[0m\u001b[1;33m=\u001b[0m\u001b[0mplt\u001b[0m\u001b[1;33m.\u001b[0m\u001b[0msubplot\u001b[0m\u001b[1;33m(\u001b[0m\u001b[1;36m131\u001b[0m\u001b[1;33m)\u001b[0m\u001b[1;33m)\u001b[0m\u001b[1;33m\u001b[0m\u001b[1;33m\u001b[0m\u001b[0m\n\u001b[0;32m      6\u001b[0m \u001b[0mplot_diagrams\u001b[0m\u001b[1;33m(\u001b[0m\u001b[0mdgms\u001b[0m\u001b[1;33m,\u001b[0m \u001b[0mplot_only\u001b[0m\u001b[1;33m=\u001b[0m\u001b[1;33m[\u001b[0m\u001b[1;36m1\u001b[0m\u001b[1;33m]\u001b[0m\u001b[1;33m,\u001b[0m \u001b[0max\u001b[0m\u001b[1;33m=\u001b[0m\u001b[0mplt\u001b[0m\u001b[1;33m.\u001b[0m\u001b[0msubplot\u001b[0m\u001b[1;33m(\u001b[0m\u001b[1;36m132\u001b[0m\u001b[1;33m)\u001b[0m\u001b[1;33m)\u001b[0m\u001b[1;33m\u001b[0m\u001b[1;33m\u001b[0m\u001b[0m\n\u001b[1;32m----> 7\u001b[1;33m \u001b[0mplot_diagrams\u001b[0m\u001b[1;33m(\u001b[0m\u001b[0mdgms\u001b[0m\u001b[1;33m,\u001b[0m \u001b[0mplot_only\u001b[0m\u001b[1;33m=\u001b[0m\u001b[1;33m[\u001b[0m\u001b[1;36m2\u001b[0m\u001b[1;33m]\u001b[0m\u001b[1;33m,\u001b[0m \u001b[0max\u001b[0m\u001b[1;33m=\u001b[0m\u001b[0mplt\u001b[0m\u001b[1;33m.\u001b[0m\u001b[0msubplot\u001b[0m\u001b[1;33m(\u001b[0m\u001b[1;36m133\u001b[0m\u001b[1;33m)\u001b[0m\u001b[1;33m)\u001b[0m\u001b[1;33m\u001b[0m\u001b[1;33m\u001b[0m\u001b[0m\n\u001b[0m",
      "\u001b[1;32mc:\\users\\hmkri\\desktop\\riesenfeld pearson\\lib\\site-packages\\persim\\visuals.py\u001b[0m in \u001b[0;36mplot_diagrams\u001b[1;34m(diagrams, plot_only, title, xy_range, labels, colormap, size, ax_color, diagonal, lifetime, legend, show, ax)\u001b[0m\n\u001b[0;32m    105\u001b[0m     \u001b[1;32mif\u001b[0m \u001b[1;32mnot\u001b[0m \u001b[0mxy_range\u001b[0m\u001b[1;33m:\u001b[0m\u001b[1;33m\u001b[0m\u001b[1;33m\u001b[0m\u001b[0m\n\u001b[0;32m    106\u001b[0m         \u001b[1;31m# define bounds of diagram\u001b[0m\u001b[1;33m\u001b[0m\u001b[1;33m\u001b[0m\u001b[1;33m\u001b[0m\u001b[0m\n\u001b[1;32m--> 107\u001b[1;33m         \u001b[0max_min\u001b[0m\u001b[1;33m,\u001b[0m \u001b[0max_max\u001b[0m \u001b[1;33m=\u001b[0m \u001b[0mnp\u001b[0m\u001b[1;33m.\u001b[0m\u001b[0mmin\u001b[0m\u001b[1;33m(\u001b[0m\u001b[0mfinite_dgms\u001b[0m\u001b[1;33m)\u001b[0m\u001b[1;33m,\u001b[0m \u001b[0mnp\u001b[0m\u001b[1;33m.\u001b[0m\u001b[0mmax\u001b[0m\u001b[1;33m(\u001b[0m\u001b[0mfinite_dgms\u001b[0m\u001b[1;33m)\u001b[0m\u001b[1;33m\u001b[0m\u001b[1;33m\u001b[0m\u001b[0m\n\u001b[0m\u001b[0;32m    108\u001b[0m         \u001b[0mx_r\u001b[0m \u001b[1;33m=\u001b[0m \u001b[0max_max\u001b[0m \u001b[1;33m-\u001b[0m \u001b[0max_min\u001b[0m\u001b[1;33m\u001b[0m\u001b[1;33m\u001b[0m\u001b[0m\n\u001b[0;32m    109\u001b[0m \u001b[1;33m\u001b[0m\u001b[0m\n",
      "\u001b[1;32m<__array_function__ internals>\u001b[0m in \u001b[0;36mamin\u001b[1;34m(*args, **kwargs)\u001b[0m\n",
      "\u001b[1;32mc:\\users\\hmkri\\desktop\\riesenfeld pearson\\lib\\site-packages\\numpy\\core\\fromnumeric.py\u001b[0m in \u001b[0;36mamin\u001b[1;34m(a, axis, out, keepdims, initial, where)\u001b[0m\n\u001b[0;32m   2828\u001b[0m     \u001b[1;36m6\u001b[0m\u001b[1;33m\u001b[0m\u001b[1;33m\u001b[0m\u001b[0m\n\u001b[0;32m   2829\u001b[0m     \"\"\"\n\u001b[1;32m-> 2830\u001b[1;33m     return _wrapreduction(a, np.minimum, 'min', axis, None, out,\n\u001b[0m\u001b[0;32m   2831\u001b[0m                           keepdims=keepdims, initial=initial, where=where)\n\u001b[0;32m   2832\u001b[0m \u001b[1;33m\u001b[0m\u001b[0m\n",
      "\u001b[1;32mc:\\users\\hmkri\\desktop\\riesenfeld pearson\\lib\\site-packages\\numpy\\core\\fromnumeric.py\u001b[0m in \u001b[0;36m_wrapreduction\u001b[1;34m(obj, ufunc, method, axis, dtype, out, **kwargs)\u001b[0m\n\u001b[0;32m     85\u001b[0m                 \u001b[1;32mreturn\u001b[0m \u001b[0mreduction\u001b[0m\u001b[1;33m(\u001b[0m\u001b[0maxis\u001b[0m\u001b[1;33m=\u001b[0m\u001b[0maxis\u001b[0m\u001b[1;33m,\u001b[0m \u001b[0mout\u001b[0m\u001b[1;33m=\u001b[0m\u001b[0mout\u001b[0m\u001b[1;33m,\u001b[0m \u001b[1;33m**\u001b[0m\u001b[0mpasskwargs\u001b[0m\u001b[1;33m)\u001b[0m\u001b[1;33m\u001b[0m\u001b[1;33m\u001b[0m\u001b[0m\n\u001b[0;32m     86\u001b[0m \u001b[1;33m\u001b[0m\u001b[0m\n\u001b[1;32m---> 87\u001b[1;33m     \u001b[1;32mreturn\u001b[0m \u001b[0mufunc\u001b[0m\u001b[1;33m.\u001b[0m\u001b[0mreduce\u001b[0m\u001b[1;33m(\u001b[0m\u001b[0mobj\u001b[0m\u001b[1;33m,\u001b[0m \u001b[0maxis\u001b[0m\u001b[1;33m,\u001b[0m \u001b[0mdtype\u001b[0m\u001b[1;33m,\u001b[0m \u001b[0mout\u001b[0m\u001b[1;33m,\u001b[0m \u001b[1;33m**\u001b[0m\u001b[0mpasskwargs\u001b[0m\u001b[1;33m)\u001b[0m\u001b[1;33m\u001b[0m\u001b[1;33m\u001b[0m\u001b[0m\n\u001b[0m\u001b[0;32m     88\u001b[0m \u001b[1;33m\u001b[0m\u001b[0m\n\u001b[0;32m     89\u001b[0m \u001b[1;33m\u001b[0m\u001b[0m\n",
      "\u001b[1;31mValueError\u001b[0m: zero-size array to reduction operation minimum which has no identity"
     ]
    },
    {
     "data": {
      "image/png": "[encoded data removed]",
      "text/plain": [
       "<Figure size 1200x400 with 3 Axes>"
      ]
     },
     "metadata": {},
     "output_type": "display_data"
    }
   ],
   "source": [
    "dgms = ripser(data_landmark, maxdim=2)['dgms']\n",
    "\n",
    "\n",
    "plt.figure(figsize=(12, 4))\n",
    "plot_diagrams(dgms, plot_only=[0], ax=plt.subplot(131))\n",
    "plot_diagrams(dgms, plot_only=[1], ax=plt.subplot(132))\n",
    "plot_diagrams(dgms, plot_only=[2], ax=plt.subplot(133))"
   ]
  },
  {
   "cell_type": "code",
   "execution_count": null,
   "metadata": {},
   "outputs": [],
   "source": [
    "plot_diagrams(dgms, show=True)"
   ]
  },
  {
   "cell_type": "markdown",
   "metadata": {},
   "source": [
    "## Eigen plots"
   ]
  },
  {
   "cell_type": "code",
   "execution_count": 20,
   "metadata": {},
   "outputs": [],
   "source": [
    "from manifold_utils.mSVD import eigen_plot, eigen_calc_from_dist_mat, eps_projection, eigen_plot_numPoints, eigen_calc_from_dist_mat_withNumPoints\n",
    "from manifold_utils.iga import chakraborty_express, iga"
   ]
  },
  {
   "cell_type": "code",
   "execution_count": null,
   "metadata": {},
   "outputs": [
    {
     "name": "stdout",
     "output_type": "stream",
     "text": [
      "405\n"
     ]
    }
   ],
   "source": [
    "for i in range(len(landmarks)):\n",
    "    print(landmarks[i])\n",
    "    center = landmarks[i]\n",
    "    radii, eigval_list, eigvec_list = eigen_calc_from_dist_mat(np_data, dist_mat, center, radint = .01)\n",
    "\n",
    "    rmin = radii[0]\n",
    "    rmax = radii[-1]\n",
    "    \n",
    "    eigen_plot(eigval_list, radii, rmin, rmax)"
   ]
  },
  {
   "cell_type": "code",
   "execution_count": null,
   "metadata": {},
   "outputs": [],
   "source": []
  },
  {
   "cell_type": "code",
   "execution_count": null,
   "metadata": {},
   "outputs": [],
   "source": []
  }
 ],
 "metadata": {
  "kernelspec": {
   "display_name": "Python 3",
   "language": "python",
   "name": "python3"
  },
  "language_info": {
   "codemirror_mode": {
    "name": "ipython",
    "version": 3
   },
   "file_extension": ".py",
   "mimetype": "text/x-python",
   "name": "python",
   "nbconvert_exporter": "python",
   "pygments_lexer": "ipython3",
   "version": "3.8.0"
  }
 },
 "nbformat": 4,
 "nbformat_minor": 4
}

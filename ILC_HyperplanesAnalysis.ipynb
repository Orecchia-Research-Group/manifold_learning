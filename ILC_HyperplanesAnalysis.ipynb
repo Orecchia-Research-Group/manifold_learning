{
 "cells": [
  {
   "cell_type": "markdown",
   "metadata": {},
   "source": [
    "Analyze the hyperplanes. Do not need to access the clouds."
   ]
  },
  {
   "cell_type": "code",
   "execution_count": null,
   "metadata": {},
   "outputs": [],
   "source": [
    "from manifold_utils.iga import iga\n",
    "def GrassmannAvg(cids):\n",
    "    G_hyperplanes = []\n",
    "    for i in range(len(cids)):\n",
    "        #read a sample data\n",
    "        filename = 'TrailEigvec\\eigenvec_trailStop='+str(i)+'.npy'\n",
    "        top_eigvecs = np.load(filename)  \n",
    "        G_hyperplanes.append(iga(top_eigvecs))\n",
    "    G_hyperplanes = np.array(G_hyperplanes)\n",
    "    np.savez('Cheerios_HP', cids, G_hyperplanes)\n",
    "    return G_hyperplanes "
   ]
  },
  {
   "cell_type": "code",
   "execution_count": null,
   "metadata": {},
   "outputs": [],
   "source": [
    "G_hyperplanes=GrassmannAvg(trail_indices)"
   ]
  },
  {
   "cell_type": "code",
   "execution_count": null,
   "metadata": {},
   "outputs": [],
   "source": [
    "y=np.arange(3000)\n",
    "plt.scatter(y, G_hyperplanes[1,:,-20])\n",
    "plt.scatter(y, G_hyperplanes[7,:,-20])"
   ]
  },
  {
   "cell_type": "markdown",
   "metadata": {},
   "source": [
    "Make plot for gene programs"
   ]
  },
  {
   "cell_type": "code",
   "execution_count": null,
   "metadata": {},
   "outputs": [],
   "source": [
    "#load name of variable genes\n",
    "varGeneNames = pd.read_csv('vargene_names.csv', sep=',', usecols = ['index'])\n",
    "varGeneNames = varGeneNames.to_numpy(dtype=np.str)"
   ]
  },
  {
   "cell_type": "code",
   "execution_count": null,
   "metadata": {},
   "outputs": [],
   "source": [
    "#look at top variable genes\n",
    "def plotvarGenes(i):\n",
    "    i_top_ev = G_hyperplanes[i,:,-19]\n",
    "    variablility_indices = np.argsort(i_top_ev)\n",
    "    neg_var_gene = i_top_ev[variablility_indices][0:10]\n",
    "    pos_var_gene = i_top_ev[variablility_indices][-10:]\n",
    "    top_var_indices = np.concatenate((variablility_indices[-10:], variablility_indices[0:10]))\n",
    "    varGenes = np.concatenate((pos_var_gene, neg_var_gene))\n",
    "    fig, ax = plt.subplots()\n",
    "    y_pos = np.arange(20)\n",
    "    genes = varGeneNames[top_var_indices].reshape(20)\n",
    "    print(genes)\n",
    "    ax.barh(y_pos, i_top_ev[top_var_indices])\n",
    "    ax.set_yticks(y_pos)\n",
    "    ax.set_yticklabels(genes)\n",
    "    ax.set_xlabel('Gene Weights in PC2')\n",
    "\n",
    "plotvarGenes(0)\n",
    "plotvarGenes(1)\n",
    "plotvarGenes(2)"
   ]
  }
 ],
 "metadata": {
  "kernelspec": {
   "display_name": "Python 3",
   "language": "python",
   "name": "python3"
  },
  "language_info": {
   "codemirror_mode": {
    "name": "ipython",
    "version": 3
   },
   "file_extension": ".py",
   "mimetype": "text/x-python",
   "name": "python",
   "nbconvert_exporter": "python",
   "pygments_lexer": "ipython3",
   "version": "3.7.9"
  }
 },
 "nbformat": 4,
 "nbformat_minor": 4
}

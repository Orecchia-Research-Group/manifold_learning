{
 "cells": [
  {
   "cell_type": "code",
   "execution_count": 15,
   "metadata": {},
   "outputs": [],
   "source": [
    "# A complex numbers c is passed in via a tuple (a, b) where c = a + bi\n",
    "\n",
    "import math\n",
    "import numpy as np\n",
    "\n",
    "# PART 1: Helper Functions\n",
    "# Computes the absolute value of a complex number\n",
    "def complex_abs(a1, a2):\n",
    "    return math.sqrt(a1*a1 + a2*a2)\n",
    "\n",
    "# Computes the complex conjugate of a complex number\n",
    "def complex_conj(a1, a2):\n",
    "    return (a1, -a2)\n",
    "\n",
    "# Computes product of complex numbers\n",
    "def complex_prod(a1, a2, b1, b2):\n",
    "    return (a1 * b1 - a2 * b2, a1 * b2 + a2 * b1)\n",
    "\n",
    "# Computes quotient of complex numbers\n",
    "def complex_quotient(a1, b1, a2, b2):\n",
    "    real_comp = (a1 * a2 + b1 * b2)/(a2**2 + b2**2)\n",
    "    imag_comp = (b1 * a2 - b2 * a1)/(a2**2 + b2**2)\n",
    "    return (real_comp, imag_comp)\n",
    "\n",
    "def normalize(a1, a2):\n",
    "    return (a1 / (a1 **2 + a2**2), a2 / (a1 ** 2 + a2 ** 2))"
   ]
  },
  {
   "cell_type": "code",
   "execution_count": 28,
   "metadata": {},
   "outputs": [],
   "source": [
    "# Part 2: Task 1\n",
    "\n",
    "# Allows the user to perform the map (1) for valid complex numbers a, b\n",
    "def diff_map(a1, a2, b1, b2):\n",
    "    if complex_abs(a1, a2) - complex_abs(b1, b2) != 1:\n",
    "        print(\"Invalid choice of complex numbers\")\n",
    "        return\n",
    "    else:\n",
    "        def map_1(z1, z2):\n",
    "            num_prod = complex_prod(a1, a2, z1, z2)\n",
    "            numerator = (num_prod[0] + b1, num_prod[1] + b2)\n",
    "            b_conj = complex_conj(b1, b2)\n",
    "            a_conj = complex_conj(a1, a2)\n",
    "            den_prod = complex_prod(b_conj[0], b_conj[1], z1, z2)\n",
    "            denominator = (den_prod[0] + a_conj[0], den_prod[1] + a_conj[1])\n",
    "            return complex_quotient(num_prod[0], num_prod[1], den_prod[0], den_prod[1])\n",
    "        return map_1\n"
   ]
  },
  {
   "cell_type": "code",
   "execution_count": 30,
   "metadata": {},
   "outputs": [],
   "source": [
    "# Part 3: Task 2\n",
    "\n",
    "# Allows the user to perform elementary diffeomorphism\n",
    "# User inputs a complex number (z1, z2) and complex parameters\n",
    "# for the diffemorphism, alpha represented as (a1, a2) and \n",
    "# beta represented as (b1, b2)\n",
    "def diffeo(z1, z2, a1, a2, b1, b2):\n",
    "    # Phi_inverse\n",
    "    if complex_abs(z1, z2) > 1:\n",
    "        z1, z2 = normalize(z1, z2)[0], normalize(z1, z2)[1]\n",
    "    map_1 = diff_map(a1, a2, b1, b2)\n",
    "    fz1, fz2 = map_1(z1, z2)[0], map_1(z1, z2)[1]\n",
    "    # Phi\n",
    "    if complex_abs(fz1, fz2) > 1:\n",
    "        fz1, fz2 = normalize(fz1, fz2)[0], normalize(fz1, fz2)[1]\n",
    "    return (fz1, fz2)    "
   ]
  },
  {
   "cell_type": "code",
   "execution_count": 32,
   "metadata": {},
   "outputs": [
    {
     "ename": "SyntaxError",
     "evalue": "invalid syntax (<ipython-input-32-286546a68a56>, line 11)",
     "output_type": "error",
     "traceback": [
      "\u001b[0;36m  File \u001b[0;32m\"<ipython-input-32-286546a68a56>\"\u001b[0;36m, line \u001b[0;32m11\u001b[0m\n\u001b[0;31m    det = ?\u001b[0m\n\u001b[0m          ^\u001b[0m\n\u001b[0;31mSyntaxError\u001b[0m\u001b[0;31m:\u001b[0m invalid syntax\n"
     ]
    }
   ],
   "source": [
    "# Part 4: Task 3\n",
    "\n",
    "def joint_unif_disk(x, y):\n",
    "    # Doesn't require knowledge of x, y?\n",
    "    return (1 / math.PI)\n",
    "\n",
    "def gen_sample(z1, z2, a1, a2, b1, b2):\n",
    "    uz1, uz2 = diffeo(z1, z2, a1, a2, b1, b2)\n",
    "    # P_0 composed with u\n",
    "    p_uz = joint_unif_disk(uz1, uz2)\n",
    "    # Need to find determinant of Jacobian -- how?\n",
    "    det = ? \n",
    "    return det * p_uz\n",
    "    "
   ]
  },
  {
   "cell_type": "code",
   "execution_count": 25,
   "metadata": {},
   "outputs": [
    {
     "name": "stdout",
     "output_type": "stream",
     "text": [
      "(0.9615384615384615, 0.19230769230769232)\n",
      "0.9805806756909201\n",
      "1.019803902718557\n"
     ]
    }
   ],
   "source": [
    "# Some Testing (unfinished)\n",
    "a, b = 1, 0.2\n",
    "print(normalize(a, b))\n",
    "print(complex_abs(normalize(a, b)[0], normalize(a, b)[1]))\n",
    "print(complex_abs(a,b))"
   ]
  },
  {
   "cell_type": "code",
   "execution_count": null,
   "metadata": {},
   "outputs": [],
   "source": []
  }
 ],
 "metadata": {
  "kernelspec": {
   "display_name": "Python 3",
   "language": "python",
   "name": "python3"
  },
  "language_info": {
   "codemirror_mode": {
    "name": "ipython",
    "version": 3
   },
   "file_extension": ".py",
   "mimetype": "text/x-python",
   "name": "python",
   "nbconvert_exporter": "python",
   "pygments_lexer": "ipython3",
   "version": "3.7.6"
  }
 },
 "nbformat": 4,
 "nbformat_minor": 4
}

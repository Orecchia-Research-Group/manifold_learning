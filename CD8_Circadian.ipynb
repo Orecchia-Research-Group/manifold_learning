{
 "cells": [
  {
   "cell_type": "markdown",
   "metadata": {},
   "source": [
    "## Install packages"
   ]
  },
  {
   "cell_type": "code",
   "execution_count": 4,
   "metadata": {},
   "outputs": [],
   "source": [
    "import pandas as pd\n",
    "import numpy as np\n",
    "import matplotlib.pyplot as plt\n",
    "import seaborn as sns\n",
    "from sklearn.decomposition import NMF\n",
    "from numpy import asarray\n",
    "from numpy import savetxt\n",
    "import matplotlib.colors as mcolors\n",
    "import matplotlib.cm\n",
    "import matplotlib.patches as mpatches\n",
    "import umap\n",
    "import matplotlib as mpl\n",
    "import scanpy as sc\n",
    "import scipy\n",
    "import kmapper as km\n",
    "from kmapper import jupyter\n",
    "from kmapper.plotlyviz import plotlyviz\n",
    "from kmapper.plotlyviz import *\n",
    "import plotly.graph_objs as go\n",
    "import sys\n",
    "from sklearn import ensemble\n",
    "import tqdm\n",
    "from ripser import Rips\n",
    "from sklearn.metrics.pairwise import euclidean_distances"
   ]
  },
  {
   "cell_type": "markdown",
   "metadata": {},
   "source": [
    "## Read in data"
   ]
  },
  {
   "cell_type": "code",
   "execution_count": 17,
   "metadata": {},
   "outputs": [],
   "source": [
    "sample_2_1 = pd.read_csv(\"CT2_Grp1_RSEM.csv\", sep=',', header = 0, index_col = 0)[\"TPM\"]\n",
    "sample_2_2 = pd.read_csv(\"CT2_Grp2_RSEM.csv\", sep=',', header = 0, index_col = 0)[\"TPM\"]\n",
    "sample_6_1 = pd.read_csv(\"CT6_Grp1_RSEM.csv\", sep=',', header = 0, index_col = 0)[\"TPM\"]\n",
    "sample_6_2 = pd.read_csv(\"CT6_Grp2_RSEM.csv\", sep=',', header = 0, index_col = 0)[\"TPM\"]\n",
    "sample_10_1 = pd.read_csv(\"CT10_Grp1_RSEM.csv\", sep=',', header = 0, index_col = 0)[\"TPM\"]\n",
    "sample_10_2 = pd.read_csv(\"CT10_Grp2_RSEM.csv\", sep=',', header = 0, index_col = 0)[\"TPM\"]\n",
    "sample_14_1 = pd.read_csv(\"CT14_Grp1_RSEM.csv\", sep=',', header = 0, index_col = 0)[\"TPM\"]\n",
    "sample_14_2 = pd.read_csv(\"CT14_Grp2_RSEM.csv\", sep=',', header = 0, index_col = 0)[\"TPM\"]\n",
    "sample_18_1 = pd.read_csv(\"CT18_Grp1_RSEM.csv\", sep=',', header = 0, index_col = 0)[\"TPM\"]\n",
    "sample_18_2 = pd.read_csv(\"CT18_Grp2_RSEM.csv\", sep=',', header = 0, index_col = 0)[\"TPM\"]\n",
    "sample_22_1 = pd.read_csv(\"CT22_Grp1_RSEM.csv\", sep=',', header = 0, index_col = 0)[\"TPM\"]\n",
    "sample_22_2 = pd.read_csv(\"CT22_Grp2_RSEM.csv\", sep=',', header = 0, index_col = 0)[\"TPM\"]\n",
    "\n",
    "samples = np.zeros((50600,1))\n",
    "\n",
    "samples = np.append(np.reshape(sample_2_1.values, (50600,1)), np.reshape(sample_2_2.values, (50600,1)), axis = 1)\n",
    "samples = np.append(samples, np.reshape(sample_6_1.values, (50600,1)), axis = 1)\n",
    "samples = np.append(samples, np.reshape(sample_6_2.values, (50600,1)), axis = 1)\n",
    "samples = np.append(samples, np.reshape(sample_10_1.values, (50600,1)), axis = 1)\n",
    "samples = np.append(samples, np.reshape(sample_10_2.values, (50600,1)), axis = 1)\n",
    "samples = np.append(samples, np.reshape(sample_14_1.values, (50600,1)), axis = 1)\n",
    "samples = np.append(samples, np.reshape(sample_14_1.values, (50600,1)), axis = 1)\n",
    "samples = np.append(samples, np.reshape(sample_18_1.values, (50600,1)), axis = 1)\n",
    "samples = np.append(samples, np.reshape(sample_18_2.values, (50600,1)), axis = 1)\n",
    "samples = np.append(samples, np.reshape(sample_22_1.values, (50600,1)), axis = 1)\n",
    "samples = np.append(samples, np.reshape(sample_22_1.values, (50600,1)), axis = 1)\n",
    "\n",
    "pd_data = pd.DataFrame(samples, columns = [\"2_1\", \"2_2\", \"6_1\", \"6_2\", \"10_1\", \"10_2\", \"14_1\", \"14_2\", \"18_1\", \"18_2\", \"22_1\", \"22_1\"], index = sample_2_1.index)\n",
    "np_data = np.array(pd_data)"
   ]
  },
  {
   "cell_type": "code",
   "execution_count": 18,
   "metadata": {},
   "outputs": [
    {
     "data": {
      "text/html": [
       "<div>\n",
       "<style scoped>\n",
       "    .dataframe tbody tr th:only-of-type {\n",
       "        vertical-align: middle;\n",
       "    }\n",
       "\n",
       "    .dataframe tbody tr th {\n",
       "        vertical-align: top;\n",
       "    }\n",
       "\n",
       "    .dataframe thead th {\n",
       "        text-align: right;\n",
       "    }\n",
       "</style>\n",
       "<table border=\"1\" class=\"dataframe\">\n",
       "  <thead>\n",
       "    <tr style=\"text-align: right;\">\n",
       "      <th></th>\n",
       "      <th>2_1</th>\n",
       "      <th>2_2</th>\n",
       "      <th>6_1</th>\n",
       "      <th>6_2</th>\n",
       "      <th>10_1</th>\n",
       "      <th>10_2</th>\n",
       "      <th>14_1</th>\n",
       "      <th>14_2</th>\n",
       "      <th>18_1</th>\n",
       "      <th>18_2</th>\n",
       "      <th>22_1</th>\n",
       "      <th>22_1</th>\n",
       "    </tr>\n",
       "    <tr>\n",
       "      <th>gene_id</th>\n",
       "      <th></th>\n",
       "      <th></th>\n",
       "      <th></th>\n",
       "      <th></th>\n",
       "      <th></th>\n",
       "      <th></th>\n",
       "      <th></th>\n",
       "      <th></th>\n",
       "      <th></th>\n",
       "      <th></th>\n",
       "      <th></th>\n",
       "      <th></th>\n",
       "    </tr>\n",
       "  </thead>\n",
       "  <tbody>\n",
       "    <tr>\n",
       "      <th>ENSMUSG00000000001.4</th>\n",
       "      <td>73.33</td>\n",
       "      <td>78.50</td>\n",
       "      <td>82.32</td>\n",
       "      <td>80.29</td>\n",
       "      <td>74.53</td>\n",
       "      <td>76.81</td>\n",
       "      <td>78.50</td>\n",
       "      <td>78.50</td>\n",
       "      <td>81.46</td>\n",
       "      <td>78.95</td>\n",
       "      <td>80.20</td>\n",
       "      <td>80.20</td>\n",
       "    </tr>\n",
       "    <tr>\n",
       "      <th>ENSMUSG00000000003.15</th>\n",
       "      <td>0.00</td>\n",
       "      <td>0.00</td>\n",
       "      <td>0.00</td>\n",
       "      <td>0.00</td>\n",
       "      <td>0.00</td>\n",
       "      <td>0.00</td>\n",
       "      <td>0.00</td>\n",
       "      <td>0.00</td>\n",
       "      <td>0.00</td>\n",
       "      <td>0.00</td>\n",
       "      <td>0.00</td>\n",
       "      <td>0.00</td>\n",
       "    </tr>\n",
       "    <tr>\n",
       "      <th>ENSMUSG00000000028.14</th>\n",
       "      <td>5.97</td>\n",
       "      <td>4.30</td>\n",
       "      <td>7.89</td>\n",
       "      <td>5.20</td>\n",
       "      <td>4.67</td>\n",
       "      <td>5.67</td>\n",
       "      <td>5.81</td>\n",
       "      <td>5.81</td>\n",
       "      <td>5.27</td>\n",
       "      <td>5.96</td>\n",
       "      <td>5.56</td>\n",
       "      <td>5.56</td>\n",
       "    </tr>\n",
       "    <tr>\n",
       "      <th>ENSMUSG00000000031.15</th>\n",
       "      <td>0.00</td>\n",
       "      <td>0.00</td>\n",
       "      <td>0.00</td>\n",
       "      <td>0.00</td>\n",
       "      <td>0.07</td>\n",
       "      <td>0.00</td>\n",
       "      <td>0.00</td>\n",
       "      <td>0.00</td>\n",
       "      <td>0.00</td>\n",
       "      <td>0.00</td>\n",
       "      <td>0.00</td>\n",
       "      <td>0.00</td>\n",
       "    </tr>\n",
       "    <tr>\n",
       "      <th>ENSMUSG00000000037.16</th>\n",
       "      <td>0.08</td>\n",
       "      <td>0.12</td>\n",
       "      <td>0.27</td>\n",
       "      <td>0.11</td>\n",
       "      <td>0.12</td>\n",
       "      <td>0.05</td>\n",
       "      <td>0.09</td>\n",
       "      <td>0.09</td>\n",
       "      <td>0.16</td>\n",
       "      <td>0.15</td>\n",
       "      <td>0.22</td>\n",
       "      <td>0.22</td>\n",
       "    </tr>\n",
       "    <tr>\n",
       "      <th>...</th>\n",
       "      <td>...</td>\n",
       "      <td>...</td>\n",
       "      <td>...</td>\n",
       "      <td>...</td>\n",
       "      <td>...</td>\n",
       "      <td>...</td>\n",
       "      <td>...</td>\n",
       "      <td>...</td>\n",
       "      <td>...</td>\n",
       "      <td>...</td>\n",
       "      <td>...</td>\n",
       "      <td>...</td>\n",
       "    </tr>\n",
       "    <tr>\n",
       "      <th>ENSMUSG00000112928.1</th>\n",
       "      <td>0.00</td>\n",
       "      <td>0.00</td>\n",
       "      <td>0.00</td>\n",
       "      <td>0.00</td>\n",
       "      <td>0.00</td>\n",
       "      <td>0.00</td>\n",
       "      <td>0.00</td>\n",
       "      <td>0.00</td>\n",
       "      <td>0.00</td>\n",
       "      <td>0.00</td>\n",
       "      <td>0.00</td>\n",
       "      <td>0.00</td>\n",
       "    </tr>\n",
       "    <tr>\n",
       "      <th>ENSMUSG00000112929.1</th>\n",
       "      <td>0.00</td>\n",
       "      <td>0.00</td>\n",
       "      <td>0.00</td>\n",
       "      <td>0.00</td>\n",
       "      <td>0.00</td>\n",
       "      <td>0.00</td>\n",
       "      <td>0.00</td>\n",
       "      <td>0.00</td>\n",
       "      <td>0.00</td>\n",
       "      <td>0.00</td>\n",
       "      <td>0.00</td>\n",
       "      <td>0.00</td>\n",
       "    </tr>\n",
       "    <tr>\n",
       "      <th>ENSMUSG00000112930.1</th>\n",
       "      <td>0.00</td>\n",
       "      <td>0.00</td>\n",
       "      <td>0.00</td>\n",
       "      <td>0.00</td>\n",
       "      <td>0.00</td>\n",
       "      <td>0.00</td>\n",
       "      <td>0.00</td>\n",
       "      <td>0.00</td>\n",
       "      <td>0.00</td>\n",
       "      <td>0.00</td>\n",
       "      <td>0.00</td>\n",
       "      <td>0.00</td>\n",
       "    </tr>\n",
       "    <tr>\n",
       "      <th>ENSMUSG00000112931.1</th>\n",
       "      <td>0.00</td>\n",
       "      <td>0.00</td>\n",
       "      <td>0.00</td>\n",
       "      <td>0.00</td>\n",
       "      <td>0.00</td>\n",
       "      <td>0.00</td>\n",
       "      <td>0.00</td>\n",
       "      <td>0.00</td>\n",
       "      <td>0.00</td>\n",
       "      <td>0.00</td>\n",
       "      <td>0.00</td>\n",
       "      <td>0.00</td>\n",
       "    </tr>\n",
       "    <tr>\n",
       "      <th>ENSMUSG00000112932.1</th>\n",
       "      <td>0.00</td>\n",
       "      <td>0.00</td>\n",
       "      <td>0.00</td>\n",
       "      <td>0.00</td>\n",
       "      <td>0.00</td>\n",
       "      <td>0.00</td>\n",
       "      <td>0.00</td>\n",
       "      <td>0.00</td>\n",
       "      <td>0.00</td>\n",
       "      <td>0.00</td>\n",
       "      <td>0.00</td>\n",
       "      <td>0.00</td>\n",
       "    </tr>\n",
       "  </tbody>\n",
       "</table>\n",
       "<p>50600 rows × 12 columns</p>\n",
       "</div>"
      ],
      "text/plain": [
       "                         2_1    2_2    6_1    6_2   10_1   10_2   14_1   14_2  \\\n",
       "gene_id                                                                         \n",
       "ENSMUSG00000000001.4   73.33  78.50  82.32  80.29  74.53  76.81  78.50  78.50   \n",
       "ENSMUSG00000000003.15   0.00   0.00   0.00   0.00   0.00   0.00   0.00   0.00   \n",
       "ENSMUSG00000000028.14   5.97   4.30   7.89   5.20   4.67   5.67   5.81   5.81   \n",
       "ENSMUSG00000000031.15   0.00   0.00   0.00   0.00   0.07   0.00   0.00   0.00   \n",
       "ENSMUSG00000000037.16   0.08   0.12   0.27   0.11   0.12   0.05   0.09   0.09   \n",
       "...                      ...    ...    ...    ...    ...    ...    ...    ...   \n",
       "ENSMUSG00000112928.1    0.00   0.00   0.00   0.00   0.00   0.00   0.00   0.00   \n",
       "ENSMUSG00000112929.1    0.00   0.00   0.00   0.00   0.00   0.00   0.00   0.00   \n",
       "ENSMUSG00000112930.1    0.00   0.00   0.00   0.00   0.00   0.00   0.00   0.00   \n",
       "ENSMUSG00000112931.1    0.00   0.00   0.00   0.00   0.00   0.00   0.00   0.00   \n",
       "ENSMUSG00000112932.1    0.00   0.00   0.00   0.00   0.00   0.00   0.00   0.00   \n",
       "\n",
       "                        18_1   18_2   22_1   22_1  \n",
       "gene_id                                            \n",
       "ENSMUSG00000000001.4   81.46  78.95  80.20  80.20  \n",
       "ENSMUSG00000000003.15   0.00   0.00   0.00   0.00  \n",
       "ENSMUSG00000000028.14   5.27   5.96   5.56   5.56  \n",
       "ENSMUSG00000000031.15   0.00   0.00   0.00   0.00  \n",
       "ENSMUSG00000000037.16   0.16   0.15   0.22   0.22  \n",
       "...                      ...    ...    ...    ...  \n",
       "ENSMUSG00000112928.1    0.00   0.00   0.00   0.00  \n",
       "ENSMUSG00000112929.1    0.00   0.00   0.00   0.00  \n",
       "ENSMUSG00000112930.1    0.00   0.00   0.00   0.00  \n",
       "ENSMUSG00000112931.1    0.00   0.00   0.00   0.00  \n",
       "ENSMUSG00000112932.1    0.00   0.00   0.00   0.00  \n",
       "\n",
       "[50600 rows x 12 columns]"
      ]
     },
     "execution_count": 18,
     "metadata": {},
     "output_type": "execute_result"
    }
   ],
   "source": [
    "pd_data"
   ]
  },
  {
   "cell_type": "code",
   "execution_count": 21,
   "metadata": {},
   "outputs": [
    {
     "name": "stderr",
     "output_type": "stream",
     "text": [
      "c:\\users\\hmkri\\desktop\\riesenfeld pearson\\lib\\site-packages\\umap\\umap_.py:1678: UserWarning: n_neighbors is larger than the dataset size; truncating to X.shape[0] - 1\n",
      "  warn(\n"
     ]
    },
    {
     "name": "stdout",
     "output_type": "stream",
     "text": [
      "(12, 2)\n"
     ]
    }
   ],
   "source": [
    "reducer = umap.UMAP()\n",
    "UMAP = reducer.fit_transform(np_data.T)\n",
    "print(UMAP.shape)\n",
    "\n",
    "savetxt('circadian_umap.csv', UMAP, delimiter=',')"
   ]
  },
  {
   "cell_type": "code",
   "execution_count": 23,
   "metadata": {},
   "outputs": [
    {
     "name": "stdout",
     "output_type": "stream",
     "text": [
      "UMAP shape: (12, 2)\n",
      "Timepoint shape: (12,)\n"
     ]
    }
   ],
   "source": [
    "UMAP = pd.read_csv(\"circadian_umap.csv\", sep=',', header = None)\n",
    "UMAP = UMAP.values \n",
    "\n",
    "timepoint = np.array([\"2\", \"2\", \"6\", \"6\", \"10\", \"10\", \"14\", \"14\", \"18\", \"18\", \"22\", \"22\"])\n",
    "\n",
    "print(\"UMAP shape: \"+repr(UMAP.shape))\n",
    "print(\"Timepoint shape: \"+repr(timepoint.shape))"
   ]
  },
  {
   "cell_type": "code",
   "execution_count": 26,
   "metadata": {},
   "outputs": [
    {
     "data": {
      "image/png": "[encoded data removed]",
      "text/plain": [
       "<Figure size 432x288 with 1 Axes>"
      ]
     },
     "metadata": {},
     "output_type": "display_data"
    }
   ],
   "source": [
    "frame1 = sns.scatterplot(UMAP[:,0], UMAP[:,1], s=10, hue = timepoint, linewidth = 0, palette = \"coolwarm\")\n",
    "plt.title('Circadian - UMAP')\n",
    "#plt.xlim(-30000,25000)\n",
    "frame1.axes.get_xaxis().set_ticks([])\n",
    "frame1.axes.get_yaxis().set_ticks([])\n",
    "plt.ylabel('UMAP2')\n",
    "plt.xlabel('UMAP1')\n",
    "plt.legend(bbox_to_anchor=(1.05, 1), loc=2, borderaxespad=0.)\n",
    "plt.show()"
   ]
  },
  {
   "cell_type": "markdown",
   "metadata": {},
   "source": [
    "## Distance Matrix"
   ]
  },
  {
   "cell_type": "code",
   "execution_count": 27,
   "metadata": {},
   "outputs": [],
   "source": [
    "from manifold_utils.mSVD import eigen_plot, eigen_calc_from_dist_mat, eps_projection"
   ]
  },
  {
   "cell_type": "code",
   "execution_count": 28,
   "metadata": {},
   "outputs": [],
   "source": [
    "np_data = np_data.T\n",
    "N, d = np_data.shape\n",
    " \n",
    "dist_mat = euclidean_distances(np_data, np_data)"
   ]
  },
  {
   "cell_type": "code",
   "execution_count": 9,
   "metadata": {},
   "outputs": [],
   "source": [
    "savetxt('dist_mat_circadian.csv', dist_mat, delimiter=',')\n",
    "\n",
    "dist_mat = pd.read_csv('dist_mat_circadian.csv', sep=\",\", header = None)\n",
    "dist_mat = np.array(dist_mat )"
   ]
  },
  {
   "cell_type": "code",
   "execution_count": 29,
   "metadata": {},
   "outputs": [
    {
     "name": "stdout",
     "output_type": "stream",
     "text": [
      "(12, 12)\n"
     ]
    }
   ],
   "source": [
    "print(dist_mat.shape)"
   ]
  },
  {
   "cell_type": "markdown",
   "metadata": {},
   "source": [
    "## Visualize Landmarks"
   ]
  },
  {
   "cell_type": "code",
   "execution_count": 30,
   "metadata": {},
   "outputs": [
    {
     "name": "stdout",
     "output_type": "stream",
     "text": [
      "[0, 1, 2, 3, 4, 5, 6, 7, 8, 9, 10, 11]\n"
     ]
    }
   ],
   "source": [
    "#using all points bc only 12 samples - BULK RNAseq\n",
    "landmarks = [0,1,2,3,4,5,6,7,8,9,10,11]\n",
    "print(landmarks)"
   ]
  },
  {
   "cell_type": "markdown",
   "metadata": {},
   "source": [
    "## Persistence Diagrams"
   ]
  },
  {
   "cell_type": "code",
   "execution_count": 31,
   "metadata": {},
   "outputs": [
    {
     "name": "stdout",
     "output_type": "stream",
     "text": [
      "Rips(maxdim=1, thresh=inf, coeff=2, do_cocycles=False, n_perm = None, verbose=True)\n"
     ]
    },
    {
     "name": "stderr",
     "output_type": "stream",
     "text": [
      "c:\\users\\hmkri\\desktop\\riesenfeld pearson\\lib\\site-packages\\ripser\\ripser.py:257: UserWarning: The input point cloud has more columns than rows; did you mean to transpose?\n",
      "  warnings.warn(\n"
     ]
    },
    {
     "data": {
      "image/png": "[encoded data removed]",
      "text/plain": [
       "<Figure size 432x288 with 1 Axes>"
      ]
     },
     "metadata": {
      "needs_background": "light"
     },
     "output_type": "display_data"
    }
   ],
   "source": [
    "rips = Rips()\n",
    "diagrams = rips.fit_transform(np_data, distance_matrix=False, metric=\"euclidean\")\n",
    "rips.plot(diagrams)"
   ]
  },
  {
   "cell_type": "markdown",
   "metadata": {},
   "source": [
    "## Eigen plots"
   ]
  },
  {
   "cell_type": "code",
   "execution_count": 32,
   "metadata": {},
   "outputs": [],
   "source": [
    "from manifold_utils.mSVD import eigen_plot, eigen_calc_from_dist_mat, eps_projection, eigen_plot_numPoints, eigen_calc_from_dist_mat_withNumPoints\n",
    "from manifold_utils.iga import chakraborty_express, iga"
   ]
  },
  {
   "cell_type": "code",
   "execution_count": null,
   "metadata": {},
   "outputs": [
    {
     "name": "stdout",
     "output_type": "stream",
     "text": [
      "0\n"
     ]
    }
   ],
   "source": [
    "for i in range(len(landmarks)):\n",
    "    print(landmarks[i])\n",
    "    center = landmarks[i]\n",
    "    radii, eigval_list, eigvec_list = eigen_calc_from_dist_mat(np_data, dist_mat, center, radint = 10)\n",
    "\n",
    "    rmin = radii[0]\n",
    "    rmax = radii[-1]\n",
    "    \n",
    "    eigen_plot(eigval_list, radii, rmin, rmax)"
   ]
  },
  {
   "cell_type": "code",
   "execution_count": null,
   "metadata": {},
   "outputs": [],
   "source": []
  },
  {
   "cell_type": "code",
   "execution_count": null,
   "metadata": {},
   "outputs": [],
   "source": []
  }
 ],
 "metadata": {
  "kernelspec": {
   "display_name": "Python 3",
   "language": "python",
   "name": "python3"
  },
  "language_info": {
   "codemirror_mode": {
    "name": "ipython",
    "version": 3
   },
   "file_extension": ".py",
   "mimetype": "text/x-python",
   "name": "python",
   "nbconvert_exporter": "python",
   "pygments_lexer": "ipython3",
   "version": "3.8.0"
  }
 },
 "nbformat": 4,
 "nbformat_minor": 4
}

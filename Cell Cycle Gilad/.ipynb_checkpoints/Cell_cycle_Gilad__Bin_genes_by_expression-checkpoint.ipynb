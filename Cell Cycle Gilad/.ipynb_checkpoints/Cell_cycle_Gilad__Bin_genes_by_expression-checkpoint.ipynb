{
 "cells": [
  {
   "cell_type": "markdown",
   "metadata": {},
   "source": [
    "## Packages"
   ]
  },
  {
   "cell_type": "code",
   "execution_count": null,
   "metadata": {},
   "outputs": [],
   "source": [
    "import pandas as pd\n",
    "import numpy as np\n",
    "import matplotlib.pyplot as plt\n",
    "import seaborn as sns\n",
    "from sklearn.decomposition import NMF\n",
    "from numpy import asarray\n",
    "from numpy import savetxt\n",
    "import matplotlib.colors as mcolors\n",
    "import matplotlib.cm\n",
    "import matplotlib.patches as mpatches\n",
    "import umap\n",
    "import matplotlib as mpl\n",
    "import scanpy as sc\n",
    "import scipy\n",
    "import kmapper as km\n",
    "from kmapper import jupyter\n",
    "from kmapper.plotlyviz import plotlyviz\n",
    "from kmapper.plotlyviz import *\n",
    "import plotly.graph_objs as go\n",
    "import sys\n",
    "from sklearn import ensemble\n",
    "import tqdm\n",
    "from ripser import Rips\n",
    "from ripser import ripser\n",
    "from persim import plot_diagrams\n",
    "from sklearn.metrics.pairwise import euclidean_distances\n",
    "import umap\n",
    "from numpy import random\n",
    "from sklearn.decomposition import PCA\n",
    "from mpl_toolkits import mplot3d"
   ]
  },
  {
   "cell_type": "code",
   "execution_count": null,
   "metadata": {},
   "outputs": [],
   "source": [
    "# ----------------------- Palettes ------------------------\n",
    "\n",
    "blue = [\"blue\", \"cornflowerblue\", \"lightskyblue\"]\n",
    "red = [\"maroon\", \"indianred\", \"salmon\"]\n",
    "orange = [\"orangered\",\"coral\", \"orange\"]\n",
    "purple = [\"indigo\", \"rebeccapurple\", \"mediumpurple\"]\n",
    "green = [\"darkgreen\", \"limegreen\", \"lightgreen\"]\n",
    "yellow = [\"darkgoldenrod\", \"goldenrob\", \"gold\"]\n",
    "teal = [\"darkcyan\",\"lightseagreen\",\"paleturquoise\"]\n",
    "\n",
    "pal_array = np.array([np.array(blue), np.array(red), np.array(orange), np.array(purple), np.array(green), np.array(yellow), np.array(teal)])\n",
    "\n",
    "custom_palette = pd.DataFrame(pal_array, index = [\"blue\", \"red\", \"orange\", \"purple\", \"green\", \"yellow\", \"teal\"], columns = [\"dark\", \"medium\", \"light\"])"
   ]
  },
  {
   "cell_type": "code",
   "execution_count": null,
   "metadata": {},
   "outputs": [],
   "source": [
    "def persistance_diagram(expression_matrix, color, title_plt):\n",
    "    \n",
    "    # expression_matrix - expression matrix to be fed into Risper (will be transposed)\n",
    "    # color - \"blue\", \"red\", \"orange\", \"purple\", \"green\", \"yellow\"\n",
    "    # title_plt - title for returned persistance diagram\n",
    "    # returns birth-death pairs for lifetime\n",
    "    \n",
    "    bd = ripser(expression_matrix.T, maxdim=1)['dgms']\n",
    "    \n",
    "    xy_H_0 = bd[0]\n",
    "    xy_H_1 = bd[1]\n",
    "\n",
    "    y_max = sorted(list(xy_H_0[:,1]))[-2]\n",
    "    print(sorted(list(xy_H_0[:,1]))[-1])\n",
    "    x_max = sorted(list(xy_H_1[:,1]))[-1]\n",
    "    either_max = np.amax(np.array([x_max, y_max]))\n",
    "    \n",
    "    buffer = either_max*0.1\n",
    "    \n",
    "    x = np.linspace(-1*buffer,either_max,500)\n",
    "\n",
    "    plt.figure(figsize=(5, 5))\n",
    "            \n",
    "    sns.scatterplot(xy_H_0[:,0], xy_H_0[:,1], hue = np.ones(xy_H_0.shape[0]), s = 5, linewidth=0, palette = [custom_palette.loc[color][\"medium\"]], label = \"H_0\")\n",
    "    sns.scatterplot(xy_H_1[:,0], xy_H_1[:,1], hue = np.ones(xy_H_1.shape[0]), s = 5, linewidth=0, palette = [custom_palette.loc[color][\"dark\"]], label = \"H_1\")\n",
    "    plt.plot(x, x, ':k', label='Birth = Death')\n",
    "    plt.plot(x, either_max*np.ones(x.shape), ':k', label='Fully Connected Component')\n",
    "    plt.ylabel('Death')\n",
    "    plt.xlabel('Birth')\n",
    "    plt.ylim((-1*buffer,either_max*1.1))\n",
    "    plt.xlim((-1*buffer,either_max*1.1))\n",
    "    plt.title(title_plt)\n",
    "    plt.legend(bbox_to_anchor=(1.2, 1),borderaxespad=0)\n",
    "    #plt.savefig('.png')\n",
    "    plt.show()\n",
    "    \n",
    "    return bd, color"
   ]
  },
  {
   "cell_type": "code",
   "execution_count": null,
   "metadata": {},
   "outputs": [],
   "source": [
    "def birth_lifetime(bd, data_type, color):\n",
    "    \n",
    "    # color - \"blue\", \"red\", \"orange\", \"purple\", \"green\", \"yellow\"\n",
    "    # bd - birth-death pairs for lifetime\n",
    "    \n",
    "    if data_type==0:\n",
    "        title_plt = \"All Genes\"\n",
    "\n",
    "    elif data_type==1:\n",
    "        title_plt = \"Cell Cycle Genes\"\n",
    "\n",
    "    else:\n",
    "        title_plt = \"Random Genes\"\n",
    "\n",
    "    \n",
    "    H_1 = np.array(bd[1])\n",
    "    lifetime = []\n",
    "\n",
    "    for i in range(H_1.shape[0]):\n",
    "        lifetime.append(H_1[i, 1] - H_1[i, 0])\n",
    "    lifetime = np.array(lifetime)\n",
    "\n",
    "    plt.figure(figsize=(5, 5))\n",
    "            \n",
    "    plt.scatter(H_1[:, 0], lifetime, s = 5, linewidth=0, c = custom_palette.loc[color][data_type], label = \"H_1\")\n",
    "    plt.ylabel('Lifetime')\n",
    "    plt.xlabel('Birth')\n",
    "    plt.title(title_plt)\n",
    "    plt.legend(bbox_to_anchor=(1.2, 1),borderaxespad=0)\n",
    "    #plt.savefig('.png')\n",
    "    plt.show()"
   ]
  },
  {
   "cell_type": "code",
   "execution_count": null,
   "metadata": {},
   "outputs": [],
   "source": [
    "def violin_lifetime(bd, data_type, color, sublabel):\n",
    "    #bd and color sane as persistance_diagram\n",
    "    #data_type refers to 0:All genes, 1:Cell cycle genes, 2:Random genes_1\n",
    "    \n",
    "    if data_type==0:\n",
    "        y_label = \"All Genes\"\n",
    "        y_top = 100\n",
    "    elif data_type==1:\n",
    "        y_label = \"Cell Cycle Genes\"\n",
    "        y_top = 20\n",
    "    else:\n",
    "        y_label = \"Random Genes\"\n",
    "        y_top = 20\n",
    "    \n",
    "    H_1 = np.array(bd[1])\n",
    "    lifetime = []\n",
    "\n",
    "    for i in range(H_1.shape[0]):\n",
    "        lifetime.append(H_1[i, 1] - H_1[i, 0]) #append lifetime of each feature\n",
    "    \n",
    "    lifetime = np.reshape(np.array(lifetime), (H_1.shape[0],1))\n",
    "\n",
    "    plt.figure(figsize=(2,5))\n",
    "    sns.violinplot(y=lifetime, palette = [custom_palette.loc[color][data_type]])\n",
    "    sns.swarmplot(x=np.array([y_label]), y=np.array([np.amax(lifetime)]), color=custom_palette.loc[color][0], s = 10)\n",
    "    plt.ylabel(\"Lifetime of H1 features\")\n",
    "    plt.xlabel(sublabel, fontsize=8)\n",
    "    plt.ylim((0,y_top))\n",
    "    plt.show()\n",
    "    \n"
   ]
  },
  {
   "cell_type": "code",
   "execution_count": null,
   "metadata": {},
   "outputs": [],
   "source": [
    "def visualize(data, pca_n, plot_label, hue):\n",
    "    pca = PCA(n_components=pca_n)\n",
    "    pca.fit(data.T)\n",
    "    X = pca.transform(data.T)\n",
    "    print(X.shape)\n",
    "\n",
    "    reducer = umap.UMAP(random_state=42, n_components=2)\n",
    "    embedding = reducer.fit_transform(X)\n",
    "    print(embedding.shape)\n",
    "    \n",
    "    reducer_3 = umap.UMAP(random_state=42, n_components=3)\n",
    "    embedding_3 = reducer_3.fit_transform(X)\n",
    "    print(embedding_3.shape)\n",
    "    \n",
    "    #var = np.array(pca.explained_variance_ratio_)\n",
    "    #pcs = np.arange(1,21)\n",
    "\n",
    "    #sns.scatterplot(pcs, var)\n",
    "    #plt.ylabel('Explained variance ratio')\n",
    "    #plt.xlabel('Principle components')\n",
    "    #plt.show()\n",
    "    \n",
    "    plt.figure(figsize=(8, 6))\n",
    "            \n",
    "    sns.scatterplot(embedding[:,0], embedding[:,1], hue = np.ones(embedding.shape[0]), s = 20, linewidth=0, palette = [color_selection[hue]])\n",
    "\n",
    "    plt.ylabel('UMAP2')\n",
    "    plt.xlabel('UMAP1')\n",
    "    plt.title(plot_label)\n",
    "    plt.legend(bbox_to_anchor=(1.2, 1),borderaxespad=0)\n",
    "    #plt.savefig('.png')\n",
    "    plt.show()\n",
    "    \n",
    "    fig = plt.figure()\n",
    "    ax = plt.axes(projection='3d')\n",
    "    ax.scatter3D(embedding_3[:,0], embedding_3[:,1], embedding_3[:,2], c=color_selection[hue])\n",
    "    plt.show()\n",
    "    \n",
    "    fig = plt.figure()\n",
    "    ax = plt.axes(projection='3d')\n",
    "    ax.scatter3D(embedding_3[:,1], embedding_3[:,2], embedding_3[:,0], c=color_selection[hue])\n",
    "    plt.show()\n",
    "    \n",
    "    fig = plt.figure()\n",
    "    ax = plt.axes(projection='3d')\n",
    "    ax.scatter3D(embedding_3[:,2], embedding_3[:,0], embedding_3[:,1], c=color_selection[hue])\n",
    "    plt.show()"
   ]
  },
  {
   "cell_type": "code",
   "execution_count": null,
   "metadata": {},
   "outputs": [],
   "source": [
    "def find_random(size, seed):\n",
    "    np.random.seed(seed)\n",
    "    CDK1 = \"ENSG00000170312\"\n",
    "    UBE2C = \"ENSG00000175063\"\n",
    "    TOP2A = \"ENSG00000131747\"\n",
    "    #H4C5 = \"ENSG00000276966\"\n",
    "    H4C3 = \"ENSG00000197061\"\n",
    "\n",
    "    # Cell cycle genes for comparison\n",
    "    cell_cycle = [CDK1, UBE2C, TOP2A, H4C3]\n",
    "    compare = gene_expression.loc[cell_cycle]\n",
    "    \n",
    "    # Bin expression - find bins for cell cycle genes\n",
    "    q = 0.05\n",
    "    quantiles = []\n",
    "    for i in range(10):\n",
    "        quantiles.append(np.quantile(gene_expression.values.T, q, axis = 1))\n",
    "        q += 0.1\n",
    "    \n",
    "    quantiles.append(np.quantile(gene_expression.values.T, 1, axis = 1)+1)\n",
    "    quantiles = np.array(quantiles)\n",
    "    quantiles = np.mean(quantiles, axis = 1)\n",
    "    \n",
    "    \n",
    "    cell_cycle_bin = []\n",
    "    for i in range(size):\n",
    "        loc = np.where(np.mean(gene_expression.loc[cell_cycle[i]]) > quantiles)[0]\n",
    "        cell_cycle_bin.append(loc[-1])\n",
    "        \n",
    "    \n",
    "    # Take mean expression for finding other genes in bin\n",
    "    gene_expression_mean = pd.DataFrame(np.mean(gene_expression.values, axis = 1), index = gene_expression.index, columns = [\"Mean_exp\"])\n",
    "    \n",
    "    # For each cell cycle gene - find the bin, sample a random gene from that same bin\n",
    "    rand_gene_list = []\n",
    "    for i in cell_cycle_bin:\n",
    "        range_min = quantiles[i]\n",
    "        range_max = quantiles[i + 1]\n",
    "        random_possibilities = gene_expression_mean[(gene_expression_mean[\"Mean_exp\"] > range_min) & (gene_expression_mean[\"Mean_exp\"] < range_max)]\n",
    "        random_possibilities_index = random_possibilities.index\n",
    "        \n",
    "        \n",
    "        rand_gene_index = np.random.randint(0, random_possibilities_index.shape[0], size=1)\n",
    "        rand_gene = random_possibilities_index[rand_gene_index][0]\n",
    "        rand_gene_list.append(rand_gene)\n",
    "    \n",
    "    \n",
    "    return rand_gene_list"
   ]
  },
  {
   "cell_type": "code",
   "execution_count": null,
   "metadata": {},
   "outputs": [],
   "source": []
  },
  {
   "cell_type": "code",
   "execution_count": null,
   "metadata": {},
   "outputs": [],
   "source": []
  },
  {
   "cell_type": "markdown",
   "metadata": {},
   "source": [
    "## Read in data"
   ]
  },
  {
   "cell_type": "code",
   "execution_count": null,
   "metadata": {},
   "outputs": [],
   "source": [
    "gene_expression = pd.read_csv(\"final_geneexpression.csv\", sep=',', header = 0, index_col = 0)\n",
    "labels = pd.read_csv(\"final_labels.csv\", sep=',', header = 0, index_col = 0)"
   ]
  },
  {
   "cell_type": "code",
   "execution_count": null,
   "metadata": {},
   "outputs": [],
   "source": [
    "gene_expression"
   ]
  },
  {
   "cell_type": "code",
   "execution_count": null,
   "metadata": {},
   "outputs": [],
   "source": [
    "labels"
   ]
  },
  {
   "cell_type": "code",
   "execution_count": null,
   "metadata": {},
   "outputs": [],
   "source": [
    "pca = PCA(n_components=20)\n",
    "pca.fit(gene_expression.values.T)\n",
    "X = pca.transform(gene_expression.values.T)\n",
    "print(X.shape)\n",
    "    \n",
    "reducer = umap.UMAP(random_state=42, n_components=2)\n",
    "embedding = reducer.fit_transform(X)\n",
    "print(embedding.shape)"
   ]
  },
  {
   "cell_type": "code",
   "execution_count": null,
   "metadata": {},
   "outputs": [],
   "source": [
    "plt.figure(figsize=(8, 6))\n",
    "            \n",
    "sns.scatterplot(embedding[:,0], embedding[:,1], hue = labels[\"theta\"], s = 20, linewidth=0, palette = \"twilight\", hue_norm = (0,2*3.1415))\n",
    "\n",
    "plt.ylabel('UMAP2')\n",
    "plt.xlabel('UMAP1')\n",
    "plt.title('UMAP - Theta')\n",
    "plt.legend(bbox_to_anchor=(1.2, 1),borderaxespad=0)\n",
    "#plt.savefig('.png')\n",
    "plt.show()"
   ]
  },
  {
   "cell_type": "code",
   "execution_count": null,
   "metadata": {},
   "outputs": [],
   "source": [
    "plt.figure(figsize=(8, 6))\n",
    "            \n",
    "sns.scatterplot(embedding[:,0], embedding[:,1], hue = labels[\"rfp.median.log10sum.adjust\"], s = 20, linewidth=0, palette = \"coolwarm\", hue_norm=(-1,1))\n",
    "\n",
    "plt.ylabel('UMAP2')\n",
    "plt.xlabel('UMAP1')\n",
    "plt.title('UMAP - RFP')\n",
    "plt.legend(bbox_to_anchor=(1.1, 1),borderaxespad=0)\n",
    "#plt.savefig('.png')\n",
    "plt.show()"
   ]
  },
  {
   "cell_type": "code",
   "execution_count": null,
   "metadata": {},
   "outputs": [],
   "source": [
    "plt.figure(figsize=(8, 6))\n",
    "            \n",
    "sns.scatterplot(embedding[:,0], embedding[:,1], hue = labels[\"gfp.median.log10sum.adjust\"], s = 20, linewidth=0, palette = \"coolwarm\", hue_norm=(-1,1))\n",
    "\n",
    "plt.ylabel('UMAP2')\n",
    "plt.xlabel('UMAP1')\n",
    "plt.title('UMAP - GFP')\n",
    "plt.legend(bbox_to_anchor=(1.1, 1),borderaxespad=0)\n",
    "#plt.savefig('.png')\n",
    "plt.show()"
   ]
  },
  {
   "cell_type": "code",
   "execution_count": null,
   "metadata": {},
   "outputs": [],
   "source": [
    "color_selection = custom_palette.loc[\"blue\"]"
   ]
  },
  {
   "cell_type": "code",
   "execution_count": null,
   "metadata": {},
   "outputs": [],
   "source": [
    "visualize(gene_expression.values, 20, 'UMAP - All Cells, All Genes', 0)"
   ]
  },
  {
   "cell_type": "code",
   "execution_count": null,
   "metadata": {},
   "outputs": [],
   "source": [
    "plt.figure(figsize=(8, 6))\n",
    "            \n",
    "sns.scatterplot(embedding[:,0], embedding[:,1], hue = np.ones(embedding.shape[0]), s = 20, linewidth=0, palette = [color_selection[0]])\n",
    "\n",
    "plt.ylabel('UMAP2')\n",
    "plt.xlabel('UMAP1')\n",
    "plt.title('UMAP - All Cells, All Genes')\n",
    "plt.legend(bbox_to_anchor=(1.2, 1),borderaxespad=0)\n",
    "#plt.savefig('.png')\n",
    "plt.show()"
   ]
  },
  {
   "cell_type": "markdown",
   "metadata": {},
   "source": [
    "## Persistence Diagram"
   ]
  },
  {
   "cell_type": "code",
   "execution_count": null,
   "metadata": {},
   "outputs": [],
   "source": [
    "bd, color = persistance_diagram(gene_expression.values, \"blue\", \"All Cells, All Genes\")"
   ]
  },
  {
   "cell_type": "code",
   "execution_count": null,
   "metadata": {},
   "outputs": [],
   "source": [
    "birth_lifetime(bd, 0, color)"
   ]
  },
  {
   "cell_type": "code",
   "execution_count": null,
   "metadata": {},
   "outputs": [],
   "source": [
    "sublabel = \"\"\n",
    "\n",
    "violin_lifetime(bd, 0, color, sublabel)"
   ]
  },
  {
   "cell_type": "code",
   "execution_count": null,
   "metadata": {},
   "outputs": [],
   "source": []
  },
  {
   "cell_type": "markdown",
   "metadata": {},
   "source": [
    "## Reduce data to cyclic genes"
   ]
  },
  {
   "cell_type": "code",
   "execution_count": null,
   "metadata": {},
   "outputs": [],
   "source": [
    "CDK1 = \"ENSG00000170312\"\n",
    "UBE2C = \"ENSG00000175063\"\n",
    "TOP2A = \"ENSG00000131747\"\n",
    "#H4C5 = \"ENSG00000276966\"\n",
    "H4C3 = \"ENSG00000197061\"\n",
    "\n",
    "sublabel_cycle = \"CDK1, UBE2C, TOP2A, H4C3\""
   ]
  },
  {
   "cell_type": "code",
   "execution_count": null,
   "metadata": {},
   "outputs": [],
   "source": [
    "gene_sub = gene_expression.loc[[CDK1, UBE2C, TOP2A, H4C3]]"
   ]
  },
  {
   "cell_type": "code",
   "execution_count": null,
   "metadata": {},
   "outputs": [],
   "source": [
    "pca = PCA(n_components=4)\n",
    "pca.fit(gene_sub.values.T)\n",
    "X = pca.transform(gene_sub.values.T)\n",
    "print(X.shape)\n",
    "    \n",
    "reducer = umap.UMAP(random_state=42, n_components=2)\n",
    "embedding_sub = reducer.fit_transform(X)\n",
    "print(embedding_sub.shape)"
   ]
  },
  {
   "cell_type": "code",
   "execution_count": null,
   "metadata": {},
   "outputs": [],
   "source": [
    "visualize(gene_sub.values, 4, 'UMAP - All Cells, Cell Cycle Genes', 1)"
   ]
  },
  {
   "cell_type": "code",
   "execution_count": null,
   "metadata": {},
   "outputs": [],
   "source": [
    "plt.figure(figsize=(8, 6))\n",
    "            \n",
    "sns.scatterplot(embedding_sub[:,0], embedding_sub[:,1], hue = np.ones(embedding_sub.shape[0]), s = 20, linewidth=0, palette = [color_selection[1]])\n",
    "plt.ylabel('UMAP2')\n",
    "plt.xlabel('UMAP1')\n",
    "plt.title('UMAP - All Cells, Cell Cycle Genes')\n",
    "plt.legend(bbox_to_anchor=(1.2, 1),borderaxespad=0)\n",
    "#plt.savefig('.png')\n",
    "plt.show()"
   ]
  },
  {
   "cell_type": "code",
   "execution_count": null,
   "metadata": {},
   "outputs": [],
   "source": [
    "plt.figure(figsize=(8, 6))\n",
    "            \n",
    "sns.scatterplot(embedding_sub[:,0], embedding_sub[:,1], hue = labels[\"theta\"], s = 20, linewidth=0, palette = \"twilight\", hue_norm = (0,2*3.1415))\n",
    "\n",
    "plt.ylabel('UMAP2')\n",
    "plt.xlabel('UMAP1')\n",
    "plt.title('UMAP - Theta')\n",
    "plt.legend(bbox_to_anchor=(1.1, 1),borderaxespad=0)\n",
    "#plt.savefig('.png')\n",
    "plt.show()"
   ]
  },
  {
   "cell_type": "code",
   "execution_count": null,
   "metadata": {},
   "outputs": [],
   "source": [
    "plt.figure(figsize=(8, 6))\n",
    "            \n",
    "sns.scatterplot(embedding_sub[:,0], embedding_sub[:,1], hue = labels[\"rfp.median.log10sum.adjust\"], s = 20, linewidth=0, palette = \"coolwarm\", hue_norm=(-1,1))\n",
    "\n",
    "plt.ylabel('UMAP2')\n",
    "plt.xlabel('UMAP1')\n",
    "plt.title('UMAP - RFP')\n",
    "plt.legend(bbox_to_anchor=(1.1, 1),borderaxespad=0)\n",
    "#plt.savefig('.png')\n",
    "plt.show()"
   ]
  },
  {
   "cell_type": "code",
   "execution_count": null,
   "metadata": {},
   "outputs": [],
   "source": [
    "plt.figure(figsize=(8, 6))\n",
    "            \n",
    "sns.scatterplot(embedding_sub[:,0], embedding_sub[:,1], hue = labels[\"gfp.median.log10sum.adjust\"], s = 20, linewidth=0, palette = \"coolwarm\", hue_norm=(-1,1))\n",
    "\n",
    "plt.ylabel('UMAP2')\n",
    "plt.xlabel('UMAP1')\n",
    "plt.title('UMAP - GFP')\n",
    "plt.legend(bbox_to_anchor=(1.1, 1),borderaxespad=0)\n",
    "#plt.savefig('.png')\n",
    "plt.show()"
   ]
  },
  {
   "cell_type": "code",
   "execution_count": null,
   "metadata": {},
   "outputs": [],
   "source": [
    "bd, color = persistance_diagram(gene_sub.values, \"blue\", \"All Cells, Cell Cycle Genes\")"
   ]
  },
  {
   "cell_type": "code",
   "execution_count": null,
   "metadata": {},
   "outputs": [],
   "source": [
    "birth_lifetime(bd, 1, color)"
   ]
  },
  {
   "cell_type": "code",
   "execution_count": null,
   "metadata": {},
   "outputs": [],
   "source": [
    "violin_lifetime(bd, 1, color, sublabel_cycle)"
   ]
  },
  {
   "cell_type": "code",
   "execution_count": null,
   "metadata": {},
   "outputs": [],
   "source": []
  },
  {
   "cell_type": "code",
   "execution_count": null,
   "metadata": {},
   "outputs": [],
   "source": []
  },
  {
   "cell_type": "code",
   "execution_count": null,
   "metadata": {},
   "outputs": [],
   "source": []
  },
  {
   "cell_type": "code",
   "execution_count": null,
   "metadata": {},
   "outputs": [],
   "source": []
  },
  {
   "cell_type": "markdown",
   "metadata": {},
   "source": [
    "## Select 4 random genes"
   ]
  },
  {
   "cell_type": "code",
   "execution_count": null,
   "metadata": {},
   "outputs": [],
   "source": [
    "rand_gene = find_random(4, 0)\n",
    "print(rand_gene)"
   ]
  },
  {
   "cell_type": "code",
   "execution_count": null,
   "metadata": {},
   "outputs": [],
   "source": [
    "sublabel_1 = \"POLR3K, PRDX5, HSP90B1, MDH1\"\n",
    "\n",
    "gene_sub_rand1 = gene_expression.loc[rand_gene]"
   ]
  },
  {
   "cell_type": "code",
   "execution_count": null,
   "metadata": {},
   "outputs": [],
   "source": [
    "visualize(gene_sub_rand1.values, 4, 'UMAP - All Cells, Random Genes_1', 2)"
   ]
  },
  {
   "cell_type": "code",
   "execution_count": null,
   "metadata": {},
   "outputs": [],
   "source": [
    "bd, color = persistance_diagram(gene_sub_rand1.values, \"blue\", \"All Cells, Random Genes_1\")"
   ]
  },
  {
   "cell_type": "code",
   "execution_count": null,
   "metadata": {},
   "outputs": [],
   "source": [
    "birth_lifetime(bd, 2, color)"
   ]
  },
  {
   "cell_type": "code",
   "execution_count": null,
   "metadata": {},
   "outputs": [],
   "source": [
    "violin_lifetime(bd, 2, color, sublabel_1)"
   ]
  },
  {
   "cell_type": "code",
   "execution_count": null,
   "metadata": {},
   "outputs": [],
   "source": []
  },
  {
   "cell_type": "markdown",
   "metadata": {},
   "source": [
    "## Select 4 random genes_2"
   ]
  },
  {
   "cell_type": "code",
   "execution_count": null,
   "metadata": {},
   "outputs": [],
   "source": [
    "rand_gene = find_random(4, 10)\n",
    "print(rand_gene)"
   ]
  },
  {
   "cell_type": "code",
   "execution_count": null,
   "metadata": {},
   "outputs": [],
   "source": [
    "sublabel_2 = \"ARPC3, CUTA, EEF1A1, TUBA1A\"\n",
    "\n",
    "gene_sub_rand2 = gene_expression.loc[rand_gene]"
   ]
  },
  {
   "cell_type": "code",
   "execution_count": null,
   "metadata": {},
   "outputs": [],
   "source": [
    "visualize(gene_sub_rand2.values, 4, 'UMAP - All Cells, Random Genes_2', 2)"
   ]
  },
  {
   "cell_type": "code",
   "execution_count": null,
   "metadata": {},
   "outputs": [],
   "source": [
    "bd, color = persistance_diagram(gene_sub_rand2.values, \"blue\", \"All Cells, Random Genes_2\")"
   ]
  },
  {
   "cell_type": "code",
   "execution_count": null,
   "metadata": {},
   "outputs": [],
   "source": [
    "birth_lifetime(bd, 2, color)"
   ]
  },
  {
   "cell_type": "code",
   "execution_count": null,
   "metadata": {},
   "outputs": [],
   "source": [
    "violin_lifetime(bd, 2, color, sublabel_2)"
   ]
  },
  {
   "cell_type": "code",
   "execution_count": null,
   "metadata": {},
   "outputs": [],
   "source": []
  },
  {
   "cell_type": "code",
   "execution_count": null,
   "metadata": {},
   "outputs": [],
   "source": []
  },
  {
   "cell_type": "markdown",
   "metadata": {},
   "source": [
    "## Select 4 random genes_3"
   ]
  },
  {
   "cell_type": "code",
   "execution_count": null,
   "metadata": {},
   "outputs": [],
   "source": [
    "rand_gene = find_random(4, 20)\n",
    "print(rand_gene)"
   ]
  },
  {
   "cell_type": "code",
   "execution_count": null,
   "metadata": {},
   "outputs": [],
   "source": [
    "sublabel_3 = \"CCND2, OSTC, CNIH4, SRRM1\"\n",
    "\n",
    "gene_sub_rand3 = gene_expression.loc[rand_gene]"
   ]
  },
  {
   "cell_type": "code",
   "execution_count": null,
   "metadata": {},
   "outputs": [],
   "source": [
    "visualize(gene_sub_rand3.values, 4, 'UMAP - All Cells, Random Genes_3', 2)"
   ]
  },
  {
   "cell_type": "code",
   "execution_count": null,
   "metadata": {},
   "outputs": [],
   "source": [
    "bd, color = persistance_diagram(gene_sub_rand3.values, \"blue\", \"All Cells, Random Genes_3\")"
   ]
  },
  {
   "cell_type": "code",
   "execution_count": null,
   "metadata": {},
   "outputs": [],
   "source": [
    "birth_lifetime(bd, 2, color)"
   ]
  },
  {
   "cell_type": "code",
   "execution_count": null,
   "metadata": {},
   "outputs": [],
   "source": [
    "violin_lifetime(bd, 2, color, sublabel_3)"
   ]
  },
  {
   "cell_type": "code",
   "execution_count": null,
   "metadata": {},
   "outputs": [],
   "source": []
  },
  {
   "cell_type": "code",
   "execution_count": null,
   "metadata": {},
   "outputs": [],
   "source": []
  },
  {
   "cell_type": "markdown",
   "metadata": {},
   "source": [
    "## Select 4 random genes_4"
   ]
  },
  {
   "cell_type": "code",
   "execution_count": null,
   "metadata": {},
   "outputs": [],
   "source": [
    "rand_gene = find_random(4, 30)\n",
    "print(rand_gene)"
   ]
  },
  {
   "cell_type": "code",
   "execution_count": null,
   "metadata": {},
   "outputs": [],
   "source": [
    "sublabel_4 = \"BSG, EIF3K, MTRNR2L1, RPS15\"\n",
    "\n",
    "gene_sub_rand4 = gene_expression.loc[rand_gene]"
   ]
  },
  {
   "cell_type": "code",
   "execution_count": null,
   "metadata": {},
   "outputs": [],
   "source": [
    "visualize(gene_sub_rand4.values, 4, 'UMAP - All Cells, Random Genes_4', 2)"
   ]
  },
  {
   "cell_type": "code",
   "execution_count": null,
   "metadata": {},
   "outputs": [],
   "source": [
    "bd, color = persistance_diagram(gene_sub_rand4.values, \"blue\", \"All Cells, Random Genes_4\")"
   ]
  },
  {
   "cell_type": "code",
   "execution_count": null,
   "metadata": {},
   "outputs": [],
   "source": [
    "birth_lifetime(bd, 2, color)"
   ]
  },
  {
   "cell_type": "code",
   "execution_count": null,
   "metadata": {},
   "outputs": [],
   "source": [
    "violin_lifetime(bd, 2, color, sublabel_4)"
   ]
  },
  {
   "cell_type": "code",
   "execution_count": null,
   "metadata": {},
   "outputs": [],
   "source": []
  },
  {
   "cell_type": "code",
   "execution_count": null,
   "metadata": {},
   "outputs": [],
   "source": []
  },
  {
   "cell_type": "markdown",
   "metadata": {},
   "source": [
    "## Select 4 random genes_5"
   ]
  },
  {
   "cell_type": "code",
   "execution_count": null,
   "metadata": {},
   "outputs": [],
   "source": [
    "rand_gene = find_random(4, 40)\n",
    "print(rand_gene)"
   ]
  },
  {
   "cell_type": "code",
   "execution_count": null,
   "metadata": {},
   "outputs": [],
   "source": [
    "sublabel_5 = \"FARSB, EIF5A, RPS20, ACAT2\"\n",
    "\n",
    "gene_sub_rand5 = gene_expression.loc[rand_gene]"
   ]
  },
  {
   "cell_type": "code",
   "execution_count": null,
   "metadata": {},
   "outputs": [],
   "source": [
    "visualize(gene_sub_rand5.values, 4, 'UMAP - All Cells, Random Genes_5', 2)"
   ]
  },
  {
   "cell_type": "code",
   "execution_count": null,
   "metadata": {},
   "outputs": [],
   "source": [
    "bd, color = persistance_diagram(gene_sub_rand5.values, \"blue\", \"All Cells, Random Genes_5\")"
   ]
  },
  {
   "cell_type": "code",
   "execution_count": null,
   "metadata": {},
   "outputs": [],
   "source": [
    "birth_lifetime(bd, 2, color)"
   ]
  },
  {
   "cell_type": "code",
   "execution_count": null,
   "metadata": {},
   "outputs": [],
   "source": [
    "violin_lifetime(bd, 2, color, sublabel_5)"
   ]
  },
  {
   "cell_type": "code",
   "execution_count": null,
   "metadata": {},
   "outputs": [],
   "source": []
  },
  {
   "cell_type": "code",
   "execution_count": null,
   "metadata": {},
   "outputs": [],
   "source": []
  },
  {
   "cell_type": "code",
   "execution_count": null,
   "metadata": {},
   "outputs": [],
   "source": []
  },
  {
   "cell_type": "markdown",
   "metadata": {},
   "source": [
    "## Cut cycle from UMAP"
   ]
  },
  {
   "cell_type": "code",
   "execution_count": null,
   "metadata": {},
   "outputs": [],
   "source": [
    "color_selection = custom_palette.loc[\"green\"]"
   ]
  },
  {
   "cell_type": "code",
   "execution_count": null,
   "metadata": {},
   "outputs": [],
   "source": [
    "plt.figure(figsize=(8, 6))\n",
    "            \n",
    "sns.scatterplot(embedding_sub[:,0], embedding_sub[:,1], hue = labels[\"gfp.median.log10sum.adjust\"], s = 20, linewidth=0, palette = \"coolwarm\", hue_norm=(-1,1))\n",
    "plt.vlines(-1, -2, 9, linestyles =\"dotted\", colors =\"k\")\n",
    "plt.ylabel('UMAP2')\n",
    "plt.xlabel('UMAP1')\n",
    "plt.title('UMAP - GFP')\n",
    "plt.legend(bbox_to_anchor=(1.1, 1),borderaxespad=0)\n",
    "#plt.savefig('.png')\n",
    "plt.show()"
   ]
  },
  {
   "cell_type": "code",
   "execution_count": null,
   "metadata": {},
   "outputs": [],
   "source": [
    "location_include = np.where(embedding_sub[:,0] > -1)[0]\n",
    "print(location_include.shape)\n",
    "\n",
    "name_include = []\n",
    "embedding_include_x = []\n",
    "embedding_include_y = []\n",
    "\n",
    "for i in range(location_include.shape[0]):\n",
    "    name_include.append(gene_expression.columns[location_include[i]])  \n",
    "    embedding_include_x.append(embedding_sub[location_include[i],0]) \n",
    "    embedding_include_y.append(embedding_sub[location_include[i],1]) \n",
    "    \n",
    "include_gene_expression = gene_expression[name_include]\n",
    "embedding_include_x = np.array(embedding_include_x)\n",
    "embedding_include_y = np.array(embedding_include_y)\n",
    "embedding_include_x = np.reshape(embedding_include_x, (embedding_include_x.shape[0],1))\n",
    "embedding_include_y = np.reshape(embedding_include_y, (embedding_include_x.shape[0],1))\n",
    "\n",
    "embedding_include = np.append(embedding_include_x, embedding_include_y, axis = 1)"
   ]
  },
  {
   "cell_type": "code",
   "execution_count": null,
   "metadata": {},
   "outputs": [],
   "source": [
    "plt.figure(figsize=(8, 6))\n",
    "            \n",
    "sns.scatterplot(embedding_sub[:,0], embedding_sub[:,1], hue = np.ones(embedding_sub.shape[0]), s = 20, linewidth=0, palette = [\"lightgrey\"])\n",
    "sns.scatterplot(embedding_include[:,0], embedding_include[:,1], hue = np.ones(embedding_include.shape[0]), s = 20, linewidth=0, palette = [color_selection[1]])\n",
    "plt.vlines(-1, -2, 9, linestyles =\"dotted\", colors =\"k\")\n",
    "plt.ylabel('UMAP2')\n",
    "plt.xlabel('UMAP1')\n",
    "plt.legend(bbox_to_anchor=(1.2, 1),borderaxespad=0)\n",
    "#plt.savefig('.png')\n",
    "plt.show()"
   ]
  },
  {
   "cell_type": "code",
   "execution_count": null,
   "metadata": {},
   "outputs": [],
   "source": []
  },
  {
   "cell_type": "code",
   "execution_count": null,
   "metadata": {},
   "outputs": [],
   "source": []
  },
  {
   "cell_type": "code",
   "execution_count": null,
   "metadata": {},
   "outputs": [],
   "source": [
    "visualize(include_gene_expression.values, 20, 'UMAP - Large Loop Cells, All Genes', 0)"
   ]
  },
  {
   "cell_type": "code",
   "execution_count": null,
   "metadata": {},
   "outputs": [],
   "source": [
    "bd, color = persistance_diagram(include_gene_expression.values, \"green\", \"Large Loop Cells, All Genes\")"
   ]
  },
  {
   "cell_type": "code",
   "execution_count": null,
   "metadata": {},
   "outputs": [],
   "source": [
    "birth_lifetime(bd, 0, color)"
   ]
  },
  {
   "cell_type": "code",
   "execution_count": null,
   "metadata": {},
   "outputs": [],
   "source": [
    "violin_lifetime(bd, 0, color, sublabel)"
   ]
  },
  {
   "cell_type": "code",
   "execution_count": null,
   "metadata": {},
   "outputs": [],
   "source": []
  },
  {
   "cell_type": "code",
   "execution_count": null,
   "metadata": {},
   "outputs": [],
   "source": []
  },
  {
   "cell_type": "code",
   "execution_count": null,
   "metadata": {},
   "outputs": [],
   "source": [
    "include_gene_expression = gene_sub[name_include]"
   ]
  },
  {
   "cell_type": "code",
   "execution_count": null,
   "metadata": {},
   "outputs": [],
   "source": [
    "visualize(include_gene_expression.values, 4, 'UMAP - Large Loop Cells, All Genes', 1)"
   ]
  },
  {
   "cell_type": "code",
   "execution_count": null,
   "metadata": {},
   "outputs": [],
   "source": [
    "bd, color = persistance_diagram(include_gene_expression.values, \"green\", \"Large Loop Cells, Cell Cycle Genes\")"
   ]
  },
  {
   "cell_type": "code",
   "execution_count": null,
   "metadata": {},
   "outputs": [],
   "source": [
    "birth_lifetime(bd, 1, color)"
   ]
  },
  {
   "cell_type": "code",
   "execution_count": null,
   "metadata": {},
   "outputs": [],
   "source": [
    "violin_lifetime(bd, 1, color, sublabel_cycle)"
   ]
  },
  {
   "cell_type": "code",
   "execution_count": null,
   "metadata": {},
   "outputs": [],
   "source": []
  },
  {
   "cell_type": "code",
   "execution_count": null,
   "metadata": {},
   "outputs": [],
   "source": [
    "include_gene_expression = gene_sub_rand1[name_include]"
   ]
  },
  {
   "cell_type": "code",
   "execution_count": null,
   "metadata": {},
   "outputs": [],
   "source": [
    "visualize(include_gene_expression.values, 4, 'UMAP - Large Loop Cells, Random Genes_1', 2)"
   ]
  },
  {
   "cell_type": "code",
   "execution_count": null,
   "metadata": {},
   "outputs": [],
   "source": [
    "bd, color = persistance_diagram(include_gene_expression.values, \"green\", \"Large Loop Cells, Random Genes_1\")"
   ]
  },
  {
   "cell_type": "code",
   "execution_count": null,
   "metadata": {},
   "outputs": [],
   "source": [
    "birth_lifetime(bd, 2, color)"
   ]
  },
  {
   "cell_type": "code",
   "execution_count": null,
   "metadata": {},
   "outputs": [],
   "source": [
    "violin_lifetime(bd, 2, color, sublabel_1)"
   ]
  },
  {
   "cell_type": "code",
   "execution_count": null,
   "metadata": {},
   "outputs": [],
   "source": []
  },
  {
   "cell_type": "code",
   "execution_count": null,
   "metadata": {},
   "outputs": [],
   "source": [
    "include_gene_expression = gene_sub_rand2[name_include]"
   ]
  },
  {
   "cell_type": "code",
   "execution_count": null,
   "metadata": {},
   "outputs": [],
   "source": [
    "visualize(include_gene_expression.values, 4, 'UMAP - Large Loop Cells, Random Genes_2', 2)"
   ]
  },
  {
   "cell_type": "code",
   "execution_count": null,
   "metadata": {},
   "outputs": [],
   "source": [
    "bd, color = persistance_diagram(include_gene_expression.values, \"green\", \"Large Loop Cells, Random Genes_2\")"
   ]
  },
  {
   "cell_type": "code",
   "execution_count": null,
   "metadata": {},
   "outputs": [],
   "source": [
    "birth_lifetime(bd, 2, color)"
   ]
  },
  {
   "cell_type": "code",
   "execution_count": null,
   "metadata": {},
   "outputs": [],
   "source": [
    "violin_lifetime(bd, 2, color, sublabel_2)"
   ]
  },
  {
   "cell_type": "code",
   "execution_count": null,
   "metadata": {},
   "outputs": [],
   "source": [
    "\n"
   ]
  },
  {
   "cell_type": "code",
   "execution_count": null,
   "metadata": {},
   "outputs": [],
   "source": []
  },
  {
   "cell_type": "code",
   "execution_count": null,
   "metadata": {},
   "outputs": [],
   "source": []
  },
  {
   "cell_type": "code",
   "execution_count": null,
   "metadata": {},
   "outputs": [],
   "source": [
    "include_gene_expression = gene_sub_rand3[name_include]"
   ]
  },
  {
   "cell_type": "code",
   "execution_count": null,
   "metadata": {},
   "outputs": [],
   "source": [
    "visualize(include_gene_expression.values, 4, 'UMAP - Large Loop Cells, Random Genes_3', 2)"
   ]
  },
  {
   "cell_type": "code",
   "execution_count": null,
   "metadata": {},
   "outputs": [],
   "source": [
    "bd, color = persistance_diagram(include_gene_expression.values, \"green\", \"Large Loop Cells, Random Genes_3\")"
   ]
  },
  {
   "cell_type": "code",
   "execution_count": null,
   "metadata": {},
   "outputs": [],
   "source": [
    "birth_lifetime(bd, 2, color)"
   ]
  },
  {
   "cell_type": "code",
   "execution_count": null,
   "metadata": {},
   "outputs": [],
   "source": [
    "violin_lifetime(bd, 2, color, sublabel_3)"
   ]
  },
  {
   "cell_type": "code",
   "execution_count": null,
   "metadata": {},
   "outputs": [],
   "source": []
  },
  {
   "cell_type": "code",
   "execution_count": null,
   "metadata": {},
   "outputs": [],
   "source": []
  },
  {
   "cell_type": "code",
   "execution_count": null,
   "metadata": {},
   "outputs": [],
   "source": [
    "include_gene_expression = gene_sub_rand4[name_include]"
   ]
  },
  {
   "cell_type": "code",
   "execution_count": null,
   "metadata": {},
   "outputs": [],
   "source": [
    "visualize(include_gene_expression.values, 4, 'UMAP - Large Loop Cells, Random Genes_4', 2)"
   ]
  },
  {
   "cell_type": "code",
   "execution_count": null,
   "metadata": {},
   "outputs": [],
   "source": [
    "bd, color = persistance_diagram(include_gene_expression.values, \"green\", \"Large Loop Cells, Random Genes_4\")"
   ]
  },
  {
   "cell_type": "code",
   "execution_count": null,
   "metadata": {},
   "outputs": [],
   "source": [
    "birth_lifetime(bd, 2, color)"
   ]
  },
  {
   "cell_type": "code",
   "execution_count": null,
   "metadata": {},
   "outputs": [],
   "source": [
    "violin_lifetime(bd, 2, color, sublabel_4)"
   ]
  },
  {
   "cell_type": "code",
   "execution_count": null,
   "metadata": {},
   "outputs": [],
   "source": []
  },
  {
   "cell_type": "code",
   "execution_count": null,
   "metadata": {},
   "outputs": [],
   "source": []
  },
  {
   "cell_type": "code",
   "execution_count": null,
   "metadata": {},
   "outputs": [],
   "source": []
  },
  {
   "cell_type": "code",
   "execution_count": null,
   "metadata": {},
   "outputs": [],
   "source": [
    "include_gene_expression = gene_sub_rand5[name_include]"
   ]
  },
  {
   "cell_type": "code",
   "execution_count": null,
   "metadata": {},
   "outputs": [],
   "source": [
    "visualize(include_gene_expression.values, 4, 'UMAP - Large Loop Cells, Random Genes_5', 2)"
   ]
  },
  {
   "cell_type": "code",
   "execution_count": null,
   "metadata": {},
   "outputs": [],
   "source": [
    "bd, color = persistance_diagram(include_gene_expression.values, \"green\", \"Large Loop Cells, Random Genes_5\")"
   ]
  },
  {
   "cell_type": "code",
   "execution_count": null,
   "metadata": {},
   "outputs": [],
   "source": [
    "birth_lifetime(bd, 2, color)"
   ]
  },
  {
   "cell_type": "code",
   "execution_count": null,
   "metadata": {},
   "outputs": [],
   "source": [
    "violin_lifetime(bd, 2, color, sublabel_5)"
   ]
  },
  {
   "cell_type": "code",
   "execution_count": null,
   "metadata": {},
   "outputs": [],
   "source": []
  },
  {
   "cell_type": "markdown",
   "metadata": {},
   "source": [
    "## Cut cycle from UMAP"
   ]
  },
  {
   "cell_type": "code",
   "execution_count": null,
   "metadata": {},
   "outputs": [],
   "source": [
    "color_selection = custom_palette.loc[\"orange\"]"
   ]
  },
  {
   "cell_type": "code",
   "execution_count": null,
   "metadata": {},
   "outputs": [],
   "source": [
    "plt.figure(figsize=(8, 6))\n",
    "            \n",
    "sns.scatterplot(embedding_sub[:,0], embedding_sub[:,1], hue = labels[\"gfp.median.log10sum.adjust\"], s = 20, linewidth=0, palette = \"coolwarm\", hue_norm=(-1,1))\n",
    "plt.vlines(6, -2, 9, linestyles =\"dotted\", colors =\"k\")\n",
    "plt.ylabel('UMAP2')\n",
    "plt.xlabel('UMAP1')\n",
    "plt.title('UMAP - GFP')\n",
    "plt.legend(bbox_to_anchor=(1.1, 1),borderaxespad=0)\n",
    "#plt.savefig('.png')\n",
    "plt.show()"
   ]
  },
  {
   "cell_type": "code",
   "execution_count": null,
   "metadata": {},
   "outputs": [],
   "source": [
    "location_include = np.where(embedding_sub[:,0] < 6)[0]\n",
    "print(location_include.shape)\n",
    "\n",
    "name_include = []\n",
    "embedding_include_x = []\n",
    "embedding_include_y = []\n",
    "\n",
    "for i in range(location_include.shape[0]):\n",
    "    name_include.append(gene_expression.columns[location_include[i]])  \n",
    "    embedding_include_x.append(embedding_sub[location_include[i],0]) \n",
    "    embedding_include_y.append(embedding_sub[location_include[i],1]) \n",
    "    \n",
    "include_gene_expression = gene_expression[name_include]\n",
    "embedding_include_x = np.array(embedding_include_x)\n",
    "embedding_include_y = np.array(embedding_include_y)\n",
    "embedding_include_x = np.reshape(embedding_include_x, (embedding_include_x.shape[0],1))\n",
    "embedding_include_y = np.reshape(embedding_include_y, (embedding_include_x.shape[0],1))\n",
    "\n",
    "embedding_include = np.append(embedding_include_x, embedding_include_y, axis = 1)"
   ]
  },
  {
   "cell_type": "code",
   "execution_count": null,
   "metadata": {},
   "outputs": [],
   "source": [
    "plt.figure(figsize=(8, 6))\n",
    "            \n",
    "sns.scatterplot(embedding_sub[:,0], embedding_sub[:,1], hue = np.ones(embedding_sub.shape[0]), s = 20, linewidth=0, palette = [\"lightgrey\"])\n",
    "sns.scatterplot(embedding_include[:,0], embedding_include[:,1], hue = np.ones(embedding_include.shape[0]), s = 20, linewidth=0, palette = [color_selection[1]])\n",
    "plt.vlines(6, -2, 9, linestyles =\"dotted\", colors =\"k\")\n",
    "plt.ylabel('UMAP2')\n",
    "plt.xlabel('UMAP1')\n",
    "\n",
    "plt.legend(bbox_to_anchor=(1.2, 1),borderaxespad=0)\n",
    "#plt.savefig('.png')\n",
    "plt.show()"
   ]
  },
  {
   "cell_type": "code",
   "execution_count": null,
   "metadata": {},
   "outputs": [],
   "source": [
    "visualize(include_gene_expression.values, 4, 'UMAP - Cut Cells, All Genes', 0)"
   ]
  },
  {
   "cell_type": "code",
   "execution_count": null,
   "metadata": {},
   "outputs": [],
   "source": [
    "bd, color = persistance_diagram(include_gene_expression.values, \"orange\", \"Cut Cells, All Genes\")"
   ]
  },
  {
   "cell_type": "code",
   "execution_count": null,
   "metadata": {},
   "outputs": [],
   "source": [
    "birth_lifetime(bd, 0, color)"
   ]
  },
  {
   "cell_type": "code",
   "execution_count": null,
   "metadata": {},
   "outputs": [],
   "source": [
    "violin_lifetime(bd, 0, color, sublabel)"
   ]
  },
  {
   "cell_type": "code",
   "execution_count": null,
   "metadata": {},
   "outputs": [],
   "source": []
  },
  {
   "cell_type": "code",
   "execution_count": null,
   "metadata": {},
   "outputs": [],
   "source": [
    "include_gene_expression = gene_sub[name_include]"
   ]
  },
  {
   "cell_type": "code",
   "execution_count": null,
   "metadata": {},
   "outputs": [],
   "source": [
    "visualize(include_gene_expression.values, 4, 'UMAP - Cut Cells, Cell Cycle Genes', 1)"
   ]
  },
  {
   "cell_type": "code",
   "execution_count": null,
   "metadata": {},
   "outputs": [],
   "source": [
    "bd, color = persistance_diagram(include_gene_expression.values, \"orange\", \"Cut Cells, Cell Cycle Genes\")"
   ]
  },
  {
   "cell_type": "code",
   "execution_count": null,
   "metadata": {},
   "outputs": [],
   "source": [
    "birth_lifetime(bd, 1, color)"
   ]
  },
  {
   "cell_type": "code",
   "execution_count": null,
   "metadata": {},
   "outputs": [],
   "source": [
    "violin_lifetime(bd, 1, color, sublabel_cycle)"
   ]
  },
  {
   "cell_type": "code",
   "execution_count": null,
   "metadata": {},
   "outputs": [],
   "source": []
  },
  {
   "cell_type": "code",
   "execution_count": null,
   "metadata": {},
   "outputs": [],
   "source": [
    "include_gene_expression = gene_sub_rand1[name_include]"
   ]
  },
  {
   "cell_type": "code",
   "execution_count": null,
   "metadata": {},
   "outputs": [],
   "source": [
    "visualize(include_gene_expression.values, 4, 'UMAP - Cut Cells, Random Genes_1', 2)"
   ]
  },
  {
   "cell_type": "code",
   "execution_count": null,
   "metadata": {},
   "outputs": [],
   "source": [
    "bd, color = persistance_diagram(include_gene_expression.values, \"orange\", \"Cut Cells, Random Genes_1\")"
   ]
  },
  {
   "cell_type": "code",
   "execution_count": null,
   "metadata": {},
   "outputs": [],
   "source": [
    "birth_lifetime(bd, 2, color)"
   ]
  },
  {
   "cell_type": "code",
   "execution_count": null,
   "metadata": {},
   "outputs": [],
   "source": [
    "violin_lifetime(bd, 2, color, sublabel_1)"
   ]
  },
  {
   "cell_type": "code",
   "execution_count": null,
   "metadata": {},
   "outputs": [],
   "source": []
  },
  {
   "cell_type": "code",
   "execution_count": null,
   "metadata": {},
   "outputs": [],
   "source": [
    "include_gene_expression = gene_sub_rand2[name_include]"
   ]
  },
  {
   "cell_type": "code",
   "execution_count": null,
   "metadata": {},
   "outputs": [],
   "source": [
    "visualize(include_gene_expression.values, 4, 'UMAP - Cut Cells, Random Genes_2', 2)"
   ]
  },
  {
   "cell_type": "code",
   "execution_count": null,
   "metadata": {},
   "outputs": [],
   "source": [
    "bd, color = persistance_diagram(include_gene_expression.values, \"orange\", \"Cut Cells, Random Genes_2\")"
   ]
  },
  {
   "cell_type": "code",
   "execution_count": null,
   "metadata": {},
   "outputs": [],
   "source": [
    "birth_lifetime(bd, 2, color)"
   ]
  },
  {
   "cell_type": "code",
   "execution_count": null,
   "metadata": {},
   "outputs": [],
   "source": [
    "violin_lifetime(bd, 2, color, sublabel_2)"
   ]
  },
  {
   "cell_type": "code",
   "execution_count": null,
   "metadata": {},
   "outputs": [],
   "source": []
  },
  {
   "cell_type": "code",
   "execution_count": null,
   "metadata": {},
   "outputs": [],
   "source": []
  },
  {
   "cell_type": "code",
   "execution_count": null,
   "metadata": {},
   "outputs": [],
   "source": [
    "include_gene_expression = gene_sub_rand3[name_include]"
   ]
  },
  {
   "cell_type": "code",
   "execution_count": null,
   "metadata": {},
   "outputs": [],
   "source": [
    "visualize(include_gene_expression.values, 4, 'UMAP - Cut Cells, Random Genes_3', 2)"
   ]
  },
  {
   "cell_type": "code",
   "execution_count": null,
   "metadata": {},
   "outputs": [],
   "source": [
    "bd, color = persistance_diagram(include_gene_expression.values, \"orange\", \"Cut Cells, Random Genes_3\")"
   ]
  },
  {
   "cell_type": "code",
   "execution_count": null,
   "metadata": {},
   "outputs": [],
   "source": [
    "birth_lifetime(bd, 2, color)"
   ]
  },
  {
   "cell_type": "code",
   "execution_count": null,
   "metadata": {},
   "outputs": [],
   "source": [
    "violin_lifetime(bd, 2, color, sublabel_3)"
   ]
  },
  {
   "cell_type": "code",
   "execution_count": null,
   "metadata": {},
   "outputs": [],
   "source": []
  },
  {
   "cell_type": "code",
   "execution_count": null,
   "metadata": {},
   "outputs": [],
   "source": []
  },
  {
   "cell_type": "code",
   "execution_count": null,
   "metadata": {},
   "outputs": [],
   "source": [
    "include_gene_expression = gene_sub_rand4[name_include]"
   ]
  },
  {
   "cell_type": "code",
   "execution_count": null,
   "metadata": {},
   "outputs": [],
   "source": [
    "visualize(include_gene_expression.values, 4, 'UMAP - Cut Cells, Random Genes_4', 2)"
   ]
  },
  {
   "cell_type": "code",
   "execution_count": null,
   "metadata": {},
   "outputs": [],
   "source": [
    "bd, color = persistance_diagram(include_gene_expression.values, \"orange\", \"Cut Cells, Random Genes_4\")"
   ]
  },
  {
   "cell_type": "code",
   "execution_count": null,
   "metadata": {},
   "outputs": [],
   "source": [
    "birth_lifetime(bd, 2, color)"
   ]
  },
  {
   "cell_type": "code",
   "execution_count": null,
   "metadata": {},
   "outputs": [],
   "source": [
    "violin_lifetime(bd, 2, color, sublabel_4)"
   ]
  },
  {
   "cell_type": "code",
   "execution_count": null,
   "metadata": {},
   "outputs": [],
   "source": []
  },
  {
   "cell_type": "code",
   "execution_count": null,
   "metadata": {},
   "outputs": [],
   "source": []
  },
  {
   "cell_type": "code",
   "execution_count": null,
   "metadata": {},
   "outputs": [],
   "source": [
    "include_gene_expression = gene_sub_rand5[name_include]"
   ]
  },
  {
   "cell_type": "code",
   "execution_count": null,
   "metadata": {},
   "outputs": [],
   "source": [
    "visualize(include_gene_expression.values, 4, 'UMAP - Cut Cells, Random Genes_5', 2)"
   ]
  },
  {
   "cell_type": "code",
   "execution_count": null,
   "metadata": {},
   "outputs": [],
   "source": [
    "bd, color = persistance_diagram(include_gene_expression.values, \"orange\", \"Cut Cells, Random Genes_5\")"
   ]
  },
  {
   "cell_type": "code",
   "execution_count": null,
   "metadata": {},
   "outputs": [],
   "source": [
    "birth_lifetime(bd, 2, color)"
   ]
  },
  {
   "cell_type": "code",
   "execution_count": null,
   "metadata": {},
   "outputs": [],
   "source": [
    "violin_lifetime(bd, 2, color, sublabel_5)"
   ]
  },
  {
   "cell_type": "code",
   "execution_count": null,
   "metadata": {},
   "outputs": [],
   "source": []
  },
  {
   "cell_type": "code",
   "execution_count": null,
   "metadata": {},
   "outputs": [],
   "source": []
  },
  {
   "cell_type": "markdown",
   "metadata": {},
   "source": [
    "## Cut cycle from UMAP"
   ]
  },
  {
   "cell_type": "code",
   "execution_count": null,
   "metadata": {},
   "outputs": [],
   "source": [
    "color_selection = custom_palette.loc[\"red\"]"
   ]
  },
  {
   "cell_type": "code",
   "execution_count": null,
   "metadata": {},
   "outputs": [],
   "source": [
    "plt.figure(figsize=(8, 6))\n",
    "            \n",
    "sns.scatterplot(embedding_sub[:,0], embedding_sub[:,1], hue = labels[\"gfp.median.log10sum.adjust\"], s = 20, linewidth=0, palette = \"coolwarm\", hue_norm=(-1,1))\n",
    "plt.vlines(-0.8, -2, 9, linestyles =\"dotted\", colors =\"k\")\n",
    "plt.vlines(10, -2, 9, linestyles =\"dotted\", colors =\"k\")\n",
    "plt.ylabel('UMAP2')\n",
    "plt.xlabel('UMAP1')\n",
    "plt.title('UMAP - GFP')\n",
    "plt.legend(bbox_to_anchor=(1.1, 1),borderaxespad=0)\n",
    "#plt.savefig('.png')\n",
    "plt.show()"
   ]
  },
  {
   "cell_type": "code",
   "execution_count": null,
   "metadata": {},
   "outputs": [],
   "source": [
    "location_include = np.where((embedding_sub[:,0] < 10) & (embedding_sub[:,0] > -0.8))[0]\n",
    "print(location_include.shape)\n",
    "\n",
    "name_include = []\n",
    "embedding_include_x = []\n",
    "embedding_include_y = []\n",
    "\n",
    "for i in range(location_include.shape[0]):\n",
    "    name_include.append(gene_expression.columns[location_include[i]])  \n",
    "    embedding_include_x.append(embedding_sub[location_include[i],0]) \n",
    "    embedding_include_y.append(embedding_sub[location_include[i],1]) \n",
    "    \n",
    "include_gene_expression = gene_expression[name_include]\n",
    "embedding_include_x = np.array(embedding_include_x)\n",
    "embedding_include_y = np.array(embedding_include_y)\n",
    "embedding_include_x = np.reshape(embedding_include_x, (embedding_include_x.shape[0],1))\n",
    "embedding_include_y = np.reshape(embedding_include_y, (embedding_include_x.shape[0],1))\n",
    "\n",
    "embedding_include = np.append(embedding_include_x, embedding_include_y, axis = 1)"
   ]
  },
  {
   "cell_type": "code",
   "execution_count": null,
   "metadata": {},
   "outputs": [],
   "source": [
    "plt.figure(figsize=(8, 6))\n",
    "            \n",
    "sns.scatterplot(embedding_sub[:,0], embedding_sub[:,1], hue = np.ones(embedding_sub.shape[0]), s = 20, linewidth=0, palette = [\"lightgrey\"])\n",
    "sns.scatterplot(embedding_include[:,0], embedding_include[:,1], hue = np.ones(embedding_include.shape[0]), s = 20, linewidth=0, palette = [color_selection[1]])\n",
    "plt.vlines(-0.8, -2, 9, linestyles =\"dotted\", colors =\"k\")\n",
    "plt.vlines(10, -2, 9, linestyles =\"dotted\", colors =\"k\")\n",
    "plt.ylabel('UMAP2')\n",
    "plt.xlabel('UMAP1')\n",
    "\n",
    "plt.legend(bbox_to_anchor=(1.2, 1),borderaxespad=0)\n",
    "#plt.savefig('.png')\n",
    "plt.show()"
   ]
  },
  {
   "cell_type": "code",
   "execution_count": null,
   "metadata": {},
   "outputs": [],
   "source": [
    "visualize(include_gene_expression.values, 20, 'UMAP - Small Loop Cells, All Genes', 0)"
   ]
  },
  {
   "cell_type": "code",
   "execution_count": null,
   "metadata": {},
   "outputs": [],
   "source": [
    "bd, color = persistance_diagram(include_gene_expression.values, \"red\", \"Cut Cells, All Genes\")"
   ]
  },
  {
   "cell_type": "code",
   "execution_count": null,
   "metadata": {},
   "outputs": [],
   "source": [
    "birth_lifetime(bd, 0, color)"
   ]
  },
  {
   "cell_type": "code",
   "execution_count": null,
   "metadata": {},
   "outputs": [],
   "source": [
    "violin_lifetime(bd, 0, color, sublabel)"
   ]
  },
  {
   "cell_type": "code",
   "execution_count": null,
   "metadata": {},
   "outputs": [],
   "source": []
  },
  {
   "cell_type": "code",
   "execution_count": null,
   "metadata": {},
   "outputs": [],
   "source": [
    "include_gene_expression = gene_sub[name_include]"
   ]
  },
  {
   "cell_type": "code",
   "execution_count": null,
   "metadata": {},
   "outputs": [],
   "source": [
    "visualize(include_gene_expression.values, 4, 'UMAP - Small Loop Cells, Cell Cycle Genes', 1)"
   ]
  },
  {
   "cell_type": "code",
   "execution_count": null,
   "metadata": {},
   "outputs": [],
   "source": [
    "bd, color = persistance_diagram(include_gene_expression.values, \"red\", \"Cut Cells, Cell Cycle Genes\")"
   ]
  },
  {
   "cell_type": "code",
   "execution_count": null,
   "metadata": {},
   "outputs": [],
   "source": [
    "birth_lifetime(bd, 1, color)"
   ]
  },
  {
   "cell_type": "code",
   "execution_count": null,
   "metadata": {},
   "outputs": [],
   "source": [
    "violin_lifetime(bd, 1, color, sublabel_cycle)"
   ]
  },
  {
   "cell_type": "code",
   "execution_count": null,
   "metadata": {},
   "outputs": [],
   "source": []
  },
  {
   "cell_type": "code",
   "execution_count": null,
   "metadata": {},
   "outputs": [],
   "source": [
    "include_gene_expression = gene_sub_rand1[name_include]"
   ]
  },
  {
   "cell_type": "code",
   "execution_count": null,
   "metadata": {},
   "outputs": [],
   "source": [
    "visualize(include_gene_expression.values, 4, 'UMAP - Small Loop Cells, Random Genes_1', 2)"
   ]
  },
  {
   "cell_type": "code",
   "execution_count": null,
   "metadata": {},
   "outputs": [],
   "source": [
    "bd, color = persistance_diagram(include_gene_expression.values, \"red\", \"Cut Cells, Random Genes_1\")"
   ]
  },
  {
   "cell_type": "code",
   "execution_count": null,
   "metadata": {},
   "outputs": [],
   "source": [
    "birth_lifetime(bd, 2, color)"
   ]
  },
  {
   "cell_type": "code",
   "execution_count": null,
   "metadata": {},
   "outputs": [],
   "source": [
    "violin_lifetime(bd, 2, color, sublabel_1)"
   ]
  },
  {
   "cell_type": "code",
   "execution_count": null,
   "metadata": {},
   "outputs": [],
   "source": []
  },
  {
   "cell_type": "code",
   "execution_count": null,
   "metadata": {},
   "outputs": [],
   "source": [
    "include_gene_expression = gene_sub_rand2[name_include]"
   ]
  },
  {
   "cell_type": "code",
   "execution_count": null,
   "metadata": {},
   "outputs": [],
   "source": [
    "visualize(include_gene_expression.values, 4, 'UMAP - Small Loop Cells, Random Genes_2', 2)"
   ]
  },
  {
   "cell_type": "code",
   "execution_count": null,
   "metadata": {},
   "outputs": [],
   "source": [
    "bd, color = persistance_diagram(include_gene_expression.values, \"red\", \"Cut Cells, Random Genes_2\")"
   ]
  },
  {
   "cell_type": "code",
   "execution_count": null,
   "metadata": {},
   "outputs": [],
   "source": [
    "birth_lifetime(bd, 2, color)"
   ]
  },
  {
   "cell_type": "code",
   "execution_count": null,
   "metadata": {},
   "outputs": [],
   "source": [
    "violin_lifetime(bd, 2, color, sublabel_2)"
   ]
  },
  {
   "cell_type": "code",
   "execution_count": null,
   "metadata": {},
   "outputs": [],
   "source": []
  },
  {
   "cell_type": "code",
   "execution_count": null,
   "metadata": {},
   "outputs": [],
   "source": []
  },
  {
   "cell_type": "code",
   "execution_count": null,
   "metadata": {},
   "outputs": [],
   "source": [
    "include_gene_expression = gene_sub_rand3[name_include]"
   ]
  },
  {
   "cell_type": "code",
   "execution_count": null,
   "metadata": {},
   "outputs": [],
   "source": [
    "visualize(include_gene_expression.values, 4, 'UMAP - Small Loop Cells, Random Genes_3', 2)"
   ]
  },
  {
   "cell_type": "code",
   "execution_count": null,
   "metadata": {},
   "outputs": [],
   "source": [
    "bd, color = persistance_diagram(include_gene_expression.values, \"red\", \"Cut Cells, Random Genes_3\")"
   ]
  },
  {
   "cell_type": "code",
   "execution_count": null,
   "metadata": {},
   "outputs": [],
   "source": [
    "birth_lifetime(bd, 2, color)"
   ]
  },
  {
   "cell_type": "code",
   "execution_count": null,
   "metadata": {},
   "outputs": [],
   "source": [
    "violin_lifetime(bd, 2, color, sublabel_3)"
   ]
  },
  {
   "cell_type": "code",
   "execution_count": null,
   "metadata": {},
   "outputs": [],
   "source": []
  },
  {
   "cell_type": "code",
   "execution_count": null,
   "metadata": {},
   "outputs": [],
   "source": []
  },
  {
   "cell_type": "code",
   "execution_count": null,
   "metadata": {},
   "outputs": [],
   "source": [
    "include_gene_expression = gene_sub_rand4[name_include]"
   ]
  },
  {
   "cell_type": "code",
   "execution_count": null,
   "metadata": {},
   "outputs": [],
   "source": [
    "visualize(include_gene_expression.values, 4, 'UMAP - Small Loop Cells, Random Genes_4', 2)"
   ]
  },
  {
   "cell_type": "code",
   "execution_count": null,
   "metadata": {},
   "outputs": [],
   "source": [
    "bd, color = persistance_diagram(include_gene_expression.values, \"red\", \"Cut Cells, Random Genes_4\")"
   ]
  },
  {
   "cell_type": "code",
   "execution_count": null,
   "metadata": {},
   "outputs": [],
   "source": [
    "birth_lifetime(bd, 2, color)"
   ]
  },
  {
   "cell_type": "code",
   "execution_count": null,
   "metadata": {},
   "outputs": [],
   "source": [
    "violin_lifetime(bd, 2, color, sublabel_4)"
   ]
  },
  {
   "cell_type": "code",
   "execution_count": null,
   "metadata": {},
   "outputs": [],
   "source": []
  },
  {
   "cell_type": "code",
   "execution_count": null,
   "metadata": {},
   "outputs": [],
   "source": []
  },
  {
   "cell_type": "code",
   "execution_count": null,
   "metadata": {},
   "outputs": [],
   "source": [
    "include_gene_expression = gene_sub_rand5[name_include]"
   ]
  },
  {
   "cell_type": "code",
   "execution_count": null,
   "metadata": {},
   "outputs": [],
   "source": [
    "visualize(include_gene_expression.values, 4, 'UMAP - Small Loop Cells, Random Genes_5', 2)"
   ]
  },
  {
   "cell_type": "code",
   "execution_count": null,
   "metadata": {},
   "outputs": [],
   "source": [
    "bd, color = persistance_diagram(include_gene_expression.values, \"red\", \"Cut Cells, Random Genes_5\")"
   ]
  },
  {
   "cell_type": "code",
   "execution_count": null,
   "metadata": {},
   "outputs": [],
   "source": [
    "birth_lifetime(bd, 2, color)"
   ]
  },
  {
   "cell_type": "code",
   "execution_count": null,
   "metadata": {},
   "outputs": [],
   "source": [
    "violin_lifetime(bd, 2, color, sublabel_5)"
   ]
  },
  {
   "cell_type": "code",
   "execution_count": null,
   "metadata": {},
   "outputs": [],
   "source": []
  },
  {
   "cell_type": "code",
   "execution_count": null,
   "metadata": {},
   "outputs": [],
   "source": []
  },
  {
   "cell_type": "markdown",
   "metadata": {},
   "source": [
    "## Cut cycle from UMAP"
   ]
  },
  {
   "cell_type": "code",
   "execution_count": null,
   "metadata": {},
   "outputs": [],
   "source": [
    "color_selection = custom_palette.loc[\"purple\"]"
   ]
  },
  {
   "cell_type": "code",
   "execution_count": null,
   "metadata": {},
   "outputs": [],
   "source": [
    "plt.figure(figsize=(8, 6))\n",
    "            \n",
    "sns.scatterplot(embedding_sub[:,0], embedding_sub[:,1], hue = labels[\"gfp.median.log10sum.adjust\"], s = 20, linewidth=0, palette = \"coolwarm\", hue_norm=(-1,1))\n",
    "plt.vlines(10, -2, 9, linestyles =\"dotted\", colors =\"k\")\n",
    "plt.ylabel('UMAP2')\n",
    "plt.xlabel('UMAP1')\n",
    "plt.title('UMAP - GFP')\n",
    "plt.legend(bbox_to_anchor=(1.1, 1),borderaxespad=0)\n",
    "#plt.savefig('.png')\n",
    "plt.show()"
   ]
  },
  {
   "cell_type": "code",
   "execution_count": null,
   "metadata": {},
   "outputs": [],
   "source": [
    "location_include = np.where((embedding_sub[:,0] > 10) & (embedding_sub[:,1] > 4))[0]\n",
    "print(location_include.shape)\n",
    "\n",
    "name_include = []\n",
    "embedding_include_x = []\n",
    "embedding_include_y = []\n",
    "\n",
    "for i in range(location_include.shape[0]):\n",
    "    name_include.append(gene_expression.columns[location_include[i]])  \n",
    "    embedding_include_x.append(embedding_sub[location_include[i],0]) \n",
    "    embedding_include_y.append(embedding_sub[location_include[i],1]) \n",
    "    \n",
    "include_gene_expression = gene_expression[name_include]\n",
    "embedding_include_x = np.array(embedding_include_x)\n",
    "embedding_include_y = np.array(embedding_include_y)\n",
    "embedding_include_x = np.reshape(embedding_include_x, (embedding_include_x.shape[0],1))\n",
    "embedding_include_y = np.reshape(embedding_include_y, (embedding_include_x.shape[0],1))\n",
    "\n",
    "embedding_include = np.append(embedding_include_x, embedding_include_y, axis = 1)"
   ]
  },
  {
   "cell_type": "code",
   "execution_count": null,
   "metadata": {},
   "outputs": [],
   "source": [
    "plt.figure(figsize=(8, 6))\n",
    "            \n",
    "sns.scatterplot(embedding_sub[:,0], embedding_sub[:,1], hue = np.ones(embedding_sub.shape[0]), s = 20, linewidth=0, palette = [\"lightgrey\"])\n",
    "sns.scatterplot(embedding_include[:,0], embedding_include[:,1], hue = np.ones(embedding_include.shape[0]), s = 20, linewidth=0, palette = [color_selection[1]])\n",
    "plt.vlines(10, -2, 9, linestyles =\"dotted\", colors =\"k\")\n",
    "plt.hlines(4, -6, 13.5, linestyles =\"dotted\", colors =\"k\")\n",
    "plt.ylabel('UMAP2')\n",
    "plt.xlabel('UMAP1')\n",
    "\n",
    "plt.legend(bbox_to_anchor=(1.2, 1),borderaxespad=0)\n",
    "#plt.savefig('.png')\n",
    "plt.show()"
   ]
  },
  {
   "cell_type": "code",
   "execution_count": null,
   "metadata": {},
   "outputs": [],
   "source": [
    "visualize(include_gene_expression.values, 20, 'UMAP - Right Cluster Cells, All Genes', 0)"
   ]
  },
  {
   "cell_type": "code",
   "execution_count": null,
   "metadata": {},
   "outputs": [],
   "source": [
    "bd, color = persistance_diagram(include_gene_expression.values, \"purple\", \"Cut Cells, All Genes\")"
   ]
  },
  {
   "cell_type": "code",
   "execution_count": null,
   "metadata": {},
   "outputs": [],
   "source": [
    "birth_lifetime(bd, 0, color)"
   ]
  },
  {
   "cell_type": "code",
   "execution_count": null,
   "metadata": {},
   "outputs": [],
   "source": [
    "violin_lifetime(bd, 0, color, sublabel)"
   ]
  },
  {
   "cell_type": "code",
   "execution_count": null,
   "metadata": {},
   "outputs": [],
   "source": []
  },
  {
   "cell_type": "code",
   "execution_count": null,
   "metadata": {},
   "outputs": [],
   "source": [
    "include_gene_expression = gene_sub[name_include]"
   ]
  },
  {
   "cell_type": "code",
   "execution_count": null,
   "metadata": {},
   "outputs": [],
   "source": [
    "visualize(include_gene_expression.values, 4, 'UMAP - Right Cluster Cells, Cell Cycle Genes', 1)"
   ]
  },
  {
   "cell_type": "code",
   "execution_count": null,
   "metadata": {},
   "outputs": [],
   "source": [
    "bd, color = persistance_diagram(include_gene_expression.values, \"purple\", \"Cut Cells, Cell Cycle Genes\")"
   ]
  },
  {
   "cell_type": "code",
   "execution_count": null,
   "metadata": {},
   "outputs": [],
   "source": [
    "birth_lifetime(bd, 1, color)"
   ]
  },
  {
   "cell_type": "code",
   "execution_count": null,
   "metadata": {},
   "outputs": [],
   "source": [
    "violin_lifetime(bd, 1, color, sublabel_cycle)"
   ]
  },
  {
   "cell_type": "code",
   "execution_count": null,
   "metadata": {},
   "outputs": [],
   "source": []
  },
  {
   "cell_type": "code",
   "execution_count": null,
   "metadata": {},
   "outputs": [],
   "source": [
    "include_gene_expression = gene_sub_rand1[name_include]"
   ]
  },
  {
   "cell_type": "code",
   "execution_count": null,
   "metadata": {},
   "outputs": [],
   "source": [
    "visualize(include_gene_expression.values, 4, 'UMAP - Right Cluster Cells, Random Genes_1', 2)"
   ]
  },
  {
   "cell_type": "code",
   "execution_count": null,
   "metadata": {},
   "outputs": [],
   "source": [
    "bd, color = persistance_diagram(include_gene_expression.values, \"purple\", \"Cut Cells, Random Genes_1\")"
   ]
  },
  {
   "cell_type": "code",
   "execution_count": null,
   "metadata": {},
   "outputs": [],
   "source": [
    "birth_lifetime(bd, 2, color)"
   ]
  },
  {
   "cell_type": "code",
   "execution_count": null,
   "metadata": {},
   "outputs": [],
   "source": [
    "violin_lifetime(bd, 2, color, sublabel_1)"
   ]
  },
  {
   "cell_type": "code",
   "execution_count": null,
   "metadata": {},
   "outputs": [],
   "source": []
  },
  {
   "cell_type": "code",
   "execution_count": null,
   "metadata": {},
   "outputs": [],
   "source": [
    "include_gene_expression = gene_sub_rand2[name_include]"
   ]
  },
  {
   "cell_type": "code",
   "execution_count": null,
   "metadata": {},
   "outputs": [],
   "source": [
    "visualize(include_gene_expression.values, 4, 'UMAP - Right Cluster Cells, Random Genes_2', 2)"
   ]
  },
  {
   "cell_type": "code",
   "execution_count": null,
   "metadata": {},
   "outputs": [],
   "source": [
    "bd, color = persistance_diagram(include_gene_expression.values, \"purple\", \"Cut Cells, Random Genes_2\")"
   ]
  },
  {
   "cell_type": "code",
   "execution_count": null,
   "metadata": {},
   "outputs": [],
   "source": [
    "birth_lifetime(bd, 2, color)"
   ]
  },
  {
   "cell_type": "code",
   "execution_count": null,
   "metadata": {},
   "outputs": [],
   "source": [
    "violin_lifetime(bd, 2, color, sublabel_2)"
   ]
  },
  {
   "cell_type": "code",
   "execution_count": null,
   "metadata": {},
   "outputs": [],
   "source": []
  },
  {
   "cell_type": "code",
   "execution_count": null,
   "metadata": {},
   "outputs": [],
   "source": []
  },
  {
   "cell_type": "code",
   "execution_count": null,
   "metadata": {},
   "outputs": [],
   "source": [
    "include_gene_expression = gene_sub_rand3[name_include]"
   ]
  },
  {
   "cell_type": "code",
   "execution_count": null,
   "metadata": {},
   "outputs": [],
   "source": [
    "visualize(include_gene_expression.values, 4, 'UMAP - Right Cluster Cells, Random Genes_3', 2)"
   ]
  },
  {
   "cell_type": "code",
   "execution_count": null,
   "metadata": {},
   "outputs": [],
   "source": [
    "bd, color = persistance_diagram(include_gene_expression.values, \"purple\", \"Cut Cells, Random Genes_3\")"
   ]
  },
  {
   "cell_type": "code",
   "execution_count": null,
   "metadata": {},
   "outputs": [],
   "source": [
    "birth_lifetime(bd, 2, color)"
   ]
  },
  {
   "cell_type": "code",
   "execution_count": null,
   "metadata": {},
   "outputs": [],
   "source": [
    "violin_lifetime(bd, 2, color, sublabel_3)"
   ]
  },
  {
   "cell_type": "code",
   "execution_count": null,
   "metadata": {},
   "outputs": [],
   "source": []
  },
  {
   "cell_type": "code",
   "execution_count": null,
   "metadata": {},
   "outputs": [],
   "source": []
  },
  {
   "cell_type": "code",
   "execution_count": null,
   "metadata": {},
   "outputs": [],
   "source": [
    "include_gene_expression = gene_sub_rand4[name_include]"
   ]
  },
  {
   "cell_type": "code",
   "execution_count": null,
   "metadata": {},
   "outputs": [],
   "source": [
    "visualize(include_gene_expression.values, 4, 'UMAP - Right Cluster Cells, Random Genes_4', 2)"
   ]
  },
  {
   "cell_type": "code",
   "execution_count": null,
   "metadata": {},
   "outputs": [],
   "source": [
    "bd, color = persistance_diagram(include_gene_expression.values, \"purple\", \"Cut Cells, Random Genes_4\")"
   ]
  },
  {
   "cell_type": "code",
   "execution_count": null,
   "metadata": {},
   "outputs": [],
   "source": [
    "birth_lifetime(bd, 2, color)"
   ]
  },
  {
   "cell_type": "code",
   "execution_count": null,
   "metadata": {},
   "outputs": [],
   "source": [
    "violin_lifetime(bd, 2, color, sublabel_4)"
   ]
  },
  {
   "cell_type": "code",
   "execution_count": null,
   "metadata": {},
   "outputs": [],
   "source": []
  },
  {
   "cell_type": "code",
   "execution_count": null,
   "metadata": {},
   "outputs": [],
   "source": []
  },
  {
   "cell_type": "code",
   "execution_count": null,
   "metadata": {},
   "outputs": [],
   "source": [
    "include_gene_expression = gene_sub_rand5[name_include]"
   ]
  },
  {
   "cell_type": "code",
   "execution_count": null,
   "metadata": {},
   "outputs": [],
   "source": [
    "visualize(include_gene_expression.values, 4, 'UMAP - Right Cluster Cells, Random Genes_5', 2)"
   ]
  },
  {
   "cell_type": "code",
   "execution_count": null,
   "metadata": {},
   "outputs": [],
   "source": [
    "bd, color = persistance_diagram(include_gene_expression.values, \"purple\", \"Cut Cells, Random Genes_5\")"
   ]
  },
  {
   "cell_type": "code",
   "execution_count": null,
   "metadata": {},
   "outputs": [],
   "source": [
    "birth_lifetime(bd, 2, color)"
   ]
  },
  {
   "cell_type": "code",
   "execution_count": null,
   "metadata": {},
   "outputs": [],
   "source": [
    "violin_lifetime(bd, 2, color, sublabel_5)"
   ]
  },
  {
   "cell_type": "code",
   "execution_count": null,
   "metadata": {},
   "outputs": [],
   "source": []
  },
  {
   "cell_type": "code",
   "execution_count": null,
   "metadata": {},
   "outputs": [],
   "source": []
  },
  {
   "cell_type": "markdown",
   "metadata": {},
   "source": [
    "## Cut cycle from UMAP"
   ]
  },
  {
   "cell_type": "code",
   "execution_count": null,
   "metadata": {},
   "outputs": [],
   "source": [
    "color_selection = custom_palette.loc[\"teal\"]"
   ]
  },
  {
   "cell_type": "code",
   "execution_count": null,
   "metadata": {},
   "outputs": [],
   "source": [
    "plt.figure(figsize=(8, 6))\n",
    "            \n",
    "sns.scatterplot(embedding_sub[:,0], embedding_sub[:,1], hue = labels[\"gfp.median.log10sum.adjust\"], s = 20, linewidth=0, palette = \"coolwarm\", hue_norm=(-1,1))\n",
    "plt.vlines(-1, -2, 9, linestyles =\"dotted\", colors =\"k\")\n",
    "plt.ylabel('UMAP2')\n",
    "plt.xlabel('UMAP1')\n",
    "plt.title('UMAP - GFP')\n",
    "plt.legend(bbox_to_anchor=(1.1, 1),borderaxespad=0)\n",
    "#plt.savefig('.png')\n",
    "plt.show()"
   ]
  },
  {
   "cell_type": "code",
   "execution_count": null,
   "metadata": {},
   "outputs": [],
   "source": [
    "location_include = np.where(embedding_sub[:,0] < -1)[0]\n",
    "print(location_include.shape)\n",
    "\n",
    "name_include = []\n",
    "embedding_include_x = []\n",
    "embedding_include_y = []\n",
    "\n",
    "for i in range(location_include.shape[0]):\n",
    "    name_include.append(gene_expression.columns[location_include[i]])  \n",
    "    embedding_include_x.append(embedding_sub[location_include[i],0]) \n",
    "    embedding_include_y.append(embedding_sub[location_include[i],1]) \n",
    "    \n",
    "include_gene_expression = gene_expression[name_include]\n",
    "embedding_include_x = np.array(embedding_include_x)\n",
    "embedding_include_y = np.array(embedding_include_y)\n",
    "embedding_include_x = np.reshape(embedding_include_x, (embedding_include_x.shape[0],1))\n",
    "embedding_include_y = np.reshape(embedding_include_y, (embedding_include_x.shape[0],1))\n",
    "\n",
    "embedding_include = np.append(embedding_include_x, embedding_include_y, axis = 1)"
   ]
  },
  {
   "cell_type": "code",
   "execution_count": null,
   "metadata": {},
   "outputs": [],
   "source": [
    "plt.figure(figsize=(8, 6))\n",
    "            \n",
    "sns.scatterplot(embedding_sub[:,0], embedding_sub[:,1], hue = np.ones(embedding_sub.shape[0]), s = 20, linewidth=0, palette = [\"lightgrey\"])\n",
    "sns.scatterplot(embedding_include[:,0], embedding_include[:,1], hue = np.ones(embedding_include.shape[0]), s = 20, linewidth=0, palette = [color_selection[1]])\n",
    "plt.vlines(-1, -2, 9, linestyles =\"dotted\", colors =\"k\")\n",
    "plt.ylabel('UMAP2')\n",
    "plt.xlabel('UMAP1')\n",
    "plt.legend(bbox_to_anchor=(1.2, 1),borderaxespad=0)\n",
    "#plt.savefig('.png')\n",
    "plt.show()"
   ]
  },
  {
   "cell_type": "code",
   "execution_count": null,
   "metadata": {},
   "outputs": [],
   "source": []
  },
  {
   "cell_type": "code",
   "execution_count": null,
   "metadata": {},
   "outputs": [],
   "source": []
  },
  {
   "cell_type": "code",
   "execution_count": null,
   "metadata": {},
   "outputs": [],
   "source": [
    "visualize(include_gene_expression.values, 20, 'UMAP - Large Loop Cells, All Genes', 0)"
   ]
  },
  {
   "cell_type": "code",
   "execution_count": null,
   "metadata": {},
   "outputs": [],
   "source": [
    "bd, color = persistance_diagram(include_gene_expression.values, \"teal\", \"Large Loop Cells, All Genes\")"
   ]
  },
  {
   "cell_type": "code",
   "execution_count": null,
   "metadata": {},
   "outputs": [],
   "source": [
    "birth_lifetime(bd, 0, color)"
   ]
  },
  {
   "cell_type": "code",
   "execution_count": null,
   "metadata": {},
   "outputs": [],
   "source": [
    "violin_lifetime(bd, 0, color, sublabel)"
   ]
  },
  {
   "cell_type": "code",
   "execution_count": null,
   "metadata": {},
   "outputs": [],
   "source": []
  },
  {
   "cell_type": "code",
   "execution_count": null,
   "metadata": {},
   "outputs": [],
   "source": []
  },
  {
   "cell_type": "code",
   "execution_count": null,
   "metadata": {},
   "outputs": [],
   "source": [
    "include_gene_expression = gene_sub[name_include]"
   ]
  },
  {
   "cell_type": "code",
   "execution_count": null,
   "metadata": {},
   "outputs": [],
   "source": [
    "visualize(include_gene_expression.values, 4, 'UMAP - Large Loop Cells, All Genes', 1)"
   ]
  },
  {
   "cell_type": "code",
   "execution_count": null,
   "metadata": {},
   "outputs": [],
   "source": [
    "bd, color = persistance_diagram(include_gene_expression.values, \"teal\", \"Large Loop Cells, Cell Cycle Genes\")"
   ]
  },
  {
   "cell_type": "code",
   "execution_count": null,
   "metadata": {},
   "outputs": [],
   "source": [
    "birth_lifetime(bd, 1, color)"
   ]
  },
  {
   "cell_type": "code",
   "execution_count": null,
   "metadata": {},
   "outputs": [],
   "source": [
    "violin_lifetime(bd, 1, color, sublabel_cycle)"
   ]
  },
  {
   "cell_type": "code",
   "execution_count": null,
   "metadata": {},
   "outputs": [],
   "source": []
  },
  {
   "cell_type": "code",
   "execution_count": null,
   "metadata": {},
   "outputs": [],
   "source": [
    "include_gene_expression = gene_sub_rand1[name_include]"
   ]
  },
  {
   "cell_type": "code",
   "execution_count": null,
   "metadata": {},
   "outputs": [],
   "source": [
    "visualize(include_gene_expression.values, 4, 'UMAP - Large Loop Cells, Random Genes_1', 2)"
   ]
  },
  {
   "cell_type": "code",
   "execution_count": null,
   "metadata": {},
   "outputs": [],
   "source": [
    "bd, color = persistance_diagram(include_gene_expression.values, \"teal\", \"Large Loop Cells, Random Genes_1\")"
   ]
  },
  {
   "cell_type": "code",
   "execution_count": null,
   "metadata": {},
   "outputs": [],
   "source": [
    "birth_lifetime(bd, 2, color)"
   ]
  },
  {
   "cell_type": "code",
   "execution_count": null,
   "metadata": {},
   "outputs": [],
   "source": [
    "violin_lifetime(bd, 2, color, sublabel_1)"
   ]
  },
  {
   "cell_type": "code",
   "execution_count": null,
   "metadata": {},
   "outputs": [],
   "source": []
  },
  {
   "cell_type": "code",
   "execution_count": null,
   "metadata": {},
   "outputs": [],
   "source": [
    "include_gene_expression = gene_sub_rand2[name_include]"
   ]
  },
  {
   "cell_type": "code",
   "execution_count": null,
   "metadata": {},
   "outputs": [],
   "source": [
    "visualize(include_gene_expression.values, 4, 'UMAP - Large Loop Cells, Random Genes_2', 2)"
   ]
  },
  {
   "cell_type": "code",
   "execution_count": null,
   "metadata": {},
   "outputs": [],
   "source": [
    "bd, color = persistance_diagram(include_gene_expression.values, \"teal\", \"Large Loop Cells, Random Genes_2\")"
   ]
  },
  {
   "cell_type": "code",
   "execution_count": null,
   "metadata": {},
   "outputs": [],
   "source": [
    "birth_lifetime(bd, 2, color)"
   ]
  },
  {
   "cell_type": "code",
   "execution_count": null,
   "metadata": {},
   "outputs": [],
   "source": [
    "violin_lifetime(bd, 2, color, sublabel_2)"
   ]
  },
  {
   "cell_type": "code",
   "execution_count": null,
   "metadata": {},
   "outputs": [],
   "source": [
    "\n"
   ]
  },
  {
   "cell_type": "code",
   "execution_count": null,
   "metadata": {},
   "outputs": [],
   "source": []
  },
  {
   "cell_type": "code",
   "execution_count": null,
   "metadata": {},
   "outputs": [],
   "source": []
  },
  {
   "cell_type": "code",
   "execution_count": null,
   "metadata": {},
   "outputs": [],
   "source": [
    "include_gene_expression = gene_sub_rand3[name_include]"
   ]
  },
  {
   "cell_type": "code",
   "execution_count": null,
   "metadata": {},
   "outputs": [],
   "source": [
    "visualize(include_gene_expression.values, 4, 'UMAP - Large Loop Cells, Random Genes_3', 2)"
   ]
  },
  {
   "cell_type": "code",
   "execution_count": null,
   "metadata": {},
   "outputs": [],
   "source": [
    "bd, color = persistance_diagram(include_gene_expression.values, \"teal\", \"Large Loop Cells, Random Genes_3\")"
   ]
  },
  {
   "cell_type": "code",
   "execution_count": null,
   "metadata": {},
   "outputs": [],
   "source": [
    "birth_lifetime(bd, 2, color)"
   ]
  },
  {
   "cell_type": "code",
   "execution_count": null,
   "metadata": {},
   "outputs": [],
   "source": [
    "violin_lifetime(bd, 2, color, sublabel_3)"
   ]
  },
  {
   "cell_type": "code",
   "execution_count": null,
   "metadata": {},
   "outputs": [],
   "source": []
  },
  {
   "cell_type": "code",
   "execution_count": null,
   "metadata": {},
   "outputs": [],
   "source": []
  },
  {
   "cell_type": "code",
   "execution_count": null,
   "metadata": {},
   "outputs": [],
   "source": [
    "include_gene_expression = gene_sub_rand4[name_include]"
   ]
  },
  {
   "cell_type": "code",
   "execution_count": null,
   "metadata": {},
   "outputs": [],
   "source": [
    "visualize(include_gene_expression.values, 4, 'UMAP - Large Loop Cells, Random Genes_4', 2)"
   ]
  },
  {
   "cell_type": "code",
   "execution_count": null,
   "metadata": {},
   "outputs": [],
   "source": [
    "bd, color = persistance_diagram(include_gene_expression.values, \"teal\", \"Large Loop Cells, Random Genes_4\")"
   ]
  },
  {
   "cell_type": "code",
   "execution_count": null,
   "metadata": {},
   "outputs": [],
   "source": [
    "birth_lifetime(bd, 2, color)"
   ]
  },
  {
   "cell_type": "code",
   "execution_count": null,
   "metadata": {},
   "outputs": [],
   "source": [
    "violin_lifetime(bd, 2, color, sublabel_4)"
   ]
  },
  {
   "cell_type": "code",
   "execution_count": null,
   "metadata": {},
   "outputs": [],
   "source": []
  },
  {
   "cell_type": "code",
   "execution_count": null,
   "metadata": {},
   "outputs": [],
   "source": []
  },
  {
   "cell_type": "code",
   "execution_count": null,
   "metadata": {},
   "outputs": [],
   "source": []
  },
  {
   "cell_type": "code",
   "execution_count": null,
   "metadata": {},
   "outputs": [],
   "source": [
    "include_gene_expression = gene_sub_rand5[name_include]"
   ]
  },
  {
   "cell_type": "code",
   "execution_count": null,
   "metadata": {},
   "outputs": [],
   "source": [
    "visualize(include_gene_expression.values, 4, 'UMAP - Large Loop Cells, Random Genes_5', 2)"
   ]
  },
  {
   "cell_type": "code",
   "execution_count": null,
   "metadata": {},
   "outputs": [],
   "source": [
    "bd, color = persistance_diagram(include_gene_expression.values, \"teal\", \"Large Loop Cells, Random Genes_5\")"
   ]
  },
  {
   "cell_type": "code",
   "execution_count": null,
   "metadata": {},
   "outputs": [],
   "source": [
    "birth_lifetime(bd, 2, color)"
   ]
  },
  {
   "cell_type": "code",
   "execution_count": null,
   "metadata": {},
   "outputs": [],
   "source": [
    "violin_lifetime(bd, 2, color, sublabel_5)"
   ]
  },
  {
   "cell_type": "code",
   "execution_count": null,
   "metadata": {},
   "outputs": [],
   "source": []
  },
  {
   "cell_type": "code",
   "execution_count": null,
   "metadata": {},
   "outputs": [],
   "source": []
  },
  {
   "cell_type": "code",
   "execution_count": null,
   "metadata": {},
   "outputs": [],
   "source": []
  },
  {
   "cell_type": "code",
   "execution_count": null,
   "metadata": {},
   "outputs": [],
   "source": []
  }
 ],
 "metadata": {
  "kernelspec": {
   "display_name": "Python 3",
   "language": "python",
   "name": "python3"
  },
  "language_info": {
   "codemirror_mode": {
    "name": "ipython",
    "version": 3
   },
   "file_extension": ".py",
   "mimetype": "text/x-python",
   "name": "python",
   "nbconvert_exporter": "python",
   "pygments_lexer": "ipython3",
   "version": "3.8.0"
  }
 },
 "nbformat": 4,
 "nbformat_minor": 4
}

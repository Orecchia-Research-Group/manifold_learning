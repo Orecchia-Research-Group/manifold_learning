{
 "cells": [
  {
   "cell_type": "code",
   "execution_count": 3,
   "metadata": {},
   "outputs": [],
   "source": [
    "import numpy as np\n",
    "from manifold_utils.mSVD import hypersphere, eigen_plot, eigen_calc_from_dist_mat\n",
    "from sklearn.metrics.pairwise import euclidean_distances"
   ]
  },
  {
   "cell_type": "code",
   "execution_count": 17,
   "metadata": {},
   "outputs": [
    {
     "name": "stdout",
     "output_type": "stream",
     "text": [
      "(10000, 8)\n"
     ]
    }
   ],
   "source": [
    "Patches = np.load('Denoised3x3Patches.npy')\n",
    "dist_mat = euclidean_distances(Patches)"
   ]
  },
  {
   "cell_type": "code",
   "execution_count": 3,
   "metadata": {},
   "outputs": [
    {
     "data": {
      "image/png": "[encoded data removed]",
      "text/plain": [
       "<Figure size 432x288 with 1 Axes>"
      ]
     },
     "metadata": {
      "needs_background": "light"
     },
     "output_type": "display_data"
    }
   ],
   "source": [
    "#Plot the radii vs eigvalues value for a center point\n",
    "cid = 8000\n",
    "radii, eigval_list, eigvec_list = eigen_calc_from_dist_mat(Patches, dist_mat, cid, radint = .01)\n",
    "rmin = radii[0]\n",
    "rmax = radii[-1]\n",
    "eigen_plot(eigval_list, radii, rmin, rmax)"
   ]
  },
  {
   "cell_type": "code",
   "execution_count": 4,
   "metadata": {},
   "outputs": [],
   "source": [
    "from combined_mls_pca import mls_pca\n",
    "from PatchExtractTools import fnameFix"
   ]
  },
  {
   "cell_type": "code",
   "execution_count": 5,
   "metadata": {},
   "outputs": [
    {
     "name": "stdout",
     "output_type": "stream",
     "text": [
      "(563, 8)\n",
      "(563, 2, 8)\n",
      "(563,)\n",
      "()\n",
      "()\n",
      "(9993, 8)\n",
      "(563, 6, 8)\n"
     ]
    }
   ],
   "source": [
    "def SaveLocalPCAs(cloud, cids, k, dist_mat):\n",
    "    for cid in cids:\n",
    "        data = np.array(mls_pca(cloud, cid, k, radint = .01, iter=False, dist=dist_mat), dtype=object)\n",
    "        fn = 'mls_pca_natural_images_data\\cid=' + fnameFix(str(cid))\n",
    "        #np.save(fn, data)\n",
    "        \n",
    "#select random center points\n",
    "num_cids = 1\n",
    "cids = np.random.choice(np.arange(Patches.shape[0]), size=num_cids)\n",
    "#intrinsic dimensionality\n",
    "k = 2\n",
    "#save ensembles of hyperplanes\n",
    "SaveLocalPCAs(Patches, cids, k, dist_mat)\n",
    "\n"
   ]
  },
  {
   "cell_type": "code",
   "execution_count": 1,
   "metadata": {},
   "outputs": [],
   "source": [
    "import os\n",
    "from manifold_utils.iga import iga"
   ]
  },
  {
   "cell_type": "code",
   "execution_count": 13,
   "metadata": {},
   "outputs": [],
   "source": [
    "#prune the eigvecs and use those to get average hyperplanes. \n",
    "def GrassmannAvg():\n",
    "    dirName = 'mls_pca_natural_images_data'\n",
    "    listdirNames = os.listdir(dirName)\n",
    "    G_hyperplanes = []\n",
    "    cids = []\n",
    "    for fn in listdirNames:\n",
    "        #read a sample data\n",
    "        filename = dirName + '\\\\' + fn\n",
    "        eigval_list, top_eigvecs, new_radii, R_min, R_max, X_mat, bottom_eigvecs = np.load(filename, allow_pickle=True)    \n",
    "        #record center id\n",
    "        cids.append(int(fn[4:-4]))\n",
    "        #find indices for Rmax and Rmin\n",
    "        R_min_index, R_max_index = np.searchsorted(new_radii, np.array([R_min, R_max]))\n",
    "        #Take only the top_eigvecs between R_min and R_max\n",
    "        pruned_top_eigvecs = np.transpose(top_eigvecs[R_min_index:R_max_index], axes=(0,2,1))    \n",
    "        #Grassmann averaged hyperplanes in dimension N-by-d. For natural images, 8x2.\n",
    "        G_hyperplanes.append(iga(pruned_top_eigvecs))\n",
    "    G_hyperplanes = np.array(G_hyperplanes)\n",
    "    cids = np.array(cids)\n",
    "    return cids, G_hyperplanes                            "
   ]
  },
  {
   "cell_type": "code",
   "execution_count": 14,
   "metadata": {},
   "outputs": [],
   "source": [
    "cids, G_hyperplanes = GrassmannAvg() "
   ]
  },
  {
   "cell_type": "code",
   "execution_count": 37,
   "metadata": {},
   "outputs": [],
   "source": [
    "np.savez(\"GrassmannAvg\", cids, G_hyperplanes)"
   ]
  },
  {
   "cell_type": "code",
   "execution_count": 16,
   "metadata": {},
   "outputs": [],
   "source": [
    "from manifold_utils.transition_maps import len_shortest_path"
   ]
  },
  {
   "cell_type": "code",
   "execution_count": 43,
   "metadata": {},
   "outputs": [
    {
     "name": "stdout",
     "output_type": "stream",
     "text": [
      "(100, 8, 2)\n"
     ]
    }
   ],
   "source": [
    "def allPairsHeuristic(Patches, cids, GH):\n",
    "    '''\n",
    "    Compute Heuristic for all pairs \n",
    "    cid: id of the center points\n",
    "    GH:Grassmann hyperplanes\n",
    "    '''\n",
    "    #heuristic matrix\n",
    "    n = len(cids)\n",
    "    hs = np.zeros((n,n))\n",
    "    for i in range(n):\n",
    "        #extract i-th cid point\n",
    "        p_i = Patches[cids[i]]\n",
    "        #extract i-th cid Grassmann average hyperplanes\n",
    "        GH_i = GH[i]\n",
    "        for j in range(i+1, n):\n",
    "            GH_j = GH[j]\n",
    "            p_j = Patches[cids[j]]\n",
    "            #compute heuristic and update \n",
    "            h = len_shortest_path(p_i, GH_i, p_j, GH_j)\n",
    "            #print(p_i, p_j, GH_i, GH_j, h)\n",
    "            hs[i,j] = h\n",
    "            hs[j,i] = h\n",
    "    return hs\n",
    "            \n",
    "cids= np.load('GrassmannAvg.npz')['arr_0']  \n",
    "G_hyperplanes= np.load('GrassmannAvg.npz')['arr_1']  \n",
    "#hs = allPairsHeuristic(Patches, cids, G_hyperplanes)"
   ]
  },
  {
   "cell_type": "code",
   "execution_count": 20,
   "metadata": {},
   "outputs": [],
   "source": [
    "import matplotlib.pyplot as plt"
   ]
  },
  {
   "cell_type": "code",
   "execution_count": 26,
   "metadata": {},
   "outputs": [
    {
     "data": {
      "image/png": "[encoded data removed]",
      "text/plain": [
       "<Figure size 432x288 with 2 Axes>"
      ]
     },
     "metadata": {
      "needs_background": "light"
     },
     "output_type": "display_data"
    }
   ],
   "source": [
    "plt.imshow(hs, cmap='viridis')\n",
    "plt.colorbar()\n",
    "plt.show()"
   ]
  },
  {
   "cell_type": "code",
   "execution_count": 27,
   "metadata": {},
   "outputs": [
    {
     "name": "stdout",
     "output_type": "stream",
     "text": [
      "[[ 0. nan nan ... nan nan nan]\n",
      " [nan  0. nan ... nan nan nan]\n",
      " [nan nan  0. ... nan nan nan]\n",
      " ...\n",
      " [nan nan nan ...  0. nan nan]\n",
      " [nan nan nan ... nan  0. nan]\n",
      " [nan nan nan ... nan nan  0.]]\n"
     ]
    }
   ],
   "source": [
    "print(hs)"
   ]
  },
  {
   "cell_type": "code",
   "execution_count": null,
   "metadata": {},
   "outputs": [],
   "source": []
  }
 ],
 "metadata": {
  "kernelspec": {
   "display_name": "Python 3",
   "language": "python",
   "name": "python3"
  },
  "language_info": {
   "codemirror_mode": {
    "name": "ipython",
    "version": 3
   },
   "file_extension": ".py",
   "mimetype": "text/x-python",
   "name": "python",
   "nbconvert_exporter": "python",
   "pygments_lexer": "ipython3",
   "version": "3.7.4"
  }
 },
 "nbformat": 4,
 "nbformat_minor": 4
}

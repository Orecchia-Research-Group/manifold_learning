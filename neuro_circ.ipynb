{
 "cells": [
  {
   "cell_type": "code",
   "execution_count": null,
   "metadata": {},
   "outputs": [],
   "source": [
    "import numpy as np\n",
    "import pandas as pd\n",
    "\n",
    "df_1 = pd.read_csv(\"data/neuro_circ/sheet_1.csv\", header=None).T\n",
    "df_2 = pd.read_csv(\"data/neuro_circ/sheet_2.csv\", header=None).T\n",
    "\n",
    "# NOTE: within each of {df_1, df_2}, Cell_number is a unique ID,\n",
    "# so each row (post-transpose) is a unique cell\n",
    "\n",
    "# Set columns\n",
    "df_1.columns = df_1.iloc[0]\n",
    "df_1.drop(df_1.index[0], inplace=True)\n",
    "df_2.columns = df_2.iloc[0]\n",
    "df_2.drop(df_2.index[0], inplace=True)\n",
    "\n",
    "names_1 = df_1[\"Animal_Number\"].tolist()\n",
    "names_2 = df_2[\"Animal_Number\"].tolist()\n",
    "names = names_1 + names_2\n",
    "uniq_names = np.unique(names)\n",
    "\n",
    "groups_1 = df_1[\"core_group\"].tolist()\n",
    "groups_2 = df_2[\"core_group\"].tolist()\n",
    "groups = groups_1 + groups_2\n",
    "uniq_groups = np.unique(groups)\n",
    "\n",
    "# Drop irrelevant columns\n",
    "to_drop = ['Cell_number', 'Animal_Number', 'core_group',\n",
    "\t'Light_treat', 'Rostral_Caudal', \n",
    "\t'Ventral_Dorsal', 'Medial_Lateral']\n",
    "df_1.drop(labels=to_drop, axis=1, inplace=True)\n",
    "df_2.drop(labels=to_drop, axis=1, inplace=True)"
   ]
  }
 ],
 "metadata": {
  "kernelspec": {
   "display_name": "Python 3",
   "language": "python",
   "name": "python3"
  },
  "language_info": {
   "codemirror_mode": {
    "name": "ipython",
    "version": 3
   },
   "file_extension": ".py",
   "mimetype": "text/x-python",
   "name": "python",
   "nbconvert_exporter": "python",
   "pygments_lexer": "ipython3",
   "version": "3.8.0"
  }
 },
 "nbformat": 4,
 "nbformat_minor": 4
}

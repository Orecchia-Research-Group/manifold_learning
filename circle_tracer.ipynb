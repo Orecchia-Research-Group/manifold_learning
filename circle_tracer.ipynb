{
 "cells": [
  {
   "cell_type": "code",
   "execution_count": null,
   "metadata": {},
   "outputs": [],
   "source": [
    "import numpy as np\n",
    "import pandas as pd\n",
    "import scanpy as sc\n",
    "from ripser import Rips\n",
    "from ripser import ripser\n",
    "from time import time\n",
    "import pickle"
   ]
  },
  {
   "cell_type": "code",
   "execution_count": null,
   "metadata": {},
   "outputs": [],
   "source": [
    "ILC_var = sc.read(\"data/sct_variable.h5ad\")"
   ]
  },
  {
   "cell_type": "code",
   "execution_count": null,
   "metadata": {},
   "outputs": [],
   "source": [
    "try:\n",
    "\tCell_list = pd.read_csv(\"data/hieromnimon/Cell_list_ILC.csv\", sep=\",\", header=0)\n",
    "except FileNotFoundError:\n",
    "\tObs = ILC_var.obs\n",
    "\tO = Obs[\"ilc2_ilc3\"].to_frame()\n",
    "\tO.to_csv(\"data/hieromnimon/Cell_list_ILC.csv\", sep=\",\")\n",
    "\tCell_list = pd.read_csv(\"data/hieromnimon/Cell_list_ILC.csv\", sep=\",\", header=0)\n",
    "Cell_list = np.array(Cell_list)\n",
    "Cell_list = Cell_list[:, 0]\n",
    "try:\n",
    "\tGene_list = pd.read_csv(\"data/hieromnimon/Gene_list_ILC.csv\", sep=\",\", header=0)\n",
    "except FileNotFoundError:\n",
    "\tILC_var.var[\"Selected\"].to_csv(\"data/hieromnimon/Gene_list_ILC.csv\", sep=\",\")\n",
    "\tGene_list = pd.read_csv(\"data/hieromnimon/Gene_list_ILC.csv\", sep=\",\", header=0)\n",
    "Gene_list = np.array(Gene_list)\n",
    "Gene_list = Gene_list[:, 0]"
   ]
  },
  {
   "cell_type": "code",
   "execution_count": null,
   "metadata": {},
   "outputs": [],
   "source": [
    "matrix = ILC_var.layers[\"norm_data\"]\n",
    "matrix = np.array(matrix.toarray())"
   ]
  },
  {
   "cell_type": "code",
   "execution_count": null,
   "metadata": {},
   "outputs": [],
   "source": [
    "ILC_total_reads = pd.DataFrame(matrix, index=Cell_list, columns=Gene_list)\n",
    "np_data = np.array(ILC_total_reads)"
   ]
  },
  {
   "cell_type": "code",
   "execution_count": null,
   "metadata": {},
   "outputs": [],
   "source": [
    "# We have four labeled groups of cells that we want to collect together\n",
    "ILC2_ILC3 = ILC_var.obs[\"ilc2_ilc3\"]\n",
    "ILC3_Q = ILC_var.obs[\"quiescent_ilc3\"]\n",
    "ILC2_Q = ILC_var.obs[\"ilc2_quiescent\"]\n",
    "cloud_ILC3 = ILC_var.obs[\"cloud_ilc3\"]"
   ]
  },
  {
   "cell_type": "code",
   "execution_count": null,
   "metadata": {},
   "outputs": [],
   "source": [
    "df = pd.DataFrame(dict(ILC2_ILC3=ILC2_ILC3, ILC3_Q=ILC3_Q, ILC2_Q=ILC2_Q, cloud_ILC3=cloud_ILC3))"
   ]
  },
  {
   "cell_type": "code",
   "execution_count": null,
   "metadata": {},
   "outputs": [],
   "source": [
    "pd_data = pd.DataFrame(np_data, index=df.index)"
   ]
  },
  {
   "cell_type": "code",
   "execution_count": null,
   "metadata": {},
   "outputs": [],
   "source": [
    "subset = []\n",
    "for label in df.index:\n",
    "\tif not np.isnan(df.loc[label][\"ILC2_ILC3\"]):\n",
    "\t\tsubset.append(label)\n",
    "\telif not np.isnan(df.loc[label][\"ILC2_Q\"]):\n",
    "\t\tsubset.append(label)\n",
    "\telif not np.isnan(df.loc[label][\"ILC3_Q\"]):\n",
    "\t\tsubset.append(label)\n",
    "\telif not np.isnan(df.loc[label][\"cloud_ILC3\"]):\n",
    "\t\tsubset.append(label)"
   ]
  },
  {
   "cell_type": "code",
   "execution_count": null,
   "metadata": {},
   "outputs": [],
   "source": [
    "topic_cells = np.array(pd_data.loc[subset])"
   ]
  },
  {
   "cell_type": "code",
   "execution_count": null,
   "metadata": {},
   "outputs": [],
   "source": [
    "# Do ripster shenanigans\n",
    "start = time()\n",
    "rips = Rips()\n",
    "diagrams = rips.fit_transform(np_data, distance_matrix=False, metric=\"euclidean\")\n",
    "print(\"Time elapsed: \"+str(time() - start))"
   ]
  },
  {
   "cell_type": "code",
   "execution_count": null,
   "metadata": {},
   "outputs": [],
   "source": [
    "with open(\"ripser_output.pkl\", \"wb\") as file:\n",
    "\tpickle.dump(diagrams, file)"
   ]
  }
 ],
 "metadata": {
  "jupytext": {
   "cell_metadata_filter": "-all",
   "formats": "py:light,ipynb"
  },
  "kernelspec": {
   "display_name": "Python 3",
   "language": "python",
   "name": "python3"
  },
  "language_info": {
   "codemirror_mode": {
    "name": "ipython",
    "version": 3
   },
   "file_extension": ".py",
   "mimetype": "text/x-python",
   "name": "python",
   "nbconvert_exporter": "python",
   "pygments_lexer": "ipython3",
   "version": "3.8.5"
  }
 },
 "nbformat": 4,
 "nbformat_minor": 4
}

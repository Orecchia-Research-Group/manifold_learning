{
 "cells": [
  {
   "cell_type": "code",
   "execution_count": 104,
   "metadata": {},
   "outputs": [],
   "source": [
    "import numpy as np\n",
    "import random\n",
    "from scipy.spatial import distance\n",
    "\n",
    "n_dimensions=3\n",
    "n_points=100\n",
    "\n",
    "#Create samples on a unit sphere in desired dimensions\n",
    "def hypersphere(npoints, ndim):\n",
    "    np.random.seed(1)\n",
    "    vec=np.random.randn(ndim,npoints) #creates a random sample from a Gaussian distribution in the form of an array of dimensions: ndim x npoints\n",
    "    vec/=np.linalg.norm(vec,axis=0) #divides each vector by its norm, which turns each vector into a unit vector (length 1). Here we obtain samples from the unit sphere in the dimension we stated in the beginning of the function.\n",
    "    return(vec)"
   ]
  },
  {
   "cell_type": "code",
   "execution_count": 81,
   "metadata": {},
   "outputs": [
    {
     "name": "stdout",
     "output_type": "stream",
     "text": [
      "[-0.46457661 -0.85509238 -0.23018598]\n",
      "[ 0.93795301 -0.25818745]\n"
     ]
    }
   ],
   "source": [
    "#Randomly select a point on the hypersphere to be the center of the ball\n",
    "random.seed(1)\n",
    "hsphere=hypersphere(n_points,n_dimensions)\n",
    "dim_array=np.shape(hsphere) #defines the shape of the array\n",
    "rng=random.randint(0,dim_array[1])#pulls random number from 0 to n_points and assign to rng\n",
    "center_ball=hsphere[:,rng] #uses randomly generated number to extract one row of points\n",
    "print(center_ball)\n",
    "print(hsphere[0:2,0])"
   ]
  },
  {
   "cell_type": "code",
   "execution_count": 157,
   "metadata": {},
   "outputs": [],
   "source": [
    "radii = np.arange(.1,1.01,.01) #creates an array of radii values to iterate through\n",
    "\n",
    "#Find the points on the hypersphere within each radii\n",
    "for i in radii: #iteratest through each radii value\n",
    "    X=np.empty([0,dim_array[0]]) #creates an empty array to be filled in with the values on the hypersphere that fall within the ball radii\n",
    "    for j in np.arange(0,n_points): #iterates through array of index values for each point\n",
    "        if distance.euclidean(hsphere[:,j],center_ball)<=i: #selects points whose distance to center is shorter than the length of the radius\n",
    "            if np.shape(X)==(0,dim_array[0]):\n",
    "                X=np.append(X,hsphere[:,j]) #appends first point coordinates to the empty array\n",
    "            else:\n",
    "                X=np.vstack((X,hsphere[:,j])) #vertically stacks subsequent points to the empty array\n",
    "    dim_X=np.shape(X) #saves dimensions of matrix for points within the current radius\n",
    "    #Need to set up covariance matrix within this and perform PCA"
   ]
  },
  {
   "cell_type": "code",
   "execution_count": 113,
   "metadata": {},
   "outputs": [
    {
     "data": {
      "text/plain": [
       "1.921649874320172"
      ]
     },
     "execution_count": 113,
     "metadata": {},
     "output_type": "execute_result"
    }
   ],
   "source": [
    "distance.euclidean(hsphere[:,22],center_ball)"
   ]
  },
  {
   "cell_type": "code",
   "execution_count": 150,
   "metadata": {},
   "outputs": [],
   "source": [
    "x=np.empty([0,3])"
   ]
  },
  {
   "cell_type": "code",
   "execution_count": 154,
   "metadata": {},
   "outputs": [
    {
     "data": {
      "text/plain": [
       "array([[1., 2., 3.],\n",
       "       [1., 2., 3.]])"
      ]
     },
     "execution_count": 154,
     "metadata": {},
     "output_type": "execute_result"
    }
   ],
   "source": [
    "a=[1,2,3]\n",
    "x=np.vstack((x,a))\n",
    "x"
   ]
  },
  {
   "cell_type": "code",
   "execution_count": 151,
   "metadata": {},
   "outputs": [
    {
     "data": {
      "text/plain": [
       "(0, 3)"
      ]
     },
     "execution_count": 151,
     "metadata": {},
     "output_type": "execute_result"
    }
   ],
   "source": [
    "np.shape(x)"
   ]
  },
  {
   "cell_type": "code",
   "execution_count": null,
   "metadata": {},
   "outputs": [],
   "source": []
  }
 ],
 "metadata": {
  "kernelspec": {
   "display_name": "Python 3",
   "language": "python",
   "name": "python3"
  },
  "language_info": {
   "codemirror_mode": {
    "name": "ipython",
    "version": 3
   },
   "file_extension": ".py",
   "mimetype": "text/x-python",
   "name": "python",
   "nbconvert_exporter": "python",
   "pygments_lexer": "ipython3",
   "version": "3.8.0"
  }
 },
 "nbformat": 4,
 "nbformat_minor": 2
}

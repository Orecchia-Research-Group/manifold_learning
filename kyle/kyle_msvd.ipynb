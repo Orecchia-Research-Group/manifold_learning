{
 "cells": [
  {
   "cell_type": "code",
   "execution_count": 13,
   "metadata": {},
   "outputs": [],
   "source": [
    "import numpy as np\n",
    "import random\n",
    "import matplotlib.pyplot as plt\n",
    "from scipy.spatial import distance\n",
    "\n",
    "n_dimensions=3\n",
    "n_points=100\n",
    "\n",
    "#Create samples on a unit sphere in desired dimensions\n",
    "def hypersphere(npoints, ndim):\n",
    "    np.random.seed(1)\n",
    "    vec=np.random.randn(ndim,npoints) #creates a random sample from a Gaussian distribution in the form of an array of dimensions: ndim x npoints\n",
    "    vec/=np.linalg.norm(vec,axis=0) #divides each vector by its norm, which turns each vector into a unit vector (length 1). Here we obtain samples from the unit sphere in the dimension we stated in the beginning of the function.\n",
    "    return(vec)"
   ]
  },
  {
   "cell_type": "code",
   "execution_count": 14,
   "metadata": {},
   "outputs": [
    {
     "name": "stdout",
     "output_type": "stream",
     "text": [
      "[-0.46457661 -0.85509238 -0.23018598]\n",
      "[ 0.93795301 -0.25818745]\n"
     ]
    }
   ],
   "source": [
    "#Randomly select a point on the hypersphere to be the center of the ball\n",
    "random.seed(1)\n",
    "hsphere=hypersphere(n_points,n_dimensions)\n",
    "dim_array=np.shape(hsphere) #defines the shape of the array\n",
    "rng=random.randint(0,dim_array[1])#pulls random number from 0 to n_points and assign to rng\n",
    "center_ball=hsphere[:,rng] #uses randomly generated number to extract one row of points\n",
    "print(center_ball)\n",
    "print(hsphere[0:2,0])"
   ]
  },
  {
   "cell_type": "code",
   "execution_count": 15,
   "metadata": {},
   "outputs": [
    {
     "data": {
      "image/png": "[encoded data removed]",
      "text/plain": [
       "<Figure size 432x288 with 1 Axes>"
      ]
     },
     "metadata": {
      "needs_background": "light"
     },
     "output_type": "display_data"
    }
   ],
   "source": [
    "radii = np.arange(.1,1.01,.01) #creates an array of radii values to iterate through\n",
    "eigval_list = [] #creates empty list to store eigen values\n",
    "\n",
    "#Find the points on the hypersphere within each radii\n",
    "for i in radii: #iteratest through each radii value\n",
    "    X=[] #creates an empty array to be filled in with the values on the hypersphere that fall within the ball radii\n",
    "    for j in np.arange(0,n_points): #iterates through array of index values for each point\n",
    "        if distance.euclidean(hsphere[:,j],center_ball)<=i: #selects points whose distance to center is shorter than the length of the radius\n",
    "            X.append(hsphere[:,j])\n",
    "    X_mat=np.vstack(X)\n",
    "    dim_X=np.shape(X_mat) #saves dimensions of matrix for points within the current radius\n",
    "    \n",
    "    #Create the covariance matrix and save eigenvalues for each set X\n",
    "    mean_X=np.mean(X_mat,axis=0) #calculates the mean of X\n",
    "    X_centered= X_mat - mean_X #centers the set X by subtracting the mean from each point\n",
    "    cov_X= 1/dim_X[0] * (X_centered.T @ X_centered) #calculates the covariance of the new centered set\n",
    "    eigvals,eigvecs=np.linalg.eigh(cov_X) #computes the eigenvalues and eigenvectors of the covariance matrix and stores them in the respective variables\n",
    "    eigval_list.append(eigvals) #appends the set of eigenvalues to the list created above\n",
    "    \n",
    "#Plot the eigenvalues\n",
    "eig_mat=np.stack(eigval_list, axis=0) #stacks eigenvalue list into an array (dimensions of N x D)\n",
    "dim_eig_mat=np.shape(eig_mat)\n",
    "fig=plt.figure() #creates a figure plot\n",
    "axes=fig.add_subplot(111) #adds x and y axes to the plot\n",
    "for i in range(dim_eig_mat[1]):\n",
    "    axes.plot(radii, eig_mat[:,i]) #plots eigenvalues (y-axis) against each radii value (x-axis) \n",
    "    \n",
    "plt.show()"
   ]
  },
  {
   "cell_type": "markdown",
   "metadata": {},
   "source": [
    "**The Cleaned Up Code (function):"
   ]
  },
  {
   "cell_type": "code",
   "execution_count": 1,
   "metadata": {},
   "outputs": [],
   "source": [
    "def hypersphere(npoints, ndim):\n",
    "    \"\"\"\n",
    "    This function creates samples on a unit sphere in desired dimensions.\n",
    "    It requires the numpy package.\n",
    "    \n",
    "    Parameters:\n",
    "        npoints (int): the number of points to be sampled\n",
    "        ndim (int): the number of dimensions in which the unit sphere will be sampled\n",
    "    \"\"\"\n",
    "    #Import necessary packages\n",
    "    import numpy as np\n",
    "    \n",
    "    vec=np.random.randn(ndim,npoints) #creates a random sample from a Gaussian distribution in the form of an array of dimensions: ndim x npoints\n",
    "    vec/=np.linalg.norm(vec,axis=0) #divides each vector by its norm, which turns each vector into a unit vector (length 1). Here we obtain samples from the unit sphere in the dimension we stated in the beginning of the function.\n",
    "    return(vec)\n",
    "\n",
    "### Function for obtaining eigenvalues while iterating through radii\n",
    "\n",
    "def eigen_calc(cloud,center,radstart,radend,radint):\n",
    "    \"\"\"\n",
    "    Version 1.0\n",
    "    7/14/20\n",
    "    Ryan Robinett\n",
    "    Kyle Ruark\n",
    "    \n",
    "    This function iterates through specidic radii values and performs PCA at the given radius. These PCA values (eigenvalues) are then saved in a multidimensional list which can be used to plot in the function eigen_plot.\n",
    "    Also, this function requires the numpy, random, and scipy packages for proper use.\n",
    "    \n",
    "    Parameters:\n",
    "        cloud (arr): a multidimensional point cloud array that contains the coordinates of the points in the cloud\n",
    "        center (arr): the desired point on which the sphere is centered\n",
    "        radstart (int): the first radius value of the expanding sphere \n",
    "        radend (int): the final value (included) of the expanding spherical radius\n",
    "        radint (int): the interval (step size) at which the radius expands\n",
    "    \"\"\"\n",
    "    #Import necessary packages\n",
    "    import numpy as np\n",
    "    import random\n",
    "    from scipy.spatial import distance\n",
    "    \n",
    "    dim_array=np.shape(cloud) #saves the dimensions of the array\n",
    "    radii=np.arange(radstart,radend+radint,radint) #creates a list of the specified radii values\n",
    "    eigval_list = [] #creates empty list to store eigenvalues\n",
    "    \n",
    "    #Find the points on the hypersphere within each radii\n",
    "    for i in radii: #iterates through each radii value\n",
    "        X=[] #creates an empty array to be filled in with the values on the hypersphere that fall within the ball radii\n",
    "        for j in np.arange(0,dim_array[0]): #iterates through array of index values for each point\n",
    "            if distance.euclidean(cloud[:,j],center)<=i: #selects points whose distance to center is shorter than the length of the radius\n",
    "                X.append(cloud[:,j]) #appends selected points to the array X\n",
    "        X_mat=np.vstack(X) #creates a 'matrix' by vertically stacking the elements of the list\n",
    "        dim_X=np.shape(X_mat) #saves dimensions of matrix for points within the current radius\n",
    "        \n",
    "        #Create the covariance matrix and save eigenvalues for each set X\n",
    "        mean_X=np.mean(X_mat,axis=0) #calculates the mean of X\n",
    "        X_centered= X_mat - mean_X #centers the set X by subtracting the mean from each point\n",
    "        cov_X= 1/dim_X[0] * (X_centered.T @ X_centered) #calculates the covariance of the new centered set\n",
    "        eigvals,eigvecs=np.linalg.eigh(cov_X) #computes the eigenvalues and eigenvectors of the covariance matrix and stores them in the respective variables\n",
    "        eigval_list.append(eigvals) #appends the set of eigenvalues to the list created above\n",
    "        \n",
    "    return(eigval_list)\n",
    "        \n",
    "\n",
    "        \n",
    "### Function for plotting eigenvalues obtained in the above function\n",
    "\n",
    "def eigen_plot(eigval_list):\n",
    "    \"\"\"\n",
    "    Version 1.0\n",
    "    7/14/20\n",
    "    Ryan Robinett\n",
    "    Kyle Ruark\n",
    "    \n",
    "    This function plots the multidimensional eigenvalue list created from the eigen_calc function. X-axis corresponds to the radii value, while the y-axis corresponds to the eigenvalues. Each individual line represents a dimension.\n",
    "    Also, this function requires both the matplotlib and numpy packages.\n",
    "    Run the code: %matplotlib inline, when in jupyter notebook to display the plot in the notebook.\n",
    "    \n",
    "    Parameters:\n",
    "        eigval_list (list): This is a multidimensional list containing eigenvalues at different radii values \n",
    "    \"\"\"\n",
    "    #Import necessary packages\n",
    "    import matplotlib.pyplot as plt\n",
    "    import numpy as np\n",
    "    \n",
    "    #Plot the eigenvalues\n",
    "    radii = np.arange(.1,1.01,.01) #creates an array of radii values to iterate through\n",
    "    eig_mat=np.stack(eigval_list, axis=0) #stacks eigenvalue list into an array (dimensions of N x D)\n",
    "    dim_eig_mat=np.shape(eig_mat) #saves dimensions of the eienvalue matrix for easy access\n",
    "    fig=plt.figure() #creates a figure plot\n",
    "    axes=fig.add_subplot(111) #adds x and y axes to the plot\n",
    "    for i in range(dim_eig_mat[1]): #iterates through the columns (dimensions) of the eigenvalue matrix \n",
    "        axes.plot(radii, eig_mat[:,i]) #plots eigenvalues (y-axis) against each radii value (x-axis) \n",
    "        \n",
    "    return(plt.show())"
   ]
  },
  {
   "cell_type": "code",
   "execution_count": 2,
   "metadata": {
    "scrolled": true
   },
   "outputs": [
    {
     "ename": "TypeError",
     "evalue": "eigen_calc() missing 3 required positional arguments: 'radstart', 'radend', and 'radint'",
     "output_type": "error",
     "traceback": [
      "\u001b[0;31m---------------------------------------------------------------------------\u001b[0m",
      "\u001b[0;31mTypeError\u001b[0m                                 Traceback (most recent call last)",
      "\u001b[0;32m<ipython-input-2-b0a487ba24f1>\u001b[0m in \u001b[0;36m<module>\u001b[0;34m\u001b[0m\n\u001b[0;32m----> 1\u001b[0;31m \u001b[0meigval_list\u001b[0m\u001b[0;34m=\u001b[0m\u001b[0meigen_calc\u001b[0m\u001b[0;34m(\u001b[0m\u001b[0;36m100\u001b[0m\u001b[0;34m,\u001b[0m\u001b[0;36m3\u001b[0m\u001b[0;34m)\u001b[0m\u001b[0;34m\u001b[0m\u001b[0;34m\u001b[0m\u001b[0m\n\u001b[0m\u001b[1;32m      2\u001b[0m \u001b[0meigen_plot\u001b[0m\u001b[0;34m(\u001b[0m\u001b[0meigval_list\u001b[0m\u001b[0;34m)\u001b[0m\u001b[0;34m\u001b[0m\u001b[0;34m\u001b[0m\u001b[0m\n",
      "\u001b[0;31mTypeError\u001b[0m: eigen_calc() missing 3 required positional arguments: 'radstart', 'radend', and 'radint'"
     ]
    }
   ],
   "source": []
  },
  {
   "cell_type": "markdown",
   "metadata": {},
   "source": [
    "<h1>Grocery List for Kyle</h1>\n",
    "<ol>\n",
    "    <li>Migrate code from .ipynb to .py\n",
    "    <ul>\n",
    "        <li>Functions should be in a single file called 'mSVD.py'</li>\n",
    "        <li>A separate file should be used to generate test plots</li>\n",
    "    </ul></li>\n",
    "    <li>Make 'eigen_calc' take in arbitrary point cloud X, arbitrary starting point x, varying radius arguments\n",
    "    <ul>\n",
    "        <li>I want to be able to take an arbitrary point cloud and run mSVD at a single point on it</li>\n",
    "    </ul></li>\n",
    "    <li>Make sure 'eigen_plot' works for higher-dimensional spheres</li>\n",
    "</ol>"
   ]
  },
  {
   "cell_type": "code",
   "execution_count": null,
   "metadata": {},
   "outputs": [],
   "source": [
    "    "
   ]
  }
 ],
 "metadata": {
  "kernelspec": {
   "display_name": "Python 3",
   "language": "python",
   "name": "python3"
  },
  "language_info": {
   "codemirror_mode": {
    "name": "ipython",
    "version": 3
   },
   "file_extension": ".py",
   "mimetype": "text/x-python",
   "name": "python",
   "nbconvert_exporter": "python",
   "pygments_lexer": "ipython3",
   "version": "3.8.0"
  }
 },
 "nbformat": 4,
 "nbformat_minor": 2
}

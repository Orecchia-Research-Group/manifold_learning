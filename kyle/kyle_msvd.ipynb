{
 "cells": [
  {
   "cell_type": "code",
   "execution_count": 1,
   "metadata": {},
   "outputs": [],
   "source": [
    "import numpy as np\n",
    "import random\n",
    "from scipy.spatial import distance\n",
    "\n",
    "n_dimensions=3\n",
    "n_points=100\n",
    "\n",
    "#Create samples on a unit sphere in desired dimensions\n",
    "def hypersphere(npoints, ndim):\n",
    "    np.random.seed(1)\n",
    "    vec=np.random.randn(ndim,npoints) #creates a random sample from a Gaussian distribution in the form of an array of dimensions: ndim x npoints\n",
    "    vec/=np.linalg.norm(vec,axis=0) #divides each vector by its norm, which turns each vector into a unit vector (length 1). Here we obtain samples from the unit sphere in the dimension we stated in the beginning of the function.\n",
    "    return(vec)"
   ]
  },
  {
   "cell_type": "code",
   "execution_count": 2,
   "metadata": {},
   "outputs": [
    {
     "name": "stdout",
     "output_type": "stream",
     "text": [
      "[-0.46457661 -0.85509238 -0.23018598]\n",
      "[ 0.93795301 -0.25818745]\n"
     ]
    }
   ],
   "source": [
    "#Randomly select a point on the hypersphere to be the center of the ball\n",
    "random.seed(1)\n",
    "hsphere=hypersphere(n_points,n_dimensions)\n",
    "dim_array=np.shape(hsphere) #defines the shape of the array\n",
    "rng=random.randint(0,dim_array[1])#pulls random number from 0 to n_points and assign to rng\n",
    "center_ball=hsphere[:,rng] #uses randomly generated number to extract one row of points\n",
    "print(center_ball)\n",
    "print(hsphere[0:2,0])"
   ]
  },
  {
   "cell_type": "code",
   "execution_count": 3,
   "metadata": {},
   "outputs": [],
   "source": [
    "radii = np.arange(.1,1.01,.01) #creates an array of radii values to iterate through\n",
    "\n",
    "#Find the points on the hypersphere within each radii\n",
    "for i in radii: #iteratest through each radii value\n",
    "    X=np.empty([0,dim_array[0]]) #creates an empty array to be filled in with the values on the hypersphere that fall within the ball radii\n",
    "    for j in np.arange(0,n_points): #iterates through array of index values for each point\n",
    "        if distance.euclidean(hsphere[:,j],center_ball)<=i: #selects points whose distance to center is shorter than the length of the radius\n",
    "            if np.shape(X)==(0,dim_array[0]):\n",
    "                X=np.append(X,hsphere[:,j]) #appends first point coordinates to the empty array\n",
    "            else:\n",
    "                X=np.vstack((X,hsphere[:,j])) #vertically stacks subsequent points to the empty array\n",
    "    dim_X=np.shape(X) #saves dimensions of matrix for points within the current radius\n",
    "    #Need to set up covariance matrix within this and perform PCA"
   ]
  },
  {
   "cell_type": "code",
   "execution_count": 4,
   "metadata": {},
   "outputs": [
    {
     "data": {
      "text/plain": [
       "1.921649874320172"
      ]
     },
     "execution_count": 4,
     "metadata": {},
     "output_type": "execute_result"
    }
   ],
   "source": [
    "distance.euclidean(hsphere[:,22],center_ball)"
   ]
  },
  {
   "cell_type": "code",
   "execution_count": 5,
   "metadata": {},
   "outputs": [],
   "source": [
    "x=np.empty([0,3])"
   ]
  },
  {
   "cell_type": "code",
   "execution_count": 6,
   "metadata": {},
   "outputs": [
    {
     "data": {
      "text/plain": [
       "array([[1., 2., 3.]])"
      ]
     },
     "execution_count": 6,
     "metadata": {},
     "output_type": "execute_result"
    }
   ],
   "source": [
    "a=[1,2,3]\n",
    "x=np.vstack((x,a))\n",
    "x"
   ]
  },
  {
   "cell_type": "code",
   "execution_count": 151,
   "metadata": {},
   "outputs": [
    {
     "data": {
      "text/plain": [
       "(0, 3)"
      ]
     },
     "execution_count": 151,
     "metadata": {},
     "output_type": "execute_result"
    }
   ],
   "source": [
    "np.shape(x)"
   ]
  },
  {
   "cell_type": "markdown",
   "metadata": {},
   "source": [
    "<h1>Ryan's Comments</h1>\n",
    "<p>\n",
    "    Hey Kyle! Here's me presenting an idea as to how you could approach the covariance matrix. Let $X_c$ be the set of points within some radius $\\epsilon$ of center point $c$. We assume that $X_c$ consists of $N$ points in $d$ dimensions, and we represent it as a $N\\times d$ matrix.\n",
    "    <br/><br/>\n",
    "    In the block below, I generate $X_c$ as a random $N\\times d$ matrix, just so that the cell below runs.\n",
    "</p>"
   ]
  },
  {
   "cell_type": "code",
   "execution_count": 14,
   "metadata": {},
   "outputs": [
    {
     "name": "stdout",
     "output_type": "stream",
     "text": [
      "(500, 20)\n",
      "[-0.02763406 -0.03523797  0.01091091  0.02743391  0.05306933 -0.04435852\n",
      " -0.0190819   0.02641563  0.04160879 -0.0869273   0.0598225  -0.0144549\n",
      "  0.01147376  0.0520233  -0.0521974   0.01076213  0.07494473 -0.05430685\n",
      "  0.00947868 -0.02640565]\n",
      "(500, 20)\n",
      "(20, 20)\n",
      "[0.61987605 0.7127197  0.73361923 0.76811644 0.80635459 0.81289635\n",
      " 0.84781395 0.87373054 0.93386579 0.95929094 0.98435485 1.0375708\n",
      " 1.06086397 1.1221724  1.16084316 1.17381874 1.21177891 1.26589367\n",
      " 1.2784113  1.33270012]\n"
     ]
    }
   ],
   "source": [
    "# Initialize N, d, X_c\n",
    "N = 500\n",
    "d = 20\n",
    "X_c = np.random.randn(N, d)\n",
    "print(X_c.shape)\n",
    "\n",
    "# Center points at their mean\n",
    "# axis = 0 makes sure that the mean of each column is taken from all rows\n",
    "mean = np.mean(X_c, axis=0)\n",
    "X_cc = X_c - mean\n",
    "\n",
    "# For now, we assume that our data need not be normalized\n",
    "# For 2-dimensional NumPy arrays, \"@\" defaults to the standard matrix product \n",
    "covariance = 1/N * (X_cc.T @ X_cc)\n",
    "\n",
    "# Get eigenvalues and eigenvectors through np.linalg.eigh\n",
    "eigvals, eigvecs = np.linalg.eigh(covariance)\n",
    "\n",
    "# Eigenvalues should be sorted in increasing order\n",
    "print(eigvals)"
   ]
  },
  {
   "cell_type": "code",
   "execution_count": null,
   "metadata": {},
   "outputs": [],
   "source": []
  }
 ],
 "metadata": {
  "kernelspec": {
   "display_name": "Python 3",
   "language": "python",
   "name": "python3"
  },
  "language_info": {
   "codemirror_mode": {
    "name": "ipython",
    "version": 3
   },
   "file_extension": ".py",
   "mimetype": "text/x-python",
   "name": "python",
   "nbconvert_exporter": "python",
   "pygments_lexer": "ipython3",
   "version": "3.6.8"
  }
 },
 "nbformat": 4,
 "nbformat_minor": 2
}

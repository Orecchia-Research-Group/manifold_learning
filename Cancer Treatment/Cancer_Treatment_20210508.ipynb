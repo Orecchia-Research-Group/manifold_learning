{
 "cells": [
  {
   "cell_type": "markdown",
   "metadata": {},
   "source": [
    "Single-cell transcriptional changes associated with\n",
    "drug tolerance and response to combination\n",
    "therapies in cancer\n",
    "https://www.nature.com/articles/s41467-021-21884-z.pdf"
   ]
  },
  {
   "cell_type": "markdown",
   "metadata": {},
   "source": [
    "## Install Packages"
   ]
  },
  {
   "cell_type": "code",
   "execution_count": null,
   "metadata": {},
   "outputs": [],
   "source": [
    "import pandas as pd\n",
    "import numpy as np\n",
    "import matplotlib.pyplot as plt\n",
    "import seaborn as sns\n",
    "from sklearn.decomposition import NMF\n",
    "from numpy import asarray\n",
    "from numpy import savetxt\n",
    "import matplotlib.colors as mcolors\n",
    "import matplotlib.cm\n",
    "import matplotlib.patches as mpatches\n",
    "import umap\n",
    "import matplotlib as mpl\n",
    "import scanpy as sc\n",
    "import scipy\n",
    "import kmapper as km\n",
    "from kmapper import jupyter\n",
    "from kmapper.plotlyviz import plotlyviz\n",
    "from kmapper.plotlyviz import *\n",
    "import plotly.graph_objs as go\n",
    "import sys\n",
    "from sklearn import ensemble\n",
    "import tqdm\n",
    "from ripser import Rips\n",
    "from ripser import ripser\n",
    "from persim import plot_diagrams\n",
    "from sklearn.metrics.pairwise import euclidean_distances\n",
    "import umap\n",
    "from numpy import random\n",
    "from sklearn.decomposition import PCA\n",
    "from sklearn.manifold import LocallyLinearEmbedding\n",
    "from mpl_toolkits import mplot3d"
   ]
  },
  {
   "cell_type": "markdown",
   "metadata": {},
   "source": [
    "## Read in data"
   ]
  },
  {
   "cell_type": "code",
   "execution_count": null,
   "metadata": {},
   "outputs": [],
   "source": [
    "# Untreated\n",
    "untr = pd.read_csv(\"GSM3972657_D0.dge.txt\", sep='\\t', header = 0, index_col = 0)\n",
    "\n",
    "# Erlotinib treated\n",
    "E01 = pd.read_csv(\"GSM3972658_D1.dge.txt\", sep='\\t', header = 0, index_col = 0)\n",
    "E02 = pd.read_csv(\"GSM3972659_D2.dge.txt\", sep='\\t', header = 0, index_col = 0)\n",
    "E04 = pd.read_csv(\"GSM3972659_D4.dge.txt\", sep='\\t', header = 0, index_col = 0)\n",
    "E09 = pd.read_csv(\"GSM3972659_D9.dge.txt\", sep='\\t', header = 0, index_col = 0)\n",
    "E11 = pd.read_csv(\"GSM3972659_D11.dge.txt\", sep='\\t', header = 0, index_col = 0)\n",
    "\n",
    "# Erlotinib treated with break\n",
    "E11_D8 = pd.read_csv(\"GSM3972672_D19DMSO.dge.txt\", sep='\\t', header = 0, index_col = 0)\n",
    "E11_D6_E2 = pd.read_csv(\"GSM3972673_D19_ERL.dge.txt\", sep='\\t', header = 0, index_col = 0)"
   ]
  }
 ],
 "metadata": {
  "kernelspec": {
   "display_name": "Python 3",
   "language": "python",
   "name": "python3"
  },
  "language_info": {
   "codemirror_mode": {
    "name": "ipython",
    "version": 3
   },
   "file_extension": ".py",
   "mimetype": "text/x-python",
   "name": "python",
   "nbconvert_exporter": "python",
   "pygments_lexer": "ipython3",
   "version": "3.7.6"
  }
 },
 "nbformat": 4,
 "nbformat_minor": 4
}

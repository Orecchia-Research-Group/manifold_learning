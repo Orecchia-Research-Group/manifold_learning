{
 "cells": [
  {
   "cell_type": "code",
   "execution_count": 2,
   "metadata": {},
   "outputs": [],
   "source": [
    "#Importing Moving Least Squares Algorithm\n",
    "import numpy as np\n",
    "import scipy \n",
    "import matplotlib.pyplot as plt\n",
    "import math\n",
    "\n",
    "\n",
    "#Defining the weight function\n",
    "def weight(x):\n",
    "    if (x <= -1) or (x >= 1):\n",
    "        return 0\n",
    "    elif (x < -1/2):\n",
    "        return 2*((x+1)**2)\n",
    "    elif (x < 1/2):\n",
    "        return -2*(x**2) + 1\n",
    "    elif (x < 1):\n",
    "        return 2*((x-1)**2)\n",
    "\n",
    "#Defining the weight function scaled by delta\n",
    "def weight_scaled(x,delta):\n",
    "    return weight(x/delta)\n",
    "\n",
    "#Defining the weight function's derivative\n",
    "def dweight(x):\n",
    "    if (x <= -1) or (x >= 1):\n",
    "        return 0\n",
    "    elif (x < -1/2):\n",
    "        return 4*(x+1)\n",
    "    elif (x < 1/2):\n",
    "        return (-4*x)\n",
    "    elif (x < 1):\n",
    "        return 4*(x-1)\n",
    "\n",
    "#Defining the weight function's derivative scaled by delta\n",
    "def dweight_scaled(x,delta):\n",
    "    return dweight(x/delta)\n",
    "\n",
    "#Defining the weight function's second derivative\n",
    "def ddweight(x):\n",
    "    if (x <= -1) or (x >= 1):\n",
    "    \treturn 0\n",
    "    elif (x < -1/2):\n",
    "        return 4\n",
    "    elif (x < 1/2):\n",
    "        return -4\n",
    "    elif (x < 1):\n",
    "        return 4\n",
    "\n",
    "#Defining the weight function's second derivative scaled by delta\n",
    "def ddweight_scaled(x,delta):\n",
    "    return ddweight(x/delta)\n",
    "\n",
    "class C_1_MLS_oracle:\n",
    "\t\"\"\"\n",
    "\tThe purpose of this class is to take a set of points (x_i,y_i)\n",
    "\tfor x_i, y_i in R and to represent the optimal MLS approximant\n",
    "\ts_{f,X} of degree m for these points. It is implicitly assumed\n",
    "\tthat there exists some f such that f(x_i) = y_i for all i\n",
    "\t\"\"\"\n",
    "\tdef __init__(self, points, delta, m=2):\n",
    "\t\t\"\"\"\n",
    "\t\tpoints: set of n (x,y) pairs represented as a n x 2\n",
    "\t\t\tNumPy array\n",
    "\t\tm: the degree for which we require unisolvency (see\n",
    "\t\t\tchapter 4 of Wendland)\n",
    "\t\tdelta: float, represents scaling factor\n",
    "\t\t\"\"\"\n",
    "\t\t# Defining instance variables delta, m, and points\n",
    "\t\tself.m = m\n",
    "\t\tself.delta = delta\n",
    "\t\tself.points = points\n",
    "\n",
    "\t\t# Default value for parameter d\n",
    "\t\tself.d = 0.01\n",
    "\n",
    "\t\t# Calculation of matrix P_complete\n",
    "\t\ttotal_rows = points.shape[1]\n",
    "\t\tP_complete = np.matrix(np.empty(shape=(total_rows,m+1)))\t\t\n",
    "\t\tfor i in range(0,m+1):\n",
    "\t\t\tfor j in range(0, points.shape[1]):\n",
    "\t\t\t\tP_complete[j,i] = points[0,j]**i\n",
    "\n",
    "\t\t# Calculation of matrix F_complete\n",
    "\t\tF_complete = points[1]\n",
    "\n",
    "\t\t#Defining instance variables to be accessed later\n",
    "\t\tself.F = F_complete\n",
    "\t\tself.P = P_complete\n",
    "\n",
    "\tdef eval(self, x):\n",
    "\t\t\"\"\"\n",
    "\t\tGiven a real number x, return the MLS approximant for f\n",
    "\t\tat x.\n",
    "\t\t\"\"\"\n",
    "\t\t#Importing instance variables to use in calculations\n",
    "\t\tm = self.m\n",
    "\t\tdelta = self.delta\n",
    "\t\tpoints = self.points\n",
    "\t\t#d = self.d \n",
    "\t\tF_complete = self.F\n",
    "\t\tP_complete = self.P\n",
    "\n",
    "\t\n",
    "\t\t# Calculation of I_indices, array which includes indices j_0,...,j_n \n",
    "\t\t# Calculation of I_values which includes x_(j_0),...,x_(j_n)\n",
    "\t\tlist = []\n",
    "\t\tI_indices = np.array(list)\n",
    "\t\tI_values = np.array(list)\n",
    "\n",
    "\t\ttotal_rows = points.shape[1]\n",
    "\t\tfor i in range(0, total_rows):\n",
    "\t\t\tif abs(points[0,i] - x) < delta:\n",
    "\t\t\t\tI_indices = np.append(I_indices,i)\n",
    "\t\t\t\tI_values = np.append(I_values,points[0,i])\n",
    "\t\t\n",
    "\t\t#Calculation of #(x), the size of the set I(x)\n",
    "\t\tpound = I_values.shape[0]\n",
    "\t\tif pound==0:\n",
    "\t\t\treturn \"Initial input x is too far from data for this value of delta. No values to compute.\"\n",
    "\n",
    "\t\t# Calculation of matrix R(x)\n",
    "\t\tR = np.empty(shape=(m + 1,1))\n",
    "\t\tfor i in range(0,m + 1):\n",
    "\t\t\tR[i,0]=x**i\n",
    "\t\t\n",
    "\t\t## Calculation of matrix D, diagonal matrix with entries equal\n",
    "\t\t# to weight function evaluated at points in I_values \n",
    "\t\tD = np.matrix(np.zeros(shape=(pound,pound)))\n",
    "\t\tfor i in range(0, pound):\n",
    "\t\t\tD[i,i] = weight_scaled(I_values[i],delta)\n",
    "\t\t\n",
    "\t\tis_all_zero = np.all((D == 0))\n",
    "\t\tif is_all_zero:\n",
    "\t\t\treturn \"Weight function returned all zeroes. Delta is too small.\"\n",
    "\n",
    "\t\tprint(D)\n",
    "\t\t# Slicing matrix P_complete\n",
    "\t\tI_min = np.amin(I_indices)\n",
    "\t\tI_max = np.amax(I_indices)\n",
    "\n",
    "\t\tP = P_complete[int(I_min):int(I_max+1),]\n",
    "\n",
    "\t\t# Slicing matrix F_complete\n",
    "\t\tF = F_complete[int(I_min):int(I_max)+1]\n",
    "\n",
    "\t\t#Calculating the product p*(x)\n",
    "\t\tP_t = np.transpose(P)\n",
    "\t\tprint(P_t)\n",
    "\t\tprint(D)\n",
    "\t\tprint(np.matmul(P_t,D))\n",
    "\t\tinv = np.linalg.inv(np.matmul(np.matmul(P_t,D),P))\n",
    "\t\tprod_1 = np.matmul(np.matmul(np.matmul(F,D), P), inv)\n",
    "\t\tp_star = np.matmul(prod_1,R)\n",
    "\t\treturn p_star[0,0]\n",
    "\t\t\n",
    "\t\n",
    "\n",
    "\tdef slope(self, x):\n",
    "\t\t\"\"\"\n",
    "\t\tGiven a real number x, return the derivative for the MLS\n",
    "\t\tapproximant for f at x.\n",
    "\t\t\"\"\"\n",
    "\t\t#Importing instance variables to use in calculations\n",
    "\t\tm = self.m\n",
    "\t\tdelta = self.delta\n",
    "\t\tpoints = self.points\n",
    "\t\t#d = self.d \n",
    "\t\tF_complete = self.F\n",
    "\t\tP_complete = self.P\n",
    "\n",
    "\t\n",
    "\t\t# Calculation of I_indices, array which includes indices j_0,...,j_n \n",
    "\t\t# Calculation of I_values which includes x_(j_0),...,x_(j_n)\n",
    "\t\tlist = []\n",
    "\t\tI_indices = np.array(list)\n",
    "\t\tI_values = np.array(list)\n",
    "\n",
    "\t\ttotal_rows = points.shape[1]\n",
    "\t\tfor i in range(0, total_rows):\n",
    "\t\t\tif abs(points[0,i] - x) < delta:\n",
    "\t\t\t\tI_indices = np.append(I_indices,i)\n",
    "\t\t\t\tI_values = np.append(I_values,points[0,i])\n",
    "\t\t\n",
    "\t\t#Calculation of #(x), the size of the set I(x)\n",
    "\t\tpound = I_values.shape[0]\n",
    "\t\tif pound==0:\n",
    "\t\t\treturn \"Initial input x is too far from data for this value of delta. No values to compute.\"\n",
    "\n",
    "\t\t# Calculation of matrix R(x)\n",
    "\t\tR = np.empty(shape=(m + 1,1))\n",
    "\t\tfor i in range(0,m + 1):\n",
    "\t\t\tR[i,0]=x**i\n",
    "\t\t\n",
    "\t\t## Calculation of matrix D, diagonal matrix with entries equal\n",
    "\t\t# to weight function evaluated at points in I_values \n",
    "\t\tD = np.matrix(np.zeros(shape=(pound,pound)))\n",
    "\t\tfor i in range(0, pound):\n",
    "\t\t\tD[i,i] = dweight_scaled(I_values[i],delta)\n",
    "\t\t\n",
    "\t\tis_all_zero = np.all((D == 0))\n",
    "\t\tif is_all_zero:\n",
    "\t\t\treturn \"Weight function returned all zeroes. Delta is too small.\"\n",
    "\n",
    "\t\t# Slicing matrix P_complete\n",
    "\t\tI_min = np.amin(I_indices)\n",
    "\t\tI_max = np.amax(I_indices)\n",
    "\n",
    "\t\tP = P_complete[int(I_min):int(I_max+1),]\n",
    "\n",
    "\t\t# Slicing matrix F_complete\n",
    "\t\tF = F_complete[int(I_min):int(I_max)+1]\n",
    "\n",
    "\t\t#Calculating the product p*(x)\n",
    "\t\tP_t = np.transpose(P)\n",
    "\t\tinv = np.linalg.inv(np.matmul(np.matmul(P_t,D),P))\n",
    "\t\tprod_1 = np.matmul(np.matmul(np.matmul(F,D), P), inv)\n",
    "\t\tp_star = np.matmul(prod_1,R)\n",
    "\t\treturn p_star[0,0]\n"
   ]
  },
  {
   "cell_type": "code",
   "execution_count": 4,
   "metadata": {},
   "outputs": [
    {
     "name": "stdout",
     "output_type": "stream",
     "text": [
      "[[0.92 0.   0.   0.  ]\n",
      " [0.   1.   0.   0.  ]\n",
      " [0.   0.   0.92 0.  ]\n",
      " [0.   0.   0.   0.68]]\n",
      "[[ 1.  1.  1.  1.]\n",
      " [-1.  0.  1.  2.]\n",
      " [ 1.  0.  1.  4.]]\n",
      "[[0.92 0.   0.   0.  ]\n",
      " [0.   1.   0.   0.  ]\n",
      " [0.   0.   0.92 0.  ]\n",
      " [0.   0.   0.   0.68]]\n",
      "[[ 0.92  1.    0.92  0.68]\n",
      " [-0.92  0.    0.92  1.36]\n",
      " [ 0.92  0.    0.92  2.72]]\n"
     ]
    },
    {
     "data": {
      "text/plain": [
       "-5.000000000000002"
      ]
     },
     "execution_count": 4,
     "metadata": {},
     "output_type": "execute_result"
    }
   ],
   "source": [
    "a = np.array([-2,-1,0,1,2])\n",
    "b = np.array([0,3,4,3,0])\n",
    "points = np.array([a,b])\n",
    "MLS = C_1_MLS_oracle(points, 5, 2)\n",
    "MLS.eval(3)"
   ]
  },
  {
   "cell_type": "code",
   "execution_count": 128,
   "metadata": {},
   "outputs": [],
   "source": [
    "#Creating initial points\n",
    "a = np.linspace(0,6, 10)\n",
    "b = np.multiply(a,a)\n",
    "points = np.array([a,b])\n",
    "\n",
    "#Instance of MLS Class with degree 2, delta 10\n",
    "MLS = C_1_MLS_oracle(points, 10, 2)"
   ]
  },
  {
   "cell_type": "code",
   "execution_count": 129,
   "metadata": {},
   "outputs": [
    {
     "data": {
      "image/png": "[encoded data removed]",
      "text/plain": [
       "<Figure size 432x288 with 1 Axes>"
      ]
     },
     "metadata": {
      "needs_background": "light"
     },
     "output_type": "display_data"
    }
   ],
   "source": [
    "#Scatterplot of initial points\n",
    "import matplotlib\n",
    "fig=plt.figure()\n",
    "ax=fig.add_axes([0,0,1,1])\n",
    "ax.scatter(a,b, color='r')\n",
    "plt.show()"
   ]
  },
  {
   "cell_type": "code",
   "execution_count": 132,
   "metadata": {},
   "outputs": [
    {
     "data": {
      "text/plain": [
       "[<matplotlib.lines.Line2D at 0x7fdd4faf1d50>]"
      ]
     },
     "execution_count": 132,
     "metadata": {},
     "output_type": "execute_result"
    },
    {
     "data": {
      "image/png": "[encoded data removed]",
      "text/plain": [
       "<Figure size 432x288 with 1 Axes>"
      ]
     },
     "metadata": {
      "needs_background": "light"
     },
     "output_type": "display_data"
    }
   ],
   "source": [
    "#Adding in test points, using approximation\n",
    "c = np.linspace(6,12,100)\n",
    "list = []\n",
    "results = np.array(list)\n",
    "for i in range(0,c.shape[0]):\n",
    "    results= np.append(results,MLS.slope(c[i]))\n",
    "\n",
    "c = np.append(a,c)\n",
    "results = np.append(b,results)\n",
    "\n",
    "#Plotting approximated values(6-12) and original data points (0-6)\n",
    "plt.plot(c,results)"
   ]
  },
  {
   "cell_type": "code",
   "execution_count": 135,
   "metadata": {},
   "outputs": [],
   "source": [
    "#Creating initial points\n",
    "a = np.linspace(0,6, 10)\n",
    "b = np.multiply(np.multiply(a,a),a)\n",
    "points = np.array([a,b])\n",
    "\n",
    "#Instance of MLS Class with degree 3, delta 10\n",
    "MLS = C_1_MLS_oracle(points, 10, 3)"
   ]
  },
  {
   "cell_type": "code",
   "execution_count": 136,
   "metadata": {},
   "outputs": [
    {
     "data": {
      "image/png": "[encoded data removed]",
      "text/plain": [
       "<Figure size 432x288 with 1 Axes>"
      ]
     },
     "metadata": {
      "needs_background": "light"
     },
     "output_type": "display_data"
    }
   ],
   "source": [
    "#Scatterplot of initial points\n",
    "fig=plt.figure()\n",
    "ax=fig.add_axes([0,0,1,1])\n",
    "ax.scatter(a,b, color='r')\n",
    "plt.show()"
   ]
  },
  {
   "cell_type": "code",
   "execution_count": 137,
   "metadata": {},
   "outputs": [
    {
     "data": {
      "text/plain": [
       "[<matplotlib.lines.Line2D at 0x7fdd4fe312d0>]"
      ]
     },
     "execution_count": 137,
     "metadata": {},
     "output_type": "execute_result"
    },
    {
     "data": {
      "image/png": "[encoded data removed]",
      "text/plain": [
       "<Figure size 432x288 with 1 Axes>"
      ]
     },
     "metadata": {
      "needs_background": "light"
     },
     "output_type": "display_data"
    }
   ],
   "source": [
    "#Adding in test points, using approximation\n",
    "c = np.linspace(6,12,100)\n",
    "list = []\n",
    "results = np.array(list)\n",
    "for i in range(0,c.shape[0]):\n",
    "    results= np.append(results,MLS.slope(c[i]))\n",
    "    \n",
    "#Plotting approximated values(6-12) and original data points (0-6)\n",
    "c = np.append(a,c)\n",
    "results = np.append(b,results)\n",
    "plt.plot(c,results)"
   ]
  },
  {
   "cell_type": "code",
   "execution_count": 140,
   "metadata": {},
   "outputs": [],
   "source": [
    "#Creating initial points\n",
    "a = np.linspace(0.1,6, 10)\n",
    "b = np.log(a)\n",
    "points = np.array([a,b])\n",
    "\n",
    "#Instance of MLS Class with degree 1, delta 10\n",
    "MLS = C_1_MLS_oracle(points, 10, 0)"
   ]
  },
  {
   "cell_type": "code",
   "execution_count": 141,
   "metadata": {},
   "outputs": [
    {
     "data": {
      "image/png": "[encoded data removed]",
      "text/plain": [
       "<Figure size 432x288 with 1 Axes>"
      ]
     },
     "metadata": {
      "needs_background": "light"
     },
     "output_type": "display_data"
    }
   ],
   "source": [
    "#Scatterplot of initial points\n",
    "fig=plt.figure()\n",
    "ax=fig.add_axes([0,0,1,1])\n",
    "ax.scatter(a,b, color='r')\n",
    "plt.show()"
   ]
  },
  {
   "cell_type": "code",
   "execution_count": 143,
   "metadata": {},
   "outputs": [
    {
     "data": {
      "text/plain": [
       "[<matplotlib.lines.Line2D at 0x7fdd4ef7f5d0>]"
      ]
     },
     "execution_count": 143,
     "metadata": {},
     "output_type": "execute_result"
    },
    {
     "data": {
      "image/png": "[encoded data removed]",
      "text/plain": [
       "<Figure size 432x288 with 1 Axes>"
      ]
     },
     "metadata": {
      "needs_background": "light"
     },
     "output_type": "display_data"
    }
   ],
   "source": [
    "#Adding in test points, using approximation\n",
    "c = np.linspace(6,12,100)\n",
    "list = []\n",
    "results = np.array(list)\n",
    "for i in range(0,c.shape[0]):\n",
    "    results= np.append(results,MLS.slope(c[i]))\n",
    "\n",
    "#Plotting approximated values(6-12) and original data points (0-6)\n",
    "c = np.append(a,c)\n",
    "results = np.append(b,results)\n",
    "plt.plot(c,results)"
   ]
  },
  {
   "cell_type": "code",
   "execution_count": 145,
   "metadata": {},
   "outputs": [],
   "source": [
    "#Creating initial points\n",
    "a = np.linspace(0,6, 20)\n",
    "b = np.exp2(a)\n",
    "points = np.array([a,b])\n",
    "\n",
    "#Instance of MLS Class with degree 4, delta 10\n",
    "MLS = C_1_MLS_oracle(points, 10, 4)"
   ]
  },
  {
   "cell_type": "code",
   "execution_count": 146,
   "metadata": {},
   "outputs": [
    {
     "data": {
      "image/png": "[encoded data removed]",
      "text/plain": [
       "<Figure size 432x288 with 1 Axes>"
      ]
     },
     "metadata": {
      "needs_background": "light"
     },
     "output_type": "display_data"
    }
   ],
   "source": [
    "#Scatterplot of initial points\n",
    "fig=plt.figure()\n",
    "ax=fig.add_axes([0,0,1,1])\n",
    "ax.scatter(a,b, color='r')\n",
    "plt.show()"
   ]
  },
  {
   "cell_type": "code",
   "execution_count": 147,
   "metadata": {},
   "outputs": [
    {
     "data": {
      "text/plain": [
       "[<matplotlib.lines.Line2D at 0x7fdd4db3a450>]"
      ]
     },
     "execution_count": 147,
     "metadata": {},
     "output_type": "execute_result"
    },
    {
     "data": {
      "image/png": "[encoded data removed]",
      "text/plain": [
       "<Figure size 432x288 with 1 Axes>"
      ]
     },
     "metadata": {
      "needs_background": "light"
     },
     "output_type": "display_data"
    }
   ],
   "source": [
    "#Adding in test points, using approximation\n",
    "c = np.linspace(6,12,100)\n",
    "list = []\n",
    "results = np.array(list)\n",
    "for i in range(0,c.shape[0]):\n",
    "    results= np.append(results,MLS.slope(c[i]))\n",
    "    \n",
    "#Plotting approximated values(6-12) and original data points (0-6)\n",
    "c = np.append(a,c)\n",
    "results = np.append(b,results)\n",
    "plt.plot(c,results)"
   ]
  },
  {
   "cell_type": "code",
   "execution_count": null,
   "metadata": {},
   "outputs": [],
   "source": []
  }
 ],
 "metadata": {
  "kernelspec": {
   "display_name": "Python 3",
   "language": "python",
   "name": "python3"
  },
  "language_info": {
   "codemirror_mode": {
    "name": "ipython",
    "version": 3
   },
   "file_extension": ".py",
   "mimetype": "text/x-python",
   "name": "python",
   "nbconvert_exporter": "python",
   "pygments_lexer": "ipython3",
   "version": "3.7.6"
  }
 },
 "nbformat": 4,
 "nbformat_minor": 4
}

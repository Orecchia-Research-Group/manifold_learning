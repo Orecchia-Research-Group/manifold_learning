{
 "cells": [
  {
   "cell_type": "code",
   "execution_count": 1,
   "metadata": {},
   "outputs": [],
   "source": [
    "import numpy as np\n",
    "from manifold_utils.mSVD import hypersphere, eigen_plot, eigen_calc_from_dist_mat\n",
    "from sklearn.metrics.pairwise import euclidean_distances"
   ]
  },
  {
   "cell_type": "code",
   "execution_count": 6,
   "metadata": {},
   "outputs": [],
   "source": [
    "Patches = np.load('Denoised3x3Patches.npy')\n",
    "dist_mat = euclidean_distances(Patches)"
   ]
  },
  {
   "cell_type": "code",
   "execution_count": null,
   "metadata": {},
   "outputs": [],
   "source": [
    "#Plot the radii vs eigvalues value for a center point\n",
    "cid = 5000\n",
    "radii, eigval_list, eigvec_list = eigen_calc_from_dist_mat(Patches, dist_mat, cid, radint = .01)\n",
    "rmin = radii[0]\n",
    "rmax = radii[-1]\n",
    "eigen_plot(eigval_list, radii, rmin, rmax)"
   ]
  },
  {
   "cell_type": "code",
   "execution_count": 4,
   "metadata": {},
   "outputs": [],
   "source": [
    "from combined_mls_pca import mls_pca\n",
    "from PatchExtractTools import fnameFix"
   ]
  },
  {
   "cell_type": "code",
   "execution_count": 29,
   "metadata": {},
   "outputs": [],
   "source": [
    "def SaveLocalPCAs(cloud, cids, k, dist_mat):\n",
    "    for cid in cids:\n",
    "        data = np.array(mls_pca(cloud, cid, k, radint = .01, iter=False, dist=dist_mat), dtype=object)\n",
    "        fn = 'mls_pca_natural_images_data\\cid=' + fnameFix(str(cid))\n",
    "        np.save(fn, data)\n",
    "        \n",
    "#select random center points\n",
    "num_cids = 100\n",
    "cids = np.random.choice(np.arange(Patches.shape[0]), size=num_cids)\n",
    "#intrinsic dimensionality\n",
    "k = 2\n",
    "#save ensembles of hyperplanes\n",
    "SaveLocalPCAs(Patches, cids, k, dist_mat)\n",
    "\n"
   ]
  },
  {
   "cell_type": "code",
   "execution_count": 23,
   "metadata": {},
   "outputs": [
    {
     "name": "stdout",
     "output_type": "stream",
     "text": [
      "[[-2.48563474e-19 -2.81963013e-20 -1.89790241e-20 ...  1.84603577e-05\n",
      "   2.59288147e-04  2.42724787e-03]\n",
      " [-5.23648624e-20 -1.86091039e-20 -1.76535477e-21 ...  1.96004772e-05\n",
      "   3.72384956e-04  2.27709168e-03]\n",
      " [-1.26002196e-20  2.07734917e-20  1.65871713e-06 ...  3.01276779e-04\n",
      "   9.58475521e-04  3.50956136e-03]\n",
      " ...\n",
      " [ 1.22330700e-05  9.93504657e-05  5.93955906e-04 ...  2.05528538e-01\n",
      "   2.78172004e-01  7.30803659e-01]\n",
      " [ 1.22330700e-05  9.93504657e-05  5.93955906e-04 ...  2.05528538e-01\n",
      "   2.78172004e-01  7.30803659e-01]\n",
      " [ 1.22330700e-05  9.93504657e-05  5.93955906e-04 ...  2.05528538e-01\n",
      "   2.78172004e-01  7.30803659e-01]]\n"
     ]
    }
   ],
   "source": [
    "#read a sample data\n",
    "dataread = np.load('mls_pca_natural_images_data\\cid=05000.npy', allow_pickle=True)"
   ]
  }
 ],
 "metadata": {
  "kernelspec": {
   "display_name": "Python 3",
   "language": "python",
   "name": "python3"
  },
  "language_info": {
   "codemirror_mode": {
    "name": "ipython",
    "version": 3
   },
   "file_extension": ".py",
   "mimetype": "text/x-python",
   "name": "python",
   "nbconvert_exporter": "python",
   "pygments_lexer": "ipython3",
   "version": "3.7.4"
  }
 },
 "nbformat": 4,
 "nbformat_minor": 4
}
